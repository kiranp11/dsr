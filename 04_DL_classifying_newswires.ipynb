{
 "cells": [
  {
   "cell_type": "markdown",
   "metadata": {},
   "source": [
    "If the accuracy graph is not steep, increase the learning rate to speed up the learning\n",
    "\n",
    "If the model is overfitting, reduce the size of the net by\n",
    "1. reducing the number of layers\n",
    "2. reducing the number of epocs\n"
   ]
  },
  {
   "cell_type": "code",
   "execution_count": 1,
   "metadata": {},
   "outputs": [
    {
     "name": "stderr",
     "output_type": "stream",
     "text": [
      "Using TensorFlow backend.\n"
     ]
    }
   ],
   "source": [
    "from keras.datasets import reuters\n",
    "from keras import models, layers, optimizers, losses, metrics\n",
    "import matplotlib.pyplot as plt\n",
    "import numpy as np"
   ]
  },
  {
   "cell_type": "code",
   "execution_count": 2,
   "metadata": {},
   "outputs": [],
   "source": [
    "(train_data,train_labels), (test_data,test_labels)=reuters.load_data(num_words=10000)"
   ]
  },
  {
   "cell_type": "code",
   "execution_count": 3,
   "metadata": {},
   "outputs": [
    {
     "name": "stdout",
     "output_type": "stream",
     "text": [
      "(8982,)\n",
      "(8982,)\n",
      "[1, 2, 2, 8, 43, 10, 447, 5, 25, 207, 270, 5, 3095, 111, 16, 369, 186, 90, 67, 7, 89, 5, 19, 102, 6, 19, 124, 15, 90, 67, 84, 22, 482, 26, 7, 48, 4, 49, 8, 864, 39, 209, 154, 6, 151, 6, 83, 11, 15, 22, 155, 11, 15, 7, 48, 9, 4579, 1005, 504, 6, 258, 6, 272, 11, 15, 22, 134, 44, 11, 15, 16, 8, 197, 1245, 90, 67, 52, 29, 209, 30, 32, 132, 6, 109, 15, 17, 12]\n",
      "3\n",
      "(2246,)\n",
      "(2246,)\n",
      "[1, 4, 1378, 2025, 9, 697, 4622, 111, 8, 25, 109, 29, 3650, 11, 150, 244, 364, 33, 30, 30, 1398, 333, 6, 2, 159, 9, 1084, 363, 13, 2, 71, 9, 2, 71, 117, 4, 225, 78, 206, 10, 9, 1214, 8, 4, 270, 5, 2, 7, 748, 48, 9, 2, 7, 207, 1451, 966, 1864, 793, 97, 133, 336, 7, 4, 493, 98, 273, 104, 284, 25, 39, 338, 22, 905, 220, 3465, 644, 59, 20, 6, 119, 61, 11, 15, 58, 579, 26, 10, 67, 7, 4, 738, 98, 43, 88, 333, 722, 12, 20, 6, 19, 746, 35, 15, 10, 9, 1214, 855, 129, 783, 21, 4, 2280, 244, 364, 51, 16, 299, 452, 16, 515, 4, 99, 29, 5, 4, 364, 281, 48, 10, 9, 1214, 23, 644, 47, 20, 324, 27, 56, 2, 2, 5, 192, 510, 17, 12]\n",
      "0\n"
     ]
    }
   ],
   "source": [
    "print(train_data.shape)\n",
    "print(train_labels.shape)\n",
    "print(train_data[0])\n",
    "print(train_labels[0])\n",
    "\n",
    "print(test_data.shape)\n",
    "print(test_labels.shape)\n",
    "\n",
    "print(test_data[0])\n",
    "print(min(test_labels))"
   ]
  },
  {
   "cell_type": "code",
   "execution_count": 4,
   "metadata": {},
   "outputs": [
    {
     "name": "stdout",
     "output_type": "stream",
     "text": [
      "56\n",
      "139\n",
      "<class 'list'>\n"
     ]
    }
   ],
   "source": [
    "print(len(train_data[1])) #input length are not the same\n",
    "print(len(train_data[2]))\n",
    "print(type(train_data[2]))"
   ]
  },
  {
   "cell_type": "code",
   "execution_count": 5,
   "metadata": {},
   "outputs": [],
   "source": [
    "word_index = reuters.get_word_index()"
   ]
  },
  {
   "cell_type": "code",
   "execution_count": 6,
   "metadata": {},
   "outputs": [
    {
     "name": "stdout",
     "output_type": "stream",
     "text": [
      "? generale de banque sa lt ? br and lt heller overseas corp of chicago have each taken 50 pct stakes in ? company sa ? factors generale de banque said in a statement it gave no financial details of the transaction sa ? ? turnover in 1986 was 17 5 billion belgian francs reuter 3\n",
      "4\n"
     ]
    }
   ],
   "source": [
    "reverse_word_index=dict([(value,key) for key, value in word_index.items()])\n",
    "sample_index = 1\n",
    "decoded_review = \" \".join([reverse_word_index.get(i - 3, \"?\") for i in train_data[sample_index]])\n",
    "print(decoded_review)\n",
    "print(train_labels[sample_index])"
   ]
  },
  {
   "cell_type": "code",
   "execution_count": 7,
   "metadata": {},
   "outputs": [],
   "source": [
    "def vectorize_sequences(sequences, dimension=10000):\n",
    "    results = np.zeros((len(sequences), dimension))\n",
    "    for i, sequence in enumerate(sequences):\n",
    "        results[i, sequence] = 1\n",
    "    return results\n",
    "\n",
    "x_train = vectorize_sequences(train_data)\n",
    "x_test = vectorize_sequences(test_data)\n",
    "\n",
    "y_train = np.asarray(train_labels).astype(\"float32\")\n",
    "y_test = np.asarray(test_labels).astype(\"float32\")"
   ]
  },
  {
   "cell_type": "code",
   "execution_count": 8,
   "metadata": {},
   "outputs": [
    {
     "name": "stdout",
     "output_type": "stream",
     "text": [
      "[0. 1. 1. ... 0. 0. 0.]\n",
      "3.0\n",
      "(8982, 10000)\n"
     ]
    }
   ],
   "source": [
    "print(x_train[0])\n",
    "print(y_train[0])\n",
    "\n",
    "print(x_train.shape)"
   ]
  },
  {
   "cell_type": "code",
   "execution_count": 9,
   "metadata": {},
   "outputs": [],
   "source": [
    "x_val = x_train[7000:]\n",
    "partial_x_train=x_train[:7000]\n",
    "\n",
    "y_val = y_train[7000:]\n",
    "partial_y_train=y_train[:7000]"
   ]
  },
  {
   "cell_type": "code",
   "execution_count": 10,
   "metadata": {},
   "outputs": [
    {
     "name": "stdout",
     "output_type": "stream",
     "text": [
      "(1982, 10000) (7000, 10000)\n"
     ]
    }
   ],
   "source": [
    "print(x_val.shape, partial_x_train.shape)"
   ]
  },
  {
   "cell_type": "code",
   "execution_count": 11,
   "metadata": {},
   "outputs": [
    {
     "name": "stdout",
     "output_type": "stream",
     "text": [
      "_________________________________________________________________\n",
      "Layer (type)                 Output Shape              Param #   \n",
      "=================================================================\n",
      "dense_1 (Dense)              (None, 92)                920092    \n",
      "_________________________________________________________________\n",
      "dense_2 (Dense)              (None, 46)                4278      \n",
      "=================================================================\n",
      "Total params: 924,370\n",
      "Trainable params: 924,370\n",
      "Non-trainable params: 0\n",
      "_________________________________________________________________\n"
     ]
    }
   ],
   "source": [
    "model = models.Sequential()\n",
    "\n",
    "model.add(layers.Dense(units=92, activation=\"tanh\", input_shape=(10000,)))\n",
    "# model.add(layers.Dense(units=16, activation=\"tanh\", input_shape=(10000,)))\n",
    "# model.add(layers.Dense(units=512, activation=\"tanh\"))\n",
    "model.add(layers.Dense(units=46, activation=\"softmax\"))\n",
    "\n",
    "model.summary()\n",
    "\n",
    "# model.compile(optimizer=optimizers.RMSprop(lr=0.0001),\n",
    "#               loss= losses.binary_crossentropy,\n",
    "#               metrics=[metrics.binary_accuracy]\n",
    "#              )\n",
    "\n",
    "model.compile(optimizer=\"rmsprop\",\n",
    "              loss= losses.sparse_categorical_crossentropy,\n",
    "              metrics=[\"accuracy\"]\n",
    "             )"
   ]
  },
  {
   "cell_type": "code",
   "execution_count": 12,
   "metadata": {},
   "outputs": [
    {
     "name": "stdout",
     "output_type": "stream",
     "text": [
      "Train on 7000 samples, validate on 1982 samples\n",
      "Epoch 1/8\n",
      "7000/7000 [==============================] - 1s 168us/step - loss: 1.9460 - acc: 0.6161 - val_loss: 1.3171 - val_acc: 0.7281\n",
      "Epoch 2/8\n",
      "7000/7000 [==============================] - 1s 119us/step - loss: 1.0246 - acc: 0.7834 - val_loss: 1.0415 - val_acc: 0.7765\n",
      "Epoch 3/8\n",
      "7000/7000 [==============================] - 1s 118us/step - loss: 0.6967 - acc: 0.8677 - val_loss: 0.9271 - val_acc: 0.8032\n",
      "Epoch 4/8\n",
      "7000/7000 [==============================] - 1s 119us/step - loss: 0.4924 - acc: 0.9086 - val_loss: 0.8592 - val_acc: 0.8138\n",
      "Epoch 5/8\n",
      "7000/7000 [==============================] - 1s 119us/step - loss: 0.3582 - acc: 0.9337 - val_loss: 0.8292 - val_acc: 0.8174\n",
      "Epoch 6/8\n",
      "7000/7000 [==============================] - 1s 119us/step - loss: 0.2690 - acc: 0.9464 - val_loss: 0.8332 - val_acc: 0.8189\n",
      "Epoch 7/8\n",
      "7000/7000 [==============================] - 1s 121us/step - loss: 0.2098 - acc: 0.9544 - val_loss: 0.8265 - val_acc: 0.8229\n",
      "Epoch 8/8\n",
      "7000/7000 [==============================] - 1s 125us/step - loss: 0.1697 - acc: 0.9564 - val_loss: 0.8347 - val_acc: 0.8204\n"
     ]
    }
   ],
   "source": [
    "history = model.fit(\n",
    "    partial_x_train, partial_y_train,\n",
    "    epochs=8,\n",
    "    batch_size=250,\n",
    "    validation_data=(x_val,y_val)\n",
    ")"
   ]
  },
  {
   "cell_type": "code",
   "execution_count": 13,
   "metadata": {},
   "outputs": [
    {
     "data": {
      "image/png": "[encoded data removed]",
      "text/plain": [
       "<Figure size 432x288 with 1 Axes>"
      ]
     },
     "metadata": {},
     "output_type": "display_data"
    },
    {
     "data": {
      "image/png": "[encoded data removed]",
      "text/plain": [
       "<Figure size 432x288 with 1 Axes>"
      ]
     },
     "metadata": {},
     "output_type": "display_data"
    }
   ],
   "source": [
    "def plot_history(history):\n",
    "    plt.plot(history[\"acc\"], label=\"acc\")\n",
    "    plt.plot(history[\"val_acc\"], label=\"val_acc\")\n",
    "    plt.legend()\n",
    "    plt.show()\n",
    "    plt.close()\n",
    "    \n",
    "    plt.plot(history[\"loss\"], label=\"loss\")\n",
    "    plt.plot(history[\"val_loss\"], label=\"val_loss\")\n",
    "    plt.legend()\n",
    "    plt.show()\n",
    "    plt.close()\n",
    "\n",
    "plot_history(history.history)"
   ]
  },
  {
   "cell_type": "code",
   "execution_count": 14,
   "metadata": {},
   "outputs": [
    {
     "name": "stdout",
     "output_type": "stream",
     "text": [
      "2246/2246 [==============================] - 0s 136us/step\n"
     ]
    }
   ],
   "source": [
    "test_loss, test_acc = model.evaluate(x_test, y_test)"
   ]
  },
  {
   "cell_type": "code",
   "execution_count": 15,
   "metadata": {},
   "outputs": [
    {
     "name": "stdout",
     "output_type": "stream",
     "text": [
      "0.8745702353313578 0.807212822796082\n"
     ]
    }
   ],
   "source": [
    "print(test_loss, test_acc)"
   ]
  }
 ],
 "metadata": {
  "kernelspec": {
   "display_name": "Python 3",
   "language": "python",
   "name": "python3"
  },
  "language_info": {
   "codemirror_mode": {
    "name": "ipython",
    "version": 3
   },
   "file_extension": ".py",
   "mimetype": "text/x-python",
   "name": "python",
   "nbconvert_exporter": "python",
   "pygments_lexer": "ipython3",
   "version": "3.6.5"
  }
 },
 "nbformat": 4,
 "nbformat_minor": 2
}
