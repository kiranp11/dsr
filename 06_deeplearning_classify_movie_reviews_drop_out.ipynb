{
 "cells": [
  {
   "cell_type": "code",
   "execution_count": 65,
   "metadata": {},
   "outputs": [],
   "source": [
    "%matplotlib inline\n",
    "from keras.datasets import imdb\n",
    "from keras import models, layers, optimizers, losses, metrics\n",
    "import matplotlib.pyplot as plt\n",
    "import numpy as np"
   ]
  },
  {
   "cell_type": "code",
   "execution_count": 66,
   "metadata": {},
   "outputs": [],
   "source": [
    "(train_data,train_labels), (test_data,test_labels) = imdb.load_data(num_words=10000)"
   ]
  },
  {
   "cell_type": "code",
   "execution_count": 67,
   "metadata": {},
   "outputs": [
    {
     "name": "stdout",
     "output_type": "stream",
     "text": [
      "(25000,)\n",
      "(25000,)\n",
      "[1, 14, 22, 16, 43, 530, 973, 1622, 1385, 65, 458, 4468, 66, 3941, 4, 173, 36, 256, 5, 25, 100, 43, 838, 112, 50, 670, 2, 9, 35, 480, 284, 5, 150, 4, 172, 112, 167, 2, 336, 385, 39, 4, 172, 4536, 1111, 17, 546, 38, 13, 447, 4, 192, 50, 16, 6, 147, 2025, 19, 14, 22, 4, 1920, 4613, 469, 4, 22, 71, 87, 12, 16, 43, 530, 38, 76, 15, 13, 1247, 4, 22, 17, 515, 17, 12, 16, 626, 18, 2, 5, 62, 386, 12, 8, 316, 8, 106, 5, 4, 2223, 5244, 16, 480, 66, 3785, 33, 4, 130, 12, 16, 38, 619, 5, 25, 124, 51, 36, 135, 48, 25, 1415, 33, 6, 22, 12, 215, 28, 77, 52, 5, 14, 407, 16, 82, 2, 8, 4, 107, 117, 5952, 15, 256, 4, 2, 7, 3766, 5, 723, 36, 71, 43, 530, 476, 26, 400, 317, 46, 7, 4, 2, 1029, 13, 104, 88, 4, 381, 15, 297, 98, 32, 2071, 56, 26, 141, 6, 194, 7486, 18, 4, 226, 22, 21, 134, 476, 26, 480, 5, 144, 30, 5535, 18, 51, 36, 28, 224, 92, 25, 104, 4, 226, 65, 16, 38, 1334, 88, 12, 16, 283, 5, 16, 4472, 113, 103, 32, 15, 16, 5345, 19, 178, 32]\n",
      "1\n",
      "(25000,)\n",
      "(25000,)\n",
      "[1, 591, 202, 14, 31, 6, 717, 10, 10, 2, 2, 5, 4, 360, 7, 4, 177, 5760, 394, 354, 4, 123, 9, 1035, 1035, 1035, 10, 10, 13, 92, 124, 89, 488, 7944, 100, 28, 1668, 14, 31, 23, 27, 7479, 29, 220, 468, 8, 124, 14, 286, 170, 8, 157, 46, 5, 27, 239, 16, 179, 2, 38, 32, 25, 7944, 451, 202, 14, 6, 717]\n",
      "0\n"
     ]
    }
   ],
   "source": [
    "print(train_data.shape)\n",
    "print(train_labels.shape)\n",
    "print(train_data[0])\n",
    "print(train_labels[0])\n",
    "\n",
    "print(test_data.shape)\n",
    "print(test_labels.shape)\n",
    "\n",
    "print(test_data[0])\n",
    "print(test_labels[0])"
   ]
  },
  {
   "cell_type": "code",
   "execution_count": 68,
   "metadata": {},
   "outputs": [
    {
     "name": "stdout",
     "output_type": "stream",
     "text": [
      "189\n",
      "141\n",
      "<class 'list'>\n"
     ]
    }
   ],
   "source": [
    "print(len(train_data[1])) #input length are not the same\n",
    "print(len(train_data[2]))\n",
    "print(type(train_data[2]))"
   ]
  },
  {
   "cell_type": "code",
   "execution_count": 69,
   "metadata": {},
   "outputs": [],
   "source": [
    "word_index = imdb.get_word_index()"
   ]
  },
  {
   "cell_type": "code",
   "execution_count": 70,
   "metadata": {},
   "outputs": [
    {
     "name": "stdout",
     "output_type": "stream",
     "text": [
      "? big hair big boobs bad music and a giant safety pin these are the words to best describe this terrible movie i love cheesy horror movies and i've seen hundreds but this had got to be on of the worst ever made the plot is paper thin and ridiculous the acting is an abomination the script is completely laughable the best is the end showdown with the cop and how he worked out who the killer is it's just so damn terribly written the clothes are sickening and funny in equal ? the hair is big lots of boobs ? men wear those cut ? shirts that show off their ? sickening that men actually wore them and the music is just ? trash that plays over and over again in almost every scene there is trashy music boobs and ? taking away bodies and the gym still doesn't close for ? all joking aside this is a truly bad film whose only charm is to look back on the disaster that was the 80's and have a good old laugh at how bad everything was back then\n",
      "0\n"
     ]
    }
   ],
   "source": [
    "reverse_word_index=dict([(value,key) for key, value in word_index.items()])\n",
    "sample_index = 1\n",
    "decoded_review = \" \".join([reverse_word_index.get(i - 3, \"?\") for i in train_data[sample_index]])\n",
    "print(decoded_review)\n",
    "print(train_labels[sample_index])"
   ]
  },
  {
   "cell_type": "code",
   "execution_count": 71,
   "metadata": {},
   "outputs": [],
   "source": [
    "def vectorize_sequences(sequences, dimension=10000):\n",
    "    results = np.zeros((len(sequences), dimension))\n",
    "    for i, sequence in enumerate(sequences):\n",
    "        results[i, sequence] = 1\n",
    "    return results\n",
    "\n",
    "x_train = vectorize_sequences(train_data)\n",
    "x_test = vectorize_sequences(test_data)\n",
    "\n",
    "y_train = np.asarray(train_labels).astype(\"float32\")\n",
    "y_test = np.asarray(test_labels).astype(\"float32\")"
   ]
  },
  {
   "cell_type": "code",
   "execution_count": 72,
   "metadata": {},
   "outputs": [
    {
     "name": "stdout",
     "output_type": "stream",
     "text": [
      "[0. 1. 1. ... 0. 0. 0.]\n",
      "1.0\n",
      "(25000, 10000)\n"
     ]
    }
   ],
   "source": [
    "print(x_train[0])\n",
    "print(y_train[0])\n",
    "\n",
    "print(x_train.shape)"
   ]
  },
  {
   "cell_type": "code",
   "execution_count": 73,
   "metadata": {},
   "outputs": [],
   "source": [
    "x_val = x_train[:10000]\n",
    "partial_x_train=x_train[10000:]\n",
    "\n",
    "y_val = y_train[:10000]\n",
    "partial_y_train=y_train[10000:]"
   ]
  },
  {
   "cell_type": "code",
   "execution_count": 74,
   "metadata": {},
   "outputs": [
    {
     "name": "stdout",
     "output_type": "stream",
     "text": [
      "(10000, 10000) (15000, 10000)\n"
     ]
    }
   ],
   "source": [
    "print(x_val.shape, partial_x_train.shape)"
   ]
  },
  {
   "cell_type": "code",
   "execution_count": 75,
   "metadata": {},
   "outputs": [
    {
     "name": "stdout",
     "output_type": "stream",
     "text": [
      "_________________________________________________________________\n",
      "Layer (type)                 Output Shape              Param #   \n",
      "=================================================================\n",
      "dense_13 (Dense)             (None, 16)                160016    \n",
      "_________________________________________________________________\n",
      "dropout_9 (Dropout)          (None, 16)                0         \n",
      "_________________________________________________________________\n",
      "dense_14 (Dense)             (None, 16)                272       \n",
      "_________________________________________________________________\n",
      "dropout_10 (Dropout)         (None, 16)                0         \n",
      "_________________________________________________________________\n",
      "dense_15 (Dense)             (None, 1)                 17        \n",
      "=================================================================\n",
      "Total params: 160,305\n",
      "Trainable params: 160,305\n",
      "Non-trainable params: 0\n",
      "_________________________________________________________________\n"
     ]
    }
   ],
   "source": [
    "model = models.Sequential()\n",
    "\n",
    "\n",
    "model.add(layers.Dense(units=16, activation=\"relu\", input_shape=(10000,)))\n",
    "model.add(layers.Dropout(0.5))\n",
    "model.add(layers.Dense(units=16, activation=\"relu\", input_shape=(10000,)))\n",
    "model.add(layers.Dropout(0.5))\n",
    "# model.add(layers.Dense(units=16, activation=\"relu\"))\n",
    "model.add(layers.Dense(units=1, activation=\"sigmoid\"))\n",
    "\n",
    "model.summary()\n",
    "\n",
    "# model.compile(optimizer=optimizers.RMSprop(lr=0.0001),\n",
    "#               loss= losses.binary_crossentropy,\n",
    "#               metrics=[metrics.binary_accuracy]\n",
    "#              )\n",
    "\n",
    "model.compile(optimizer=\"rmsprop\",\n",
    "              loss= \"mse\",\n",
    "              metrics=[\"accuracy\"]\n",
    "             )"
   ]
  },
  {
   "cell_type": "code",
   "execution_count": 76,
   "metadata": {},
   "outputs": [
    {
     "name": "stdout",
     "output_type": "stream",
     "text": [
      "Train on 15000 samples, validate on 10000 samples\n",
      "Epoch 1/25\n",
      "15000/15000 [==============================] - 2s 143us/step - loss: 0.2208 - acc: 0.6444 - val_loss: 0.1790 - val_acc: 0.8411\n",
      "Epoch 2/25\n",
      "15000/15000 [==============================] - 1s 94us/step - loss: 0.1768 - acc: 0.7693 - val_loss: 0.1399 - val_acc: 0.8627\n",
      "Epoch 3/25\n",
      "15000/15000 [==============================] - 1s 93us/step - loss: 0.1486 - acc: 0.8185 - val_loss: 0.1158 - val_acc: 0.8781\n",
      "Epoch 4/25\n",
      "15000/15000 [==============================] - 1s 94us/step - loss: 0.1284 - acc: 0.8575 - val_loss: 0.1011 - val_acc: 0.8868\n",
      "Epoch 5/25\n",
      "15000/15000 [==============================] - 1s 94us/step - loss: 0.1115 - acc: 0.8843 - val_loss: 0.0930 - val_acc: 0.8903\n",
      "Epoch 6/25\n",
      "15000/15000 [==============================] - 1s 94us/step - loss: 0.0982 - acc: 0.9043 - val_loss: 0.0875 - val_acc: 0.8886\n",
      "Epoch 7/25\n",
      "15000/15000 [==============================] - 1s 97us/step - loss: 0.0855 - acc: 0.9202 - val_loss: 0.0860 - val_acc: 0.8882\n",
      "Epoch 8/25\n",
      "15000/15000 [==============================] - 1s 98us/step - loss: 0.0761 - acc: 0.9297 - val_loss: 0.0854 - val_acc: 0.8870\n",
      "Epoch 9/25\n",
      "15000/15000 [==============================] - 2s 103us/step - loss: 0.0675 - acc: 0.9395 - val_loss: 0.0851 - val_acc: 0.8881\n",
      "Epoch 10/25\n",
      "15000/15000 [==============================] - 1s 97us/step - loss: 0.0582 - acc: 0.9485 - val_loss: 0.0852 - val_acc: 0.8881\n",
      "Epoch 11/25\n",
      "15000/15000 [==============================] - 1s 93us/step - loss: 0.0521 - acc: 0.9515 - val_loss: 0.0870 - val_acc: 0.8866\n",
      "Epoch 12/25\n",
      "15000/15000 [==============================] - 1s 96us/step - loss: 0.0450 - acc: 0.9587 - val_loss: 0.0888 - val_acc: 0.8835\n",
      "Epoch 13/25\n",
      "15000/15000 [==============================] - 1s 92us/step - loss: 0.0408 - acc: 0.9617 - val_loss: 0.0903 - val_acc: 0.8834\n",
      "Epoch 14/25\n",
      "15000/15000 [==============================] - 2s 104us/step - loss: 0.0358 - acc: 0.9676 - val_loss: 0.0915 - val_acc: 0.8832\n",
      "Epoch 15/25\n",
      "15000/15000 [==============================] - 1s 95us/step - loss: 0.0318 - acc: 0.9706 - val_loss: 0.0931 - val_acc: 0.8827\n",
      "Epoch 16/25\n",
      "15000/15000 [==============================] - 2s 101us/step - loss: 0.0298 - acc: 0.9725 - val_loss: 0.0949 - val_acc: 0.8827\n",
      "Epoch 17/25\n",
      "15000/15000 [==============================] - 1s 97us/step - loss: 0.0284 - acc: 0.9718 - val_loss: 0.0967 - val_acc: 0.8818\n",
      "Epoch 18/25\n",
      "15000/15000 [==============================] - 1s 100us/step - loss: 0.0247 - acc: 0.9758 - val_loss: 0.0965 - val_acc: 0.8842\n",
      "Epoch 19/25\n",
      "15000/15000 [==============================] - 1s 99us/step - loss: 0.0241 - acc: 0.9763 - val_loss: 0.0970 - val_acc: 0.8841\n",
      "Epoch 20/25\n",
      "15000/15000 [==============================] - 1s 96us/step - loss: 0.0218 - acc: 0.9786 - val_loss: 0.0973 - val_acc: 0.8818\n",
      "Epoch 21/25\n",
      "15000/15000 [==============================] - 1s 96us/step - loss: 0.0215 - acc: 0.9783 - val_loss: 0.0976 - val_acc: 0.8836\n",
      "Epoch 22/25\n",
      "15000/15000 [==============================] - 1s 96us/step - loss: 0.0198 - acc: 0.9801 - val_loss: 0.0975 - val_acc: 0.8850\n",
      "Epoch 23/25\n",
      "15000/15000 [==============================] - 2s 101us/step - loss: 0.0182 - acc: 0.9819 - val_loss: 0.0980 - val_acc: 0.8836\n",
      "Epoch 24/25\n",
      "15000/15000 [==============================] - 1s 96us/step - loss: 0.0181 - acc: 0.9815 - val_loss: 0.1012 - val_acc: 0.8811\n",
      "Epoch 25/25\n",
      "15000/15000 [==============================] - 2s 101us/step - loss: 0.0173 - acc: 0.9829 - val_loss: 0.1002 - val_acc: 0.8814\n"
     ]
    }
   ],
   "source": [
    "history = model.fit(\n",
    "    partial_x_train, partial_y_train,\n",
    "    epochs=25,\n",
    "    batch_size=500,\n",
    "    validation_data=(x_val,y_val)\n",
    ")"
   ]
  },
  {
   "cell_type": "code",
   "execution_count": 77,
   "metadata": {},
   "outputs": [
    {
     "name": "stdout",
     "output_type": "stream",
     "text": [
      "{'val_loss': [0.17903457656502725, 0.1398518830537796, 0.11577206887304783, 0.10110458321869373, 0.09299052767455578, 0.08748505525290966, 0.08595793023705482, 0.08540817871689796, 0.08513393066823483, 0.08518651463091373, 0.08698246702551841, 0.08876943588256836, 0.09030256159603596, 0.09148878306150436, 0.0930590819567442, 0.09494995847344398, 0.09672867916524411, 0.09651141278445721, 0.09696890152990818, 0.09734616242349148, 0.09757584407925605, 0.0974745735526085, 0.09804562367498874, 0.10116122700273991, 0.10024665780365467], 'val_acc': [0.8411000013351441, 0.8627000004053116, 0.8781000018119812, 0.8867999970912933, 0.8902999997138977, 0.8886000007390976, 0.8882000029087067, 0.886999997496605, 0.8881000012159348, 0.8881000071763993, 0.8866000056266785, 0.8834999978542328, 0.8833999961614609, 0.8832000017166137, 0.8826999932527542, 0.8826999992132187, 0.8818000078201294, 0.8842000037431716, 0.8841000020503997, 0.8818000048398972, 0.8836000084877014, 0.8850000023841857, 0.8836000025272369, 0.8810999929904938, 0.8813999980688095], 'loss': [0.22082345485687255, 0.17684609641631444, 0.1485556811094284, 0.12840395296613374, 0.11146093085408211, 0.0981599507232507, 0.08547007367014885, 0.07605229889353117, 0.06754342317581177, 0.05817277766764164, 0.052070117617646856, 0.04499702254931132, 0.04077254353712002, 0.03584107272326946, 0.031805810146033765, 0.02975950508068005, 0.02841865022977193, 0.024748078299065432, 0.024094879813492297, 0.021755534193168082, 0.021487968446065982, 0.019816281118740637, 0.01817234614863992, 0.018119106286515793, 0.017313438126196463], 'acc': [0.6444000055392584, 0.769266672929128, 0.8185333331425985, 0.8574666619300843, 0.8843333284060161, 0.9042666633923848, 0.9202000021934509, 0.9297333319981893, 0.9395333290100097, 0.9484666605790456, 0.9515333294868469, 0.9586666643619537, 0.9617333312829336, 0.9676000038782756, 0.9706000030040741, 0.9724666694800059, 0.9717999994754791, 0.9758000075817108, 0.9762666742006938, 0.9786000033219655, 0.9782666683197021, 0.9801333347956339, 0.9818666716416676, 0.98146666487058, 0.9828666706879934]}\n"
     ]
    }
   ],
   "source": [
    "print(history.history)"
   ]
  },
  {
   "cell_type": "code",
   "execution_count": 78,
   "metadata": {},
   "outputs": [
    {
     "data": {
      "image/png": "[encoded data removed]",
      "text/plain": [
       "<Figure size 432x288 with 1 Axes>"
      ]
     },
     "metadata": {},
     "output_type": "display_data"
    },
    {
     "data": {
      "image/png": "[encoded data removed]",
      "text/plain": [
       "<Figure size 432x288 with 1 Axes>"
      ]
     },
     "metadata": {},
     "output_type": "display_data"
    }
   ],
   "source": [
    "def plot_history(history):\n",
    "    plt.plot(history[\"acc\"], label=\"acc\")\n",
    "    plt.plot(history[\"val_acc\"], label=\"val_acc\")\n",
    "    plt.legend()\n",
    "    plt.show()\n",
    "    plt.close()\n",
    "    \n",
    "    plt.plot(history[\"loss\"], label=\"loss\")\n",
    "    plt.plot(history[\"val_loss\"], label=\"val_loss\")\n",
    "    plt.legend()\n",
    "    plt.show()\n",
    "    plt.close()\n",
    "\n",
    "plot_history(history.history)"
   ]
  },
  {
   "cell_type": "code",
   "execution_count": 79,
   "metadata": {},
   "outputs": [
    {
     "name": "stdout",
     "output_type": "stream",
     "text": [
      "25000/25000 [==============================] - 2s 64us/step\n"
     ]
    }
   ],
   "source": [
    "test_loss, test_acc = model.evaluate(x_test, y_test)"
   ]
  },
  {
   "cell_type": "code",
   "execution_count": 80,
   "metadata": {},
   "outputs": [
    {
     "name": "stdout",
     "output_type": "stream",
     "text": [
      "0.10708108881756663 0.87456\n"
     ]
    }
   ],
   "source": [
    "print(test_loss, test_acc)"
   ]
  }
 ],
 "metadata": {
  "kernelspec": {
   "display_name": "Python 3",
   "language": "python",
   "name": "python3"
  },
  "language_info": {
   "codemirror_mode": {
    "name": "ipython",
    "version": 3
   },
   "file_extension": ".py",
   "mimetype": "text/x-python",
   "name": "python",
   "nbconvert_exporter": "python",
   "pygments_lexer": "ipython3",
   "version": "3.6.5"
  }
 },
 "nbformat": 4,
 "nbformat_minor": 2
}
