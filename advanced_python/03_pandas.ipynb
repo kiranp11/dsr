{
 "cells": [
  {
   "cell_type": "markdown",
   "metadata": {},
   "source": [
    "# Pandas\n",
    "\n",
    "    | \"80% of data analysis is spent on the process of cleaning and preparing the data\"\n",
    "\n",
    "Pandas defines 3 main classes:\n",
    "\n",
    "1. Series - wrappers around numpy vectors, used to represent DF columns\n",
    "2. Index - similar to Series, used to label each element in Series or columns or rows in DataFrames\n",
    "3. DataFrame - sequence/dictionary of Series objects of identical lengts; similar to matrix in numpy\n"
   ]
  },
  {
   "cell_type": "markdown",
   "metadata": {},
   "source": [
    "# Creating DataFrames, Series, Indexes"
   ]
  },
  {
   "cell_type": "code",
   "execution_count": 609,
   "metadata": {},
   "outputs": [],
   "source": [
    "import pandas as pd\n",
    "import numpy as np\n",
    "pd.set_option(\"display.notebook_repr_html\", True)"
   ]
  },
  {
   "cell_type": "code",
   "execution_count": 20,
   "metadata": {},
   "outputs": [
    {
     "data": {
      "text/plain": [
       "          A      B     C\n",
       "0  0.696469   True     f\n",
       "1  0.286139  False  None\n",
       "2  0.226851   True     m\n",
       "3  0.551315  False     f\n",
       "4  0.719469  False  None"
      ]
     },
     "execution_count": 20,
     "metadata": {},
     "output_type": "execute_result"
    }
   ],
   "source": [
    "np.random.seed(123)\n",
    "x = pd.DataFrame({#dict\n",
    "    \"A\": np.random.rand(5),\n",
    "    \"B\": [True, False, True, False, False],\n",
    "    \"C\": [\"f\",None, \"m\",\"f\",None]\n",
    "})\n",
    "x"
   ]
  },
  {
   "cell_type": "code",
   "execution_count": 15,
   "metadata": {},
   "outputs": [],
   "source": [
    "#Missing vals -> None or Nan for floats"
   ]
  },
  {
   "cell_type": "code",
   "execution_count": 17,
   "metadata": {},
   "outputs": [
    {
     "data": {
      "text/plain": [
       "pandas.core.frame.DataFrame"
      ]
     },
     "execution_count": 17,
     "metadata": {},
     "output_type": "execute_result"
    }
   ],
   "source": [
    "type(x)"
   ]
  },
  {
   "cell_type": "code",
   "execution_count": 19,
   "metadata": {},
   "outputs": [
    {
     "data": {
      "text/plain": [
       "pandas.core.series.Series"
      ]
     },
     "execution_count": 19,
     "metadata": {},
     "output_type": "execute_result"
    }
   ],
   "source": [
    "type(x[\"A\"])"
   ]
  },
  {
   "cell_type": "code",
   "execution_count": 24,
   "metadata": {},
   "outputs": [
    {
     "data": {
      "text/plain": [
       "   0                                                  1\n",
       "0  A  [0.7379954057320357, 0.18249173045349998, 0.17...\n",
       "1  B                  [True, False, True, False, False]\n",
       "2  C                              [f, None, m, f, None]"
      ]
     },
     "execution_count": 24,
     "metadata": {},
     "output_type": "execute_result"
    }
   ],
   "source": [
    "p = [\n",
    "    (\"A\", np.random.rand(5)),\n",
    "    (\"B\", [True, False, True, False, False]),\n",
    "    (\"C\", [\"f\",None, \"m\",\"f\",None])\n",
    "]\n",
    "pd.DataFrame(p)"
   ]
  },
  {
   "cell_type": "code",
   "execution_count": 26,
   "metadata": {},
   "outputs": [
    {
     "name": "stderr",
     "output_type": "stream",
     "text": [
      "/Users/kprakash/.pyenv/versions/3.6.5/Python.framework/Versions/3.6/lib/python3.6/site-packages/ipykernel_launcher.py:1: FutureWarning: from_items is deprecated. Please use DataFrame.from_dict(dict(items), ...) instead. DataFrame.from_dict(OrderedDict(items)) may be used to preserve the key order.\n",
      "  \"\"\"Entry point for launching an IPython kernel.\n"
     ]
    },
    {
     "data": {
      "text/plain": [
       "          A      B     C\n",
       "0  0.737995   True     f\n",
       "1  0.182492  False  None\n",
       "2  0.175452   True     m\n",
       "3  0.531551  False     f\n",
       "4  0.531828  False  None"
      ]
     },
     "execution_count": 26,
     "metadata": {},
     "output_type": "execute_result"
    }
   ],
   "source": [
    "pd.DataFrame.from_items(p)"
   ]
  },
  {
   "cell_type": "code",
   "execution_count": 32,
   "metadata": {},
   "outputs": [
    {
     "data": {
      "text/plain": [
       "          a         b         c         d         e         f\n",
       "0  0.578551  0.521533  0.002688  0.988345  0.905342  0.207636\n",
       "1  0.292489  0.520010  0.901911  0.983631  0.257542  0.564359\n",
       "2  0.806969  0.394370  0.731073  0.161069  0.600699  0.865864\n",
       "3  0.983522  0.079366  0.428347  0.204543  0.450636  0.547764"
      ]
     },
     "execution_count": 32,
     "metadata": {},
     "output_type": "execute_result"
    }
   ],
   "source": [
    "pd.DataFrame(\n",
    "    np.random.rand(4,6),\n",
    "    columns= [\"a\",\"b\",\"c\",\"d\",\"e\",\"f\"]\n",
    ")"
   ]
  },
  {
   "cell_type": "code",
   "execution_count": 34,
   "metadata": {},
   "outputs": [],
   "source": [
    "birth_dates = pd.read_csv(\n",
    "    \"http://www.gagolewski.com/resources/data/birth_dates.csv\", comment=\"#\")\n",
    "tips = pd.read_csv(\n",
    "    \"http://www.gagolewski.com/resources/data/tips.csv\", comment=\"#\")\n",
    "iris = pd.read_csv(\n",
    "    \"http://www.gagolewski.com/resources/data/iris.csv\", comment=\"#\")\n",
    "flights = pd.read_csv(\n",
    "    \"http://www.gagolewski.com/resources/data/flights.csv\", comment=\"#\")"
   ]
  },
  {
   "cell_type": "code",
   "execution_count": 36,
   "metadata": {},
   "outputs": [
    {
     "data": {
      "text/plain": [
       "   total_bill   tip     sex smoker  day    time  size\n",
       "0       16.99  1.01  Female     No  Sun  Dinner     2\n",
       "1       10.34  1.66    Male     No  Sun  Dinner     3\n",
       "2       21.01  3.50    Male     No  Sun  Dinner     3\n",
       "3       23.68  3.31    Male     No  Sun  Dinner     2\n",
       "4       24.59  3.61  Female     No  Sun  Dinner     4"
      ]
     },
     "execution_count": 36,
     "metadata": {},
     "output_type": "execute_result"
    }
   ],
   "source": [
    "tips.head()"
   ]
  },
  {
   "cell_type": "code",
   "execution_count": 38,
   "metadata": {},
   "outputs": [
    {
     "data": {
      "text/plain": [
       "     total_bill   tip     sex smoker   day    time  size\n",
       "239       29.03  5.92    Male     No   Sat  Dinner     3\n",
       "240       27.18  2.00  Female    Yes   Sat  Dinner     2\n",
       "241       22.67  2.00    Male    Yes   Sat  Dinner     2\n",
       "242       17.82  1.75    Male     No   Sat  Dinner     2\n",
       "243       18.78  3.00  Female     No  Thur  Dinner     2"
      ]
     },
     "execution_count": 38,
     "metadata": {},
     "output_type": "execute_result"
    }
   ],
   "source": [
    "tips.tail()"
   ]
  },
  {
   "cell_type": "code",
   "execution_count": 40,
   "metadata": {},
   "outputs": [
    {
     "data": {
      "text/plain": [
       "(244, 7)"
      ]
     },
     "execution_count": 40,
     "metadata": {},
     "output_type": "execute_result"
    }
   ],
   "source": [
    "tips.shape"
   ]
  },
  {
   "cell_type": "code",
   "execution_count": 42,
   "metadata": {},
   "outputs": [
    {
     "data": {
      "text/plain": [
       "244"
      ]
     },
     "execution_count": 42,
     "metadata": {},
     "output_type": "execute_result"
    }
   ],
   "source": [
    "len(tips)"
   ]
  },
  {
   "cell_type": "code",
   "execution_count": 44,
   "metadata": {},
   "outputs": [
    {
     "data": {
      "text/plain": [
       "total_bill    float64\n",
       "tip           float64\n",
       "sex            object\n",
       "smoker         object\n",
       "day            object\n",
       "time           object\n",
       "size            int64\n",
       "dtype: object"
      ]
     },
     "execution_count": 44,
     "metadata": {},
     "output_type": "execute_result"
    }
   ],
   "source": [
    "tips.dtypes"
   ]
  },
  {
   "cell_type": "code",
   "execution_count": 46,
   "metadata": {},
   "outputs": [
    {
     "data": {
      "text/plain": [
       "pandas.core.series.Series"
      ]
     },
     "execution_count": 46,
     "metadata": {},
     "output_type": "execute_result"
    }
   ],
   "source": [
    "type(tips.dtypes)"
   ]
  },
  {
   "cell_type": "code",
   "execution_count": 48,
   "metadata": {},
   "outputs": [
    {
     "name": "stdout",
     "output_type": "stream",
     "text": [
      "<class 'pandas.core.frame.DataFrame'>\n",
      "RangeIndex: 244 entries, 0 to 243\n",
      "Data columns (total 7 columns):\n",
      "total_bill    244 non-null float64\n",
      "tip           244 non-null float64\n",
      "sex           244 non-null object\n",
      "smoker        244 non-null object\n",
      "day           244 non-null object\n",
      "time          244 non-null object\n",
      "size          244 non-null int64\n",
      "dtypes: float64(2), int64(1), object(4)\n",
      "memory usage: 13.4+ KB\n"
     ]
    }
   ],
   "source": [
    "tips.info()"
   ]
  },
  {
   "cell_type": "code",
   "execution_count": 50,
   "metadata": {},
   "outputs": [
    {
     "data": {
      "text/plain": [
       "0    1\n",
       "1    2\n",
       "2    3\n",
       "dtype: int64"
      ]
     },
     "execution_count": 50,
     "metadata": {},
     "output_type": "execute_result"
    }
   ],
   "source": [
    "pd.Series([1,2,3])"
   ]
  },
  {
   "cell_type": "code",
   "execution_count": 52,
   "metadata": {},
   "outputs": [
    {
     "data": {
      "text/plain": [
       "0    1\n",
       "1    2\n",
       "2    3\n",
       "dtype: int64"
      ]
     },
     "execution_count": 52,
     "metadata": {},
     "output_type": "execute_result"
    }
   ],
   "source": [
    "pd.Series(np.r_[1,2,3])"
   ]
  },
  {
   "cell_type": "code",
   "execution_count": 54,
   "metadata": {},
   "outputs": [
    {
     "data": {
      "text/plain": [
       "               Name   BirthDate\n",
       "0    Hung Hyun-Seok  12.06.2000\n",
       "1  Benno Blumenthal  31.12.1918\n",
       "2  Paitoon Ornwimol  26.06.1958\n",
       "3    P'yon Yong-Sun  10.07.1947\n",
       "4    Étienne Chaney  04.09.1983"
      ]
     },
     "execution_count": 54,
     "metadata": {},
     "output_type": "execute_result"
    }
   ],
   "source": [
    "birth_dates.head()"
   ]
  },
  {
   "cell_type": "code",
   "execution_count": 56,
   "metadata": {},
   "outputs": [
    {
     "data": {
      "text/plain": [
       "   year     month  passengers\n",
       "0  1949   January         112\n",
       "1  1949  February         118\n",
       "2  1949     March         132\n",
       "3  1949     April         129\n",
       "4  1949       May         121"
      ]
     },
     "execution_count": 56,
     "metadata": {},
     "output_type": "execute_result"
    }
   ],
   "source": [
    "flights.head()"
   ]
  },
  {
   "cell_type": "code",
   "execution_count": 58,
   "metadata": {},
   "outputs": [
    {
     "data": {
      "text/plain": [
       "     year      month  passengers\n",
       "139  1960     August         606\n",
       "140  1960  September         508\n",
       "141  1960    October         461\n",
       "142  1960   November         390\n",
       "143  1960   December         432"
      ]
     },
     "execution_count": 58,
     "metadata": {},
     "output_type": "execute_result"
    }
   ],
   "source": [
    "flights.tail()"
   ]
  },
  {
   "cell_type": "markdown",
   "metadata": {},
   "source": [
    "# Series"
   ]
  },
  {
   "cell_type": "code",
   "execution_count": 61,
   "metadata": {},
   "outputs": [
    {
     "data": {
      "text/plain": [
       "          A      B     C\n",
       "0  0.696469   True     f\n",
       "1  0.286139  False  None\n",
       "2  0.226851   True     m\n",
       "3  0.551315  False     f\n",
       "4  0.719469  False  None"
      ]
     },
     "execution_count": 61,
     "metadata": {},
     "output_type": "execute_result"
    }
   ],
   "source": [
    "x\n"
   ]
  },
  {
   "cell_type": "code",
   "execution_count": 64,
   "metadata": {},
   "outputs": [
    {
     "data": {
      "text/plain": [
       "0    0.696469\n",
       "1    0.286139\n",
       "2    0.226851\n",
       "3    0.551315\n",
       "4    0.719469\n",
       "Name: A, dtype: float64"
      ]
     },
     "execution_count": 64,
     "metadata": {},
     "output_type": "execute_result"
    }
   ],
   "source": [
    "x.loc[:,\"A\"]"
   ]
  },
  {
   "cell_type": "code",
   "execution_count": 67,
   "metadata": {},
   "outputs": [
    {
     "data": {
      "text/plain": [
       "pandas.core.series.Series"
      ]
     },
     "execution_count": 67,
     "metadata": {},
     "output_type": "execute_result"
    }
   ],
   "source": [
    "type(x.loc[:,\"A\"])"
   ]
  },
  {
   "cell_type": "code",
   "execution_count": 69,
   "metadata": {},
   "outputs": [
    {
     "data": {
      "text/plain": [
       "0    0.696469\n",
       "1    0.286139\n",
       "2    0.226851\n",
       "3    0.551315\n",
       "4    0.719469\n",
       "Name: A, dtype: float64"
      ]
     },
     "execution_count": 69,
     "metadata": {},
     "output_type": "execute_result"
    }
   ],
   "source": [
    "x[\"A\"]"
   ]
  },
  {
   "cell_type": "code",
   "execution_count": 71,
   "metadata": {},
   "outputs": [
    {
     "data": {
      "text/plain": [
       "0    0.696469\n",
       "1    0.286139\n",
       "2    0.226851\n",
       "3    0.551315\n",
       "4    0.719469\n",
       "Name: A, dtype: float64"
      ]
     },
     "execution_count": 71,
     "metadata": {},
     "output_type": "execute_result"
    }
   ],
   "source": [
    "x.get(\"A\")"
   ]
  },
  {
   "cell_type": "code",
   "execution_count": 73,
   "metadata": {},
   "outputs": [
    {
     "data": {
      "text/plain": [
       "0    0.696469\n",
       "1    0.286139\n",
       "2    0.226851\n",
       "3    0.551315\n",
       "4    0.719469\n",
       "Name: A, dtype: float64"
      ]
     },
     "execution_count": 73,
     "metadata": {},
     "output_type": "execute_result"
    }
   ],
   "source": [
    "x.A"
   ]
  },
  {
   "cell_type": "code",
   "execution_count": 77,
   "metadata": {},
   "outputs": [
    {
     "data": {
      "text/plain": [
       "'A'"
      ]
     },
     "execution_count": 77,
     "metadata": {},
     "output_type": "execute_result"
    }
   ],
   "source": [
    "y=x.loc[:,\"A\"]\n",
    "y.name"
   ]
  },
  {
   "cell_type": "code",
   "execution_count": 79,
   "metadata": {},
   "outputs": [],
   "source": [
    "y.name=\"beautiful\""
   ]
  },
  {
   "cell_type": "code",
   "execution_count": 81,
   "metadata": {},
   "outputs": [
    {
     "data": {
      "text/plain": [
       "0    0.696469\n",
       "1    0.286139\n",
       "2    0.226851\n",
       "3    0.551315\n",
       "4    0.719469\n",
       "Name: beautiful, dtype: float64"
      ]
     },
     "execution_count": 81,
     "metadata": {},
     "output_type": "execute_result"
    }
   ],
   "source": [
    "y"
   ]
  },
  {
   "cell_type": "code",
   "execution_count": 83,
   "metadata": {},
   "outputs": [
    {
     "data": {
      "text/plain": [
       "      extra\n",
       "0  0.696469\n",
       "1  0.286139\n",
       "2  0.226851\n",
       "3  0.551315\n",
       "4  0.719469"
      ]
     },
     "execution_count": 83,
     "metadata": {},
     "output_type": "execute_result"
    }
   ],
   "source": [
    "pd.DataFrame(y.rename(\"extra\"))"
   ]
  },
  {
   "cell_type": "code",
   "execution_count": 85,
   "metadata": {},
   "outputs": [
    {
     "data": {
      "text/plain": [
       "dtype('float64')"
      ]
     },
     "execution_count": 85,
     "metadata": {},
     "output_type": "execute_result"
    }
   ],
   "source": [
    "y.dtype"
   ]
  },
  {
   "cell_type": "code",
   "execution_count": 87,
   "metadata": {},
   "outputs": [
    {
     "data": {
      "text/plain": [
       "array([0.69646919, 0.28613933, 0.22685145, 0.55131477, 0.71946897])"
      ]
     },
     "execution_count": 87,
     "metadata": {},
     "output_type": "execute_result"
    }
   ],
   "source": [
    "y.values"
   ]
  },
  {
   "cell_type": "code",
   "execution_count": 89,
   "metadata": {},
   "outputs": [
    {
     "data": {
      "text/plain": [
       "0.4960487425961797"
      ]
     },
     "execution_count": 89,
     "metadata": {},
     "output_type": "execute_result"
    }
   ],
   "source": [
    "np.mean(y.values)"
   ]
  },
  {
   "cell_type": "code",
   "execution_count": 92,
   "metadata": {},
   "outputs": [
    {
     "data": {
      "text/plain": [
       "0.4960487425961797"
      ]
     },
     "execution_count": 92,
     "metadata": {},
     "output_type": "execute_result"
    }
   ],
   "source": [
    "np.mean(y)"
   ]
  },
  {
   "cell_type": "code",
   "execution_count": 95,
   "metadata": {},
   "outputs": [
    {
     "data": {
      "text/plain": [
       "0   2018-07-04\n",
       "1   2018-07-05\n",
       "2   2018-07-06\n",
       "dtype: datetime64[ns]"
      ]
     },
     "execution_count": 95,
     "metadata": {},
     "output_type": "execute_result"
    }
   ],
   "source": [
    "# date-time data\n",
    "pd.Series(pd.date_range(\"2018-07-04\", periods=3, freq=\"D\"))"
   ]
  },
  {
   "cell_type": "code",
   "execution_count": 97,
   "metadata": {},
   "outputs": [
    {
     "data": {
      "text/plain": [
       "               Name   BirthDate\n",
       "0    Hung Hyun-Seok  12.06.2000\n",
       "1  Benno Blumenthal  31.12.1918\n",
       "2  Paitoon Ornwimol  26.06.1958\n",
       "3    P'yon Yong-Sun  10.07.1947\n",
       "4    Étienne Chaney  04.09.1983"
      ]
     },
     "execution_count": 97,
     "metadata": {},
     "output_type": "execute_result"
    }
   ],
   "source": [
    "birth_dates.head()"
   ]
  },
  {
   "cell_type": "code",
   "execution_count": 99,
   "metadata": {},
   "outputs": [
    {
     "name": "stdout",
     "output_type": "stream",
     "text": [
      "<class 'pandas.core.frame.DataFrame'>\n",
      "RangeIndex: 132 entries, 0 to 131\n",
      "Data columns (total 2 columns):\n",
      "Name         132 non-null object\n",
      "BirthDate    132 non-null object\n",
      "dtypes: object(2)\n",
      "memory usage: 2.1+ KB\n"
     ]
    }
   ],
   "source": [
    "birth_dates.info()"
   ]
  },
  {
   "cell_type": "code",
   "execution_count": 108,
   "metadata": {},
   "outputs": [
    {
     "data": {
      "text/plain": [
       "               Name   BirthDate BirthDate2\n",
       "0    Hung Hyun-Seok  12.06.2000 2000-06-12\n",
       "1  Benno Blumenthal  31.12.1918 1918-12-31\n",
       "2  Paitoon Ornwimol  26.06.1958 1958-06-26\n",
       "3    P'yon Yong-Sun  10.07.1947 1947-07-10\n",
       "4    Étienne Chaney  04.09.1983 1983-09-04"
      ]
     },
     "execution_count": 108,
     "metadata": {},
     "output_type": "execute_result"
    }
   ],
   "source": [
    "#convert birth dates to date time\n",
    "birth_dates[\"BirthDate2\"] = pd.to_datetime(birth_dates[\"BirthDate\"],format=\"%d.%m.%Y\")\n",
    "birth_dates.head()\n"
   ]
  },
  {
   "cell_type": "code",
   "execution_count": 114,
   "metadata": {},
   "outputs": [
    {
     "data": {
      "text/plain": [
       "124     virginica\n",
       "136     virginica\n",
       "85     versicolor\n",
       "44         setosa\n",
       "97     versicolor\n",
       "dtype: category\n",
       "Categories (3, object): [setosa, versicolor, virginica]"
      ]
     },
     "execution_count": 114,
     "metadata": {},
     "output_type": "execute_result"
    }
   ],
   "source": [
    "# Categorical -> for qualitative / nominal / ordinal data\n",
    "\n",
    "pd.Series(pd.Categorical(iris.loc[:,\"Species\"])).sample(5)"
   ]
  },
  {
   "cell_type": "code",
   "execution_count": 117,
   "metadata": {},
   "outputs": [
    {
     "data": {
      "text/plain": [
       "118     virginica\n",
       "105     virginica\n",
       "52     versicolor\n",
       "134     virginica\n",
       "Name: Species, dtype: category\n",
       "Categories (3, object): [setosa, versicolor, virginica]"
      ]
     },
     "execution_count": 117,
     "metadata": {},
     "output_type": "execute_result"
    }
   ],
   "source": [
    "iris.loc[:,\"Species\"] = iris.loc[:,\"Species\"].astype(\"category\")\n",
    "iris.loc[:,\"Species\"].sample(4)"
   ]
  },
  {
   "cell_type": "code",
   "execution_count": 123,
   "metadata": {},
   "outputs": [
    {
     "data": {
      "text/plain": [
       "8      0\n",
       "18     0\n",
       "15     0\n",
       "131    2\n",
       "dtype: int8"
      ]
     },
     "execution_count": 123,
     "metadata": {},
     "output_type": "execute_result"
    }
   ],
   "source": [
    "iris.Species.cat.codes.sample(4)"
   ]
  },
  {
   "cell_type": "code",
   "execution_count": 125,
   "metadata": {},
   "outputs": [
    {
     "data": {
      "text/plain": [
       "Index(['setosa', 'versicolor', 'virginica'], dtype='object')"
      ]
     },
     "execution_count": 125,
     "metadata": {},
     "output_type": "execute_result"
    }
   ],
   "source": [
    "iris.Species.cat.categories"
   ]
  },
  {
   "cell_type": "code",
   "execution_count": 132,
   "metadata": {},
   "outputs": [
    {
     "data": {
      "image/png": "[encoded data removed]",
      "text/plain": [
       "<Figure size 432x288 with 1 Axes>"
      ]
     },
     "metadata": {},
     "output_type": "display_data"
    }
   ],
   "source": [
    "%matplotlib inline\n",
    "import matplotlib.pyplot as plt\n",
    "\n",
    "plt.scatter(iris[\"Petal.Length\"],iris[\"Sepal.Width\"],\n",
    "            c=iris[\"Species\"].cat.codes\n",
    "           )\n",
    "\n",
    "plt.show()"
   ]
  },
  {
   "cell_type": "code",
   "execution_count": 136,
   "metadata": {},
   "outputs": [
    {
     "ename": "SyntaxError",
     "evalue": "invalid syntax (<ipython-input-136-4a06b40a2845>, line 2)",
     "output_type": "error",
     "traceback": [
      "\u001b[0;36m  File \u001b[0;32m\"<ipython-input-136-4a06b40a2845>\"\u001b[0;36m, line \u001b[0;32m2\u001b[0m\n\u001b[0;31m    c=np.array([\"red\",\"green\",\"blue\"])iris[\"Species\"].cat.codes\u001b[0m\n\u001b[0m                                         ^\u001b[0m\n\u001b[0;31mSyntaxError\u001b[0m\u001b[0;31m:\u001b[0m invalid syntax\n"
     ]
    }
   ],
   "source": [
    "plt.scatter(iris[\"Petal.Length\"],iris[\"Sepal.Width\"],\n",
    "            c=np.array([\"red\",\"green\",\"blue\"])iris[\"Species\"].cat.codes\n",
    "           )\n",
    "\n",
    "plt.show()"
   ]
  },
  {
   "cell_type": "code",
   "execution_count": 138,
   "metadata": {},
   "outputs": [
    {
     "data": {
      "text/plain": [
       "   Sepal.Length  Sepal.Width  Petal.Length  Petal.Width Species\n",
       "0           5.1          3.5           1.4          0.2  setosa\n",
       "1           4.9          3.0           1.4          0.2  setosa\n",
       "2           4.7          3.2           1.3          0.2  setosa\n",
       "3           4.6          3.1           1.5          0.2  setosa\n",
       "4           5.0          3.6           1.4          0.2  setosa"
      ]
     },
     "execution_count": 138,
     "metadata": {},
     "output_type": "execute_result"
    }
   ],
   "source": [
    "iris.head()"
   ]
  },
  {
   "cell_type": "code",
   "execution_count": 188,
   "metadata": {},
   "outputs": [
    {
     "data": {
      "text/plain": [
       "182     Sun\n",
       "88     Thur\n",
       "27      Sat\n",
       "34      Sat\n",
       "137    Thur\n",
       "dtype: category\n",
       "Categories (4, object): [Thur < Fri < Sat < Sun]"
      ]
     },
     "execution_count": 188,
     "metadata": {},
     "output_type": "execute_result"
    }
   ],
   "source": [
    "y = pd.Series(pd.Categorical(tips.day,\n",
    "                         ordered=True,\n",
    "                         categories=[\"Thur\",\"Fri\",\"Sat\",\"Sun\"]\n",
    "                        ))\n",
    "y.sample(5)"
   ]
  },
  {
   "cell_type": "code",
   "execution_count": 192,
   "metadata": {},
   "outputs": [
    {
     "data": {
      "text/plain": [
       "0      Sun\n",
       "1      Sun\n",
       "2      Sun\n",
       "3      Sun\n",
       "4      Sun\n",
       "5      Sun\n",
       "6      Sun\n",
       "7      Sun\n",
       "8      Sun\n",
       "9      Sun\n",
       "10     Sun\n",
       "11     Sun\n",
       "12     Sun\n",
       "13     Sun\n",
       "14     Sun\n",
       "15     Sun\n",
       "16     Sun\n",
       "17     Sun\n",
       "18     Sun\n",
       "19     Sat\n",
       "20     Sat\n",
       "21     Sat\n",
       "22     Sat\n",
       "23     Sat\n",
       "24     Sat\n",
       "25     Sat\n",
       "26     Sat\n",
       "27     Sat\n",
       "28     Sat\n",
       "29     Sat\n",
       "      ... \n",
       "206    Sat\n",
       "207    Sat\n",
       "208    Sat\n",
       "209    Sat\n",
       "210    Sat\n",
       "211    Sat\n",
       "212    Sat\n",
       "213    Sat\n",
       "214    Sat\n",
       "215    Sat\n",
       "216    Sat\n",
       "217    Sat\n",
       "218    Sat\n",
       "219    Sat\n",
       "227    Sat\n",
       "228    Sat\n",
       "229    Sat\n",
       "230    Sat\n",
       "231    Sat\n",
       "232    Sat\n",
       "233    Sat\n",
       "234    Sat\n",
       "235    Sat\n",
       "236    Sat\n",
       "237    Sat\n",
       "238    Sat\n",
       "239    Sat\n",
       "240    Sat\n",
       "241    Sat\n",
       "242    Sat\n",
       "Length: 163, dtype: category\n",
       "Categories (4, object): [Thur < Fri < Sat < Sun]"
      ]
     },
     "execution_count": 192,
     "metadata": {},
     "output_type": "execute_result"
    }
   ],
   "source": [
    "y.sort_values()\n",
    "y[y>\"Fri\"]"
   ]
  },
  {
   "cell_type": "code",
   "execution_count": 194,
   "metadata": {},
   "outputs": [
    {
     "data": {
      "text/plain": [
       "142    (1.0, 5.0]\n",
       "225    (1.0, 5.0]\n",
       "46     (1.0, 5.0]\n",
       "85     (5.0, inf]\n",
       "32     (1.0, 5.0]\n",
       "Name: tip, dtype: category\n",
       "Categories (3, interval[float64]): [(0.0, 1.0] < (1.0, 5.0] < (5.0, inf]]"
      ]
     },
     "execution_count": 194,
     "metadata": {},
     "output_type": "execute_result"
    }
   ],
   "source": [
    "# Discretization : a continues feature to categorical\n",
    "pd.cut(tips.tip, np.r_[0,1,5,np.inf]).sample(5)"
   ]
  },
  {
   "cell_type": "code",
   "execution_count": 196,
   "metadata": {},
   "outputs": [
    {
     "data": {
      "text/plain": [
       "210    cando\n",
       "214      bff\n",
       "6      cando\n",
       "159    cando\n",
       "37     cando\n",
       "Name: tip, dtype: category\n",
       "Categories (3, object): [bad < cando < bff]"
      ]
     },
     "execution_count": 196,
     "metadata": {},
     "output_type": "execute_result"
    }
   ],
   "source": [
    "# Discretization : a continues feature to categorical\n",
    "pd.cut(tips.tip, np.r_[0,1,5,np.inf], \n",
    "          labels=[\"bad\",\"cando\",\"bff\"]\n",
    "      ).sample(5)"
   ]
  },
  {
   "cell_type": "markdown",
   "metadata": {},
   "source": [
    "# Index"
   ]
  },
  {
   "cell_type": "code",
   "execution_count": 197,
   "metadata": {},
   "outputs": [],
   "source": [
    "# a data frame has 2 indexes\n",
    "# a series has 1 index"
   ]
  },
  {
   "cell_type": "code",
   "execution_count": 199,
   "metadata": {},
   "outputs": [
    {
     "data": {
      "text/plain": [
       "RangeIndex(start=0, stop=244, step=1)"
      ]
     },
     "execution_count": 199,
     "metadata": {},
     "output_type": "execute_result"
    }
   ],
   "source": [
    "tips.index"
   ]
  },
  {
   "cell_type": "code",
   "execution_count": 201,
   "metadata": {},
   "outputs": [
    {
     "data": {
      "text/plain": [
       "Index(['total_bill', 'tip', 'sex', 'smoker', 'day', 'time', 'size'], dtype='object')"
      ]
     },
     "execution_count": 201,
     "metadata": {},
     "output_type": "execute_result"
    }
   ],
   "source": [
    "tips.columns"
   ]
  },
  {
   "cell_type": "code",
   "execution_count": 203,
   "metadata": {},
   "outputs": [
    {
     "data": {
      "text/plain": [
       "RangeIndex(start=0, stop=244, step=1)"
      ]
     },
     "execution_count": 203,
     "metadata": {},
     "output_type": "execute_result"
    }
   ],
   "source": [
    "tips.sex.index\n"
   ]
  },
  {
   "cell_type": "code",
   "execution_count": 205,
   "metadata": {},
   "outputs": [],
   "source": [
    "#when taking a col of df, df.index == Series.index"
   ]
  },
  {
   "cell_type": "code",
   "execution_count": 208,
   "metadata": {},
   "outputs": [
    {
     "data": {
      "text/plain": [
       "    bill   tip     sex smoker  day    time  size\n",
       "0  16.99  1.01  Female     No  Sun  Dinner     2\n",
       "1  10.34  1.66    Male     No  Sun  Dinner     3"
      ]
     },
     "execution_count": 208,
     "metadata": {},
     "output_type": "execute_result"
    }
   ],
   "source": [
    "tips.rename({\"total_bill\": \"bill\"}, axis=1).head(2)"
   ]
  },
  {
   "cell_type": "code",
   "execution_count": 210,
   "metadata": {},
   "outputs": [
    {
     "data": {
      "text/plain": [
       "                   BirthDate BirthDate2\n",
       "Name                                   \n",
       "Hung Hyun-Seok    12.06.2000 2000-06-12\n",
       "Benno Blumenthal  31.12.1918 1918-12-31\n",
       "Paitoon Ornwimol  26.06.1958 1958-06-26\n",
       "P'yon Yong-Sun    10.07.1947 1947-07-10\n",
       "Étienne Chaney    04.09.1983 1983-09-04"
      ]
     },
     "execution_count": 210,
     "metadata": {},
     "output_type": "execute_result"
    }
   ],
   "source": [
    "birth_dates.set_index(\"Name\").head()"
   ]
  },
  {
   "cell_type": "code",
   "execution_count": 212,
   "metadata": {},
   "outputs": [
    {
     "data": {
      "text/plain": [
       "               Name   BirthDate BirthDate2\n",
       "0    Hung Hyun-Seok  12.06.2000 2000-06-12\n",
       "1  Benno Blumenthal  31.12.1918 1918-12-31\n",
       "2  Paitoon Ornwimol  26.06.1958 1958-06-26\n",
       "3    P'yon Yong-Sun  10.07.1947 1947-07-10\n",
       "4    Étienne Chaney  04.09.1983 1983-09-04"
      ]
     },
     "execution_count": 212,
     "metadata": {},
     "output_type": "execute_result"
    }
   ],
   "source": [
    "birth_dates.head()"
   ]
  },
  {
   "cell_type": "code",
   "execution_count": 216,
   "metadata": {},
   "outputs": [
    {
     "data": {
      "text/plain": [
       "          A      B     C\n",
       "0  0.696469   True     f\n",
       "1  0.286139  False  None\n",
       "2  0.226851   True     m\n",
       "3  0.551315  False     f\n",
       "4  0.719469  False  None"
      ]
     },
     "execution_count": 216,
     "metadata": {},
     "output_type": "execute_result"
    }
   ],
   "source": []
  },
  {
   "cell_type": "code",
   "execution_count": 218,
   "metadata": {},
   "outputs": [
    {
     "data": {
      "text/plain": [
       "   total_bill   tip   sex smoker   day    time  size\n",
       "0       41.19  5.00  Male     No  Thur   Lunch     5\n",
       "1       28.15  3.00  Male    Yes   Sat  Dinner     5\n",
       "2       34.65  3.68  Male    Yes   Sun  Dinner     4\n",
       "3       16.04  2.24  Male     No   Sat  Dinner     3\n",
       "4       40.55  3.00  Male    Yes   Sun  Dinner     2"
      ]
     },
     "execution_count": 218,
     "metadata": {},
     "output_type": "execute_result"
    }
   ],
   "source": [
    "tips.sample(5).reset_index(drop=True)"
   ]
  },
  {
   "cell_type": "code",
   "execution_count": 222,
   "metadata": {},
   "outputs": [
    {
     "data": {
      "text/plain": [
       "                         Name   BirthDate\n",
       "BirthDate2                               \n",
       "2028-02-18  Svetislav Bojanić  18.02.2028\n",
       "2028-08-28    Jean-Guy Baudet  28.08.2028\n",
       "2024-06-26    Vidak Krkobabić  26.06.2024\n",
       "2029-01-06    Mateusz Melánia  06.01.2029"
      ]
     },
     "execution_count": 222,
     "metadata": {},
     "output_type": "execute_result"
    }
   ],
   "source": [
    "birth_dates.set_index(\"BirthDate2\").loc[\"2024-01-01\":,:]"
   ]
  },
  {
   "cell_type": "code",
   "execution_count": 226,
   "metadata": {},
   "outputs": [
    {
     "data": {
      "text/plain": [
       "             total_bill   tip smoker    time  size\n",
       "sex    day                                        \n",
       "Female Fri         5.75  1.00    Yes  Dinner     2\n",
       "       Fri        16.32  4.30    Yes  Dinner     2\n",
       "       Fri        22.75  3.25     No  Dinner     2\n",
       "       Fri        11.35  2.50    Yes  Dinner     2\n",
       "       Fri        15.38  3.00    Yes  Dinner     2\n",
       "       Fri        13.42  3.48    Yes   Lunch     2\n",
       "       Fri        15.98  3.00     No   Lunch     3\n",
       "       Fri        16.27  2.50    Yes   Lunch     2\n",
       "       Fri        10.09  2.00    Yes   Lunch     2\n",
       "       Sat        20.29  2.75     No  Dinner     2\n",
       "       Sat        15.77  2.23     No  Dinner     2\n",
       "       Sat        19.65  3.00     No  Dinner     2\n",
       "       Sat        15.06  3.00     No  Dinner     2\n",
       "       Sat        20.69  2.45     No  Dinner     4\n",
       "       Sat        16.93  3.07     No  Dinner     3\n",
       "       Sat        26.41  1.50     No  Dinner     2\n",
       "       Sat        16.45  2.47     No  Dinner     2\n",
       "       Sat         3.07  1.00    Yes  Dinner     1\n",
       "       Sat        17.07  3.00     No  Dinner     3\n",
       "       Sat        26.86  3.14    Yes  Dinner     2\n",
       "       Sat        25.28  5.00    Yes  Dinner     2\n",
       "       Sat        14.73  2.20     No  Dinner     2\n",
       "       Sat        44.30  2.50    Yes  Dinner     3\n",
       "       Sat        22.42  3.48    Yes  Dinner     2\n",
       "       Sat        20.92  4.08     No  Dinner     2\n",
       "       Sat        14.31  4.00    Yes  Dinner     2\n",
       "       Sat         7.25  1.00     No  Dinner     1\n",
       "       Sat        10.59  1.61    Yes  Dinner     2\n",
       "       Sat        10.63  2.00    Yes  Dinner     2\n",
       "       Sat        12.76  2.23    Yes  Dinner     2\n",
       "...                 ...   ...    ...     ...   ...\n",
       "Male   Thur       27.20  4.00     No   Lunch     4\n",
       "       Thur       22.76  3.00     No   Lunch     2\n",
       "       Thur       17.29  2.71     No   Lunch     2\n",
       "       Thur       19.44  3.00    Yes   Lunch     2\n",
       "       Thur       16.66  3.40     No   Lunch     2\n",
       "       Thur       32.68  5.00    Yes   Lunch     2\n",
       "       Thur       15.98  2.03     No   Lunch     2\n",
       "       Thur       13.03  2.00     No   Lunch     2\n",
       "       Thur       18.28  4.00     No   Lunch     2\n",
       "       Thur       24.71  5.85     No   Lunch     2\n",
       "       Thur       21.16  3.00     No   Lunch     2\n",
       "       Thur       11.69  2.31     No   Lunch     2\n",
       "       Thur       14.26  2.50     No   Lunch     2\n",
       "       Thur       15.95  2.00     No   Lunch     2\n",
       "       Thur        8.52  1.48     No   Lunch     2\n",
       "       Thur       22.82  2.18     No   Lunch     3\n",
       "       Thur       19.08  1.50     No   Lunch     2\n",
       "       Thur       16.00  2.00    Yes   Lunch     2\n",
       "       Thur       34.30  6.70     No   Lunch     6\n",
       "       Thur       41.19  5.00     No   Lunch     5\n",
       "       Thur        9.78  1.73     No   Lunch     2\n",
       "       Thur        7.51  2.00     No   Lunch     2\n",
       "       Thur       28.44  2.56    Yes   Lunch     2\n",
       "       Thur       15.48  2.02    Yes   Lunch     2\n",
       "       Thur       16.58  4.00    Yes   Lunch     2\n",
       "       Thur        7.56  1.44     No   Lunch     2\n",
       "       Thur       10.34  2.00    Yes   Lunch     2\n",
       "       Thur       13.51  2.00    Yes   Lunch     2\n",
       "       Thur       18.71  4.00    Yes   Lunch     3\n",
       "       Thur       20.53  4.00    Yes   Lunch     4\n",
       "\n",
       "[244 rows x 5 columns]"
      ]
     },
     "execution_count": 226,
     "metadata": {},
     "output_type": "execute_result"
    }
   ],
   "source": [
    "#hierarchical index\n",
    "tips.sort_values([\"sex\",\"day\"]).set_index([\"sex\",\"day\"])"
   ]
  },
  {
   "cell_type": "code",
   "execution_count": 228,
   "metadata": {},
   "outputs": [
    {
     "data": {
      "text/plain": [
       "             total_bill       tip      size\n",
       "sex    day                                 \n",
       "Female Fri    14.145556  2.781111  2.111111\n",
       "       Sat    19.680357  2.801786  2.250000\n",
       "       Sun    19.872222  3.367222  2.944444\n",
       "       Thur   16.715312  2.575625  2.468750\n",
       "Male   Fri    19.857000  2.693000  2.100000\n",
       "       Sat    20.802542  3.083898  2.644068\n",
       "       Sun    21.887241  3.220345  2.810345\n",
       "       Thur   18.714667  2.980333  2.433333"
      ]
     },
     "execution_count": 228,
     "metadata": {},
     "output_type": "execute_result"
    }
   ],
   "source": [
    "tips.groupby([\"sex\",\"day\"]).mean()"
   ]
  },
  {
   "cell_type": "code",
   "execution_count": 230,
   "metadata": {},
   "outputs": [
    {
     "data": {
      "text/plain": [
       "      sex   day  total_bill       tip      size\n",
       "0  Female   Fri   14.145556  2.781111  2.111111\n",
       "1  Female   Sat   19.680357  2.801786  2.250000\n",
       "2  Female   Sun   19.872222  3.367222  2.944444\n",
       "3  Female  Thur   16.715312  2.575625  2.468750\n",
       "4    Male   Fri   19.857000  2.693000  2.100000\n",
       "5    Male   Sat   20.802542  3.083898  2.644068\n",
       "6    Male   Sun   21.887241  3.220345  2.810345\n",
       "7    Male  Thur   18.714667  2.980333  2.433333"
      ]
     },
     "execution_count": 230,
     "metadata": {},
     "output_type": "execute_result"
    }
   ],
   "source": [
    "tips.groupby([\"sex\",\"day\"]).mean().reset_index()"
   ]
  },
  {
   "cell_type": "code",
   "execution_count": 231,
   "metadata": {},
   "outputs": [
    {
     "data": {
      "text/plain": [
       "                  total_bill       tip\n",
       "sex    day  size                      \n",
       "Female Fri  2      13.916250  2.753750\n",
       "            3      15.980000  3.000000\n",
       "       Sat  1       5.160000  1.000000\n",
       "            2      18.294737  2.693158\n",
       "            3      28.460000  3.948000\n",
       "            4      25.415000  2.770000\n",
       "       Sun  2      14.274286  2.820000\n",
       "            3      18.045000  3.028333\n",
       "            4      29.915000  4.390000\n",
       "            5      29.850000  5.140000\n",
       "       Thur 1      10.070000  1.830000\n",
       "            2      13.785000  2.237917\n",
       "            3      17.555000  2.295000\n",
       "            4      34.006667  4.363333\n",
       "            6      28.425000  4.600000\n",
       "Male   Fri  1       8.580000  1.920000\n",
       "            2      18.727500  2.535000\n",
       "            4      40.170000  4.730000\n",
       "       Sat  2      16.022647  2.419412\n",
       "            3      24.374615  3.740000\n",
       "            4      30.687273  4.370000\n",
       "            5      28.150000  3.000000\n",
       "       Sun  2      18.278750  2.816250\n",
       "            3      24.943333  3.182222\n",
       "            4      25.766429  4.001429\n",
       "            5      25.575000  3.500000\n",
       "            6      48.170000  5.000000\n",
       "       Thur 2      16.528750  2.647083\n",
       "            3      20.765000  3.090000\n",
       "            4      23.865000  4.000000\n",
       "            5      41.190000  5.000000\n",
       "            6      34.300000  6.700000"
      ]
     },
     "execution_count": 231,
     "metadata": {},
     "output_type": "execute_result"
    }
   ],
   "source": [
    "tips.groupby([\"sex\",\"day\",\"size\"]).mean()"
   ]
  },
  {
   "cell_type": "code",
   "execution_count": 233,
   "metadata": {},
   "outputs": [
    {
     "data": {
      "text/plain": [
       "     year      month  passengers\n",
       "95   1956   December         306\n",
       "20   1950  September         158\n",
       "131  1959   December         405\n",
       "6    1949       July         148\n",
       "141  1960    October         461"
      ]
     },
     "execution_count": 233,
     "metadata": {},
     "output_type": "execute_result"
    }
   ],
   "source": [
    "flights.sample(5)"
   ]
  },
  {
   "cell_type": "code",
   "execution_count": 260,
   "metadata": {},
   "outputs": [
    {
     "data": {
      "text/plain": [
       "            year      month  passengers\n",
       "1950-03-01  1950      March         141\n",
       "1957-10-01  1957    October         347\n",
       "1951-09-01  1951  September         184\n",
       "1959-03-01  1959      March         406\n",
       "1950-02-01  1950   February         126"
      ]
     },
     "execution_count": 260,
     "metadata": {},
     "output_type": "execute_result"
    }
   ],
   "source": [
    "flights2 = flights.copy()\n",
    "flights2.index = pd.to_datetime(flights2[\"month\"] +\"-\" +flights2[\"year\"].astype(\"str\"),format=\"%B-%Y\")\n",
    "flights2.sample(5)"
   ]
  },
  {
   "cell_type": "code",
   "execution_count": 270,
   "metadata": {},
   "outputs": [
    {
     "data": {
      "text/plain": [
       "<matplotlib.axes._subplots.AxesSubplot at 0x110e7c3c8>"
      ]
     },
     "execution_count": 270,
     "metadata": {},
     "output_type": "execute_result"
    },
    {
     "data": {
      "image/png": "[encoded data removed]",
      "text/plain": [
       "<Figure size 432x288 with 1 Axes>"
      ]
     },
     "metadata": {},
     "output_type": "display_data"
    }
   ],
   "source": [
    "flights2.passengers.plot()"
   ]
  },
  {
   "cell_type": "code",
   "execution_count": 272,
   "metadata": {},
   "outputs": [
    {
     "data": {
      "text/plain": [
       "<matplotlib.axes._subplots.AxesSubplot at 0x110e62a58>"
      ]
     },
     "execution_count": 272,
     "metadata": {},
     "output_type": "execute_result"
    },
    {
     "data": {
      "image/png": "[encoded data removed]",
      "text/plain": [
       "<Figure size 432x288 with 1 Axes>"
      ]
     },
     "metadata": {},
     "output_type": "display_data"
    }
   ],
   "source": [
    "tips.groupby([\"sex\",\"day\"]).tip.mean().plot(kind=\"bar\")"
   ]
  },
  {
   "cell_type": "markdown",
   "metadata": {},
   "source": [
    "# Indexing Series"
   ]
  },
  {
   "cell_type": "code",
   "execution_count": 274,
   "metadata": {},
   "outputs": [],
   "source": [
    "np.random.seed(123)\n",
    "b = pd.Series(np.round(np.random.uniform(0,1,10),2))\n",
    "c = b.copy()\n",
    "c.index = [\"a\", \"b\", \"c\", \"d\", \"e\", \"f\", \"g\", \"h\", \"i\", \"j\"]\n",
    "b.index = np.random.permutation(np.r_[0:10])"
   ]
  },
  {
   "cell_type": "code",
   "execution_count": 276,
   "metadata": {},
   "outputs": [
    {
     "data": {
      "text/plain": [
       "2    0.70\n",
       "1    0.29\n",
       "8    0.23\n",
       "7    0.55\n",
       "9    0.72\n",
       "4    0.42\n",
       "5    0.98\n",
       "6    0.68\n",
       "3    0.48\n",
       "0    0.39\n",
       "dtype: float64"
      ]
     },
     "execution_count": 276,
     "metadata": {},
     "output_type": "execute_result"
    }
   ],
   "source": [
    "b"
   ]
  },
  {
   "cell_type": "code",
   "execution_count": 277,
   "metadata": {},
   "outputs": [
    {
     "data": {
      "text/plain": [
       "a    0.70\n",
       "b    0.29\n",
       "c    0.23\n",
       "d    0.55\n",
       "e    0.72\n",
       "f    0.42\n",
       "g    0.98\n",
       "h    0.68\n",
       "i    0.48\n",
       "j    0.39\n",
       "dtype: float64"
      ]
     },
     "execution_count": 277,
     "metadata": {},
     "output_type": "execute_result"
    }
   ],
   "source": [
    "c"
   ]
  },
  {
   "cell_type": "code",
   "execution_count": 279,
   "metadata": {},
   "outputs": [
    {
     "data": {
      "text/plain": [
       "2    0.7\n",
       "dtype: float64"
      ]
     },
     "execution_count": 279,
     "metadata": {},
     "output_type": "execute_result"
    }
   ],
   "source": [
    "# b[] , c[]\n",
    "\n",
    "# NEVER APPLY [] DIRECTLY ON SERIES\n",
    "b[0:1] # position based\n"
   ]
  },
  {
   "cell_type": "code",
   "execution_count": 281,
   "metadata": {},
   "outputs": [
    {
     "data": {
      "text/plain": [
       "0.39"
      ]
     },
     "execution_count": 281,
     "metadata": {},
     "output_type": "execute_result"
    }
   ],
   "source": [
    "b[0] # label (index) based"
   ]
  },
  {
   "cell_type": "code",
   "execution_count": 283,
   "metadata": {},
   "outputs": [
    {
     "data": {
      "text/plain": [
       "0    0.39\n",
       "dtype: float64"
      ]
     },
     "execution_count": 283,
     "metadata": {},
     "output_type": "execute_result"
    }
   ],
   "source": [
    "b[[0]]  # label (index) based"
   ]
  },
  {
   "cell_type": "code",
   "execution_count": 284,
   "metadata": {},
   "outputs": [
    {
     "data": {
      "text/plain": [
       "0.39"
      ]
     },
     "execution_count": 284,
     "metadata": {},
     "output_type": "execute_result"
    }
   ],
   "source": [
    "b.loc[0] # label based"
   ]
  },
  {
   "cell_type": "code",
   "execution_count": 286,
   "metadata": {},
   "outputs": [
    {
     "data": {
      "text/plain": [
       "0.7"
      ]
     },
     "execution_count": 286,
     "metadata": {},
     "output_type": "execute_result"
    }
   ],
   "source": [
    "b.iloc[0] # position based"
   ]
  },
  {
   "cell_type": "code",
   "execution_count": 288,
   "metadata": {},
   "outputs": [
    {
     "data": {
      "text/plain": [
       "0.7"
      ]
     },
     "execution_count": 288,
     "metadata": {},
     "output_type": "execute_result"
    }
   ],
   "source": [
    "c.iloc[0]"
   ]
  },
  {
   "cell_type": "code",
   "execution_count": 290,
   "metadata": {},
   "outputs": [
    {
     "ename": "TypeError",
     "evalue": "cannot do label indexing on <class 'pandas.core.indexes.base.Index'> with these indexers [0] of <class 'int'>",
     "output_type": "error",
     "traceback": [
      "\u001b[0;31m---------------------------------------------------------------------------\u001b[0m",
      "\u001b[0;31mTypeError\u001b[0m                                 Traceback (most recent call last)",
      "\u001b[0;32m<ipython-input-290-1a3609c85337>\u001b[0m in \u001b[0;36m<module>\u001b[0;34m()\u001b[0m\n\u001b[0;32m----> 1\u001b[0;31m \u001b[0mc\u001b[0m\u001b[0;34m.\u001b[0m\u001b[0mloc\u001b[0m\u001b[0;34m[\u001b[0m\u001b[0;36m0\u001b[0m\u001b[0;34m]\u001b[0m\u001b[0;34m\u001b[0m\u001b[0m\n\u001b[0m",
      "\u001b[0;32m~/.pyenv/versions/3.6.5/Python.framework/Versions/3.6/lib/python3.6/site-packages/pandas/core/indexing.py\u001b[0m in \u001b[0;36m__getitem__\u001b[0;34m(self, key)\u001b[0m\n\u001b[1;32m   1476\u001b[0m \u001b[0;34m\u001b[0m\u001b[0m\n\u001b[1;32m   1477\u001b[0m             \u001b[0mmaybe_callable\u001b[0m \u001b[0;34m=\u001b[0m \u001b[0mcom\u001b[0m\u001b[0;34m.\u001b[0m\u001b[0m_apply_if_callable\u001b[0m\u001b[0;34m(\u001b[0m\u001b[0mkey\u001b[0m\u001b[0;34m,\u001b[0m \u001b[0mself\u001b[0m\u001b[0;34m.\u001b[0m\u001b[0mobj\u001b[0m\u001b[0;34m)\u001b[0m\u001b[0;34m\u001b[0m\u001b[0m\n\u001b[0;32m-> 1478\u001b[0;31m             \u001b[0;32mreturn\u001b[0m \u001b[0mself\u001b[0m\u001b[0;34m.\u001b[0m\u001b[0m_getitem_axis\u001b[0m\u001b[0;34m(\u001b[0m\u001b[0mmaybe_callable\u001b[0m\u001b[0;34m,\u001b[0m \u001b[0maxis\u001b[0m\u001b[0;34m=\u001b[0m\u001b[0maxis\u001b[0m\u001b[0;34m)\u001b[0m\u001b[0;34m\u001b[0m\u001b[0m\n\u001b[0m\u001b[1;32m   1479\u001b[0m \u001b[0;34m\u001b[0m\u001b[0m\n\u001b[1;32m   1480\u001b[0m     \u001b[0;32mdef\u001b[0m \u001b[0m_is_scalar_access\u001b[0m\u001b[0;34m(\u001b[0m\u001b[0mself\u001b[0m\u001b[0;34m,\u001b[0m \u001b[0mkey\u001b[0m\u001b[0;34m)\u001b[0m\u001b[0;34m:\u001b[0m\u001b[0;34m\u001b[0m\u001b[0m\n",
      "\u001b[0;32m~/.pyenv/versions/3.6.5/Python.framework/Versions/3.6/lib/python3.6/site-packages/pandas/core/indexing.py\u001b[0m in \u001b[0;36m_getitem_axis\u001b[0;34m(self, key, axis)\u001b[0m\n\u001b[1;32m   1909\u001b[0m \u001b[0;34m\u001b[0m\u001b[0m\n\u001b[1;32m   1910\u001b[0m         \u001b[0;31m# fall thru to straight lookup\u001b[0m\u001b[0;34m\u001b[0m\u001b[0;34m\u001b[0m\u001b[0m\n\u001b[0;32m-> 1911\u001b[0;31m         \u001b[0mself\u001b[0m\u001b[0;34m.\u001b[0m\u001b[0m_validate_key\u001b[0m\u001b[0;34m(\u001b[0m\u001b[0mkey\u001b[0m\u001b[0;34m,\u001b[0m \u001b[0maxis\u001b[0m\u001b[0;34m)\u001b[0m\u001b[0;34m\u001b[0m\u001b[0m\n\u001b[0m\u001b[1;32m   1912\u001b[0m         \u001b[0;32mreturn\u001b[0m \u001b[0mself\u001b[0m\u001b[0;34m.\u001b[0m\u001b[0m_get_label\u001b[0m\u001b[0;34m(\u001b[0m\u001b[0mkey\u001b[0m\u001b[0;34m,\u001b[0m \u001b[0maxis\u001b[0m\u001b[0;34m=\u001b[0m\u001b[0maxis\u001b[0m\u001b[0;34m)\u001b[0m\u001b[0;34m\u001b[0m\u001b[0m\n\u001b[1;32m   1913\u001b[0m \u001b[0;34m\u001b[0m\u001b[0m\n",
      "\u001b[0;32m~/.pyenv/versions/3.6.5/Python.framework/Versions/3.6/lib/python3.6/site-packages/pandas/core/indexing.py\u001b[0m in \u001b[0;36m_validate_key\u001b[0;34m(self, key, axis)\u001b[0m\n\u001b[1;32m   1786\u001b[0m \u001b[0;34m\u001b[0m\u001b[0m\n\u001b[1;32m   1787\u001b[0m             \u001b[0;32mtry\u001b[0m\u001b[0;34m:\u001b[0m\u001b[0;34m\u001b[0m\u001b[0m\n\u001b[0;32m-> 1788\u001b[0;31m                 \u001b[0mkey\u001b[0m \u001b[0;34m=\u001b[0m \u001b[0mself\u001b[0m\u001b[0;34m.\u001b[0m\u001b[0m_convert_scalar_indexer\u001b[0m\u001b[0;34m(\u001b[0m\u001b[0mkey\u001b[0m\u001b[0;34m,\u001b[0m \u001b[0maxis\u001b[0m\u001b[0;34m)\u001b[0m\u001b[0;34m\u001b[0m\u001b[0m\n\u001b[0m\u001b[1;32m   1789\u001b[0m                 \u001b[0;32mif\u001b[0m \u001b[0;32mnot\u001b[0m \u001b[0max\u001b[0m\u001b[0;34m.\u001b[0m\u001b[0mcontains\u001b[0m\u001b[0;34m(\u001b[0m\u001b[0mkey\u001b[0m\u001b[0;34m)\u001b[0m\u001b[0;34m:\u001b[0m\u001b[0;34m\u001b[0m\u001b[0m\n\u001b[1;32m   1790\u001b[0m                     \u001b[0merror\u001b[0m\u001b[0;34m(\u001b[0m\u001b[0;34m)\u001b[0m\u001b[0;34m\u001b[0m\u001b[0m\n",
      "\u001b[0;32m~/.pyenv/versions/3.6.5/Python.framework/Versions/3.6/lib/python3.6/site-packages/pandas/core/indexing.py\u001b[0m in \u001b[0;36m_convert_scalar_indexer\u001b[0;34m(self, key, axis)\u001b[0m\n\u001b[1;32m    259\u001b[0m         \u001b[0max\u001b[0m \u001b[0;34m=\u001b[0m \u001b[0mself\u001b[0m\u001b[0;34m.\u001b[0m\u001b[0mobj\u001b[0m\u001b[0;34m.\u001b[0m\u001b[0m_get_axis\u001b[0m\u001b[0;34m(\u001b[0m\u001b[0mmin\u001b[0m\u001b[0;34m(\u001b[0m\u001b[0maxis\u001b[0m\u001b[0;34m,\u001b[0m \u001b[0mself\u001b[0m\u001b[0;34m.\u001b[0m\u001b[0mndim\u001b[0m \u001b[0;34m-\u001b[0m \u001b[0;36m1\u001b[0m\u001b[0;34m)\u001b[0m\u001b[0;34m)\u001b[0m\u001b[0;34m\u001b[0m\u001b[0m\n\u001b[1;32m    260\u001b[0m         \u001b[0;31m# a scalar\u001b[0m\u001b[0;34m\u001b[0m\u001b[0;34m\u001b[0m\u001b[0m\n\u001b[0;32m--> 261\u001b[0;31m         \u001b[0;32mreturn\u001b[0m \u001b[0max\u001b[0m\u001b[0;34m.\u001b[0m\u001b[0m_convert_scalar_indexer\u001b[0m\u001b[0;34m(\u001b[0m\u001b[0mkey\u001b[0m\u001b[0;34m,\u001b[0m \u001b[0mkind\u001b[0m\u001b[0;34m=\u001b[0m\u001b[0mself\u001b[0m\u001b[0;34m.\u001b[0m\u001b[0mname\u001b[0m\u001b[0;34m)\u001b[0m\u001b[0;34m\u001b[0m\u001b[0m\n\u001b[0m\u001b[1;32m    262\u001b[0m \u001b[0;34m\u001b[0m\u001b[0m\n\u001b[1;32m    263\u001b[0m     \u001b[0;32mdef\u001b[0m \u001b[0m_convert_slice_indexer\u001b[0m\u001b[0;34m(\u001b[0m\u001b[0mself\u001b[0m\u001b[0;34m,\u001b[0m \u001b[0mkey\u001b[0m\u001b[0;34m,\u001b[0m \u001b[0maxis\u001b[0m\u001b[0;34m)\u001b[0m\u001b[0;34m:\u001b[0m\u001b[0;34m\u001b[0m\u001b[0m\n",
      "\u001b[0;32m~/.pyenv/versions/3.6.5/Python.framework/Versions/3.6/lib/python3.6/site-packages/pandas/core/indexes/base.py\u001b[0m in \u001b[0;36m_convert_scalar_indexer\u001b[0;34m(self, key, kind)\u001b[0m\n\u001b[1;32m   1662\u001b[0m             \u001b[0;32melif\u001b[0m \u001b[0mkind\u001b[0m \u001b[0;32min\u001b[0m \u001b[0;34m[\u001b[0m\u001b[0;34m'loc'\u001b[0m\u001b[0;34m]\u001b[0m \u001b[0;32mand\u001b[0m \u001b[0mis_integer\u001b[0m\u001b[0;34m(\u001b[0m\u001b[0mkey\u001b[0m\u001b[0;34m)\u001b[0m\u001b[0;34m:\u001b[0m\u001b[0;34m\u001b[0m\u001b[0m\n\u001b[1;32m   1663\u001b[0m                 \u001b[0;32mif\u001b[0m \u001b[0;32mnot\u001b[0m \u001b[0mself\u001b[0m\u001b[0;34m.\u001b[0m\u001b[0mholds_integer\u001b[0m\u001b[0;34m(\u001b[0m\u001b[0;34m)\u001b[0m\u001b[0;34m:\u001b[0m\u001b[0;34m\u001b[0m\u001b[0m\n\u001b[0;32m-> 1664\u001b[0;31m                     \u001b[0;32mreturn\u001b[0m \u001b[0mself\u001b[0m\u001b[0;34m.\u001b[0m\u001b[0m_invalid_indexer\u001b[0m\u001b[0;34m(\u001b[0m\u001b[0;34m'label'\u001b[0m\u001b[0;34m,\u001b[0m \u001b[0mkey\u001b[0m\u001b[0;34m)\u001b[0m\u001b[0;34m\u001b[0m\u001b[0m\n\u001b[0m\u001b[1;32m   1665\u001b[0m \u001b[0;34m\u001b[0m\u001b[0m\n\u001b[1;32m   1666\u001b[0m         \u001b[0;32mreturn\u001b[0m \u001b[0mkey\u001b[0m\u001b[0;34m\u001b[0m\u001b[0m\n",
      "\u001b[0;32m~/.pyenv/versions/3.6.5/Python.framework/Versions/3.6/lib/python3.6/site-packages/pandas/core/indexes/base.py\u001b[0m in \u001b[0;36m_invalid_indexer\u001b[0;34m(self, form, key)\u001b[0m\n\u001b[1;32m   1846\u001b[0m                         \"indexers [{key}] of {kind}\".format(\n\u001b[1;32m   1847\u001b[0m                             \u001b[0mform\u001b[0m\u001b[0;34m=\u001b[0m\u001b[0mform\u001b[0m\u001b[0;34m,\u001b[0m \u001b[0mklass\u001b[0m\u001b[0;34m=\u001b[0m\u001b[0mtype\u001b[0m\u001b[0;34m(\u001b[0m\u001b[0mself\u001b[0m\u001b[0;34m)\u001b[0m\u001b[0;34m,\u001b[0m \u001b[0mkey\u001b[0m\u001b[0;34m=\u001b[0m\u001b[0mkey\u001b[0m\u001b[0;34m,\u001b[0m\u001b[0;34m\u001b[0m\u001b[0m\n\u001b[0;32m-> 1848\u001b[0;31m                             kind=type(key)))\n\u001b[0m\u001b[1;32m   1849\u001b[0m \u001b[0;34m\u001b[0m\u001b[0m\n\u001b[1;32m   1850\u001b[0m     \u001b[0;32mdef\u001b[0m \u001b[0mget_duplicates\u001b[0m\u001b[0;34m(\u001b[0m\u001b[0mself\u001b[0m\u001b[0;34m)\u001b[0m\u001b[0;34m:\u001b[0m\u001b[0;34m\u001b[0m\u001b[0m\n",
      "\u001b[0;31mTypeError\u001b[0m: cannot do label indexing on <class 'pandas.core.indexes.base.Index'> with these indexers [0] of <class 'int'>"
     ]
    }
   ],
   "source": [
    "c.loc[0] #Error no lable 0"
   ]
  },
  {
   "cell_type": "code",
   "execution_count": 292,
   "metadata": {},
   "outputs": [
    {
     "data": {
      "text/plain": [
       "0.39"
      ]
     },
     "execution_count": 292,
     "metadata": {},
     "output_type": "execute_result"
    }
   ],
   "source": [
    "c.loc[\"j\"]"
   ]
  },
  {
   "cell_type": "code",
   "execution_count": 294,
   "metadata": {},
   "outputs": [
    {
     "data": {
      "text/plain": [
       "9    0.72\n",
       "4    0.42\n",
       "5    0.98\n",
       "dtype: float64"
      ]
     },
     "execution_count": 294,
     "metadata": {},
     "output_type": "execute_result"
    }
   ],
   "source": [
    "b.iloc[4:7] #excluding 7"
   ]
  },
  {
   "cell_type": "code",
   "execution_count": 299,
   "metadata": {},
   "outputs": [
    {
     "data": {
      "text/plain": [
       "1    0.29\n",
       "8    0.23\n",
       "7    0.55\n",
       "dtype: float64"
      ]
     },
     "execution_count": 299,
     "metadata": {},
     "output_type": "execute_result"
    }
   ],
   "source": [
    "b.loc[1:7] #including 7"
   ]
  },
  {
   "cell_type": "code",
   "execution_count": 301,
   "metadata": {},
   "outputs": [
    {
     "data": {
      "text/plain": [
       "c    0.23\n",
       "d    0.55\n",
       "e    0.72\n",
       "dtype: float64"
      ]
     },
     "execution_count": 301,
     "metadata": {},
     "output_type": "execute_result"
    }
   ],
   "source": [
    "c.loc[\"c\":\"e\"]"
   ]
  },
  {
   "cell_type": "code",
   "execution_count": 303,
   "metadata": {},
   "outputs": [
    {
     "data": {
      "text/plain": [
       "2    0.70\n",
       "1    0.29\n",
       "8    0.23\n",
       "dtype: float64"
      ]
     },
     "execution_count": 303,
     "metadata": {},
     "output_type": "execute_result"
    }
   ],
   "source": [
    "b.iloc[[0,1,2]]"
   ]
  },
  {
   "cell_type": "code",
   "execution_count": 305,
   "metadata": {},
   "outputs": [
    {
     "data": {
      "text/plain": [
       "0    0.39\n",
       "1    0.29\n",
       "2    0.70\n",
       "dtype: float64"
      ]
     },
     "execution_count": 305,
     "metadata": {},
     "output_type": "execute_result"
    }
   ],
   "source": [
    "b.loc[[0,1,2]]"
   ]
  },
  {
   "cell_type": "code",
   "execution_count": 307,
   "metadata": {},
   "outputs": [
    {
     "data": {
      "text/plain": [
       "e    0.72\n",
       "g    0.98\n",
       "dtype: float64"
      ]
     },
     "execution_count": 307,
     "metadata": {},
     "output_type": "execute_result"
    }
   ],
   "source": [
    "c.loc[c>0.7]"
   ]
  },
  {
   "cell_type": "code",
   "execution_count": 311,
   "metadata": {},
   "outputs": [
    {
     "ename": "ValueError",
     "evalue": "iLocation based boolean indexing cannot use an indexable as a mask",
     "output_type": "error",
     "traceback": [
      "\u001b[0;31m---------------------------------------------------------------------------\u001b[0m",
      "\u001b[0;31mValueError\u001b[0m                                Traceback (most recent call last)",
      "\u001b[0;32m<ipython-input-311-b95c81f79215>\u001b[0m in \u001b[0;36m<module>\u001b[0;34m()\u001b[0m\n\u001b[0;32m----> 1\u001b[0;31m \u001b[0mc\u001b[0m\u001b[0;34m.\u001b[0m\u001b[0miloc\u001b[0m\u001b[0;34m[\u001b[0m\u001b[0mc\u001b[0m\u001b[0;34m>\u001b[0m\u001b[0;36m0.7\u001b[0m\u001b[0;34m]\u001b[0m \u001b[0;31m#Error . pandas series bool\u001b[0m\u001b[0;34m\u001b[0m\u001b[0m\n\u001b[0m",
      "\u001b[0;32m~/.pyenv/versions/3.6.5/Python.framework/Versions/3.6/lib/python3.6/site-packages/pandas/core/indexing.py\u001b[0m in \u001b[0;36m__getitem__\u001b[0;34m(self, key)\u001b[0m\n\u001b[1;32m   1476\u001b[0m \u001b[0;34m\u001b[0m\u001b[0m\n\u001b[1;32m   1477\u001b[0m             \u001b[0mmaybe_callable\u001b[0m \u001b[0;34m=\u001b[0m \u001b[0mcom\u001b[0m\u001b[0;34m.\u001b[0m\u001b[0m_apply_if_callable\u001b[0m\u001b[0;34m(\u001b[0m\u001b[0mkey\u001b[0m\u001b[0;34m,\u001b[0m \u001b[0mself\u001b[0m\u001b[0;34m.\u001b[0m\u001b[0mobj\u001b[0m\u001b[0;34m)\u001b[0m\u001b[0;34m\u001b[0m\u001b[0m\n\u001b[0;32m-> 1478\u001b[0;31m             \u001b[0;32mreturn\u001b[0m \u001b[0mself\u001b[0m\u001b[0;34m.\u001b[0m\u001b[0m_getitem_axis\u001b[0m\u001b[0;34m(\u001b[0m\u001b[0mmaybe_callable\u001b[0m\u001b[0;34m,\u001b[0m \u001b[0maxis\u001b[0m\u001b[0;34m=\u001b[0m\u001b[0maxis\u001b[0m\u001b[0;34m)\u001b[0m\u001b[0;34m\u001b[0m\u001b[0m\n\u001b[0m\u001b[1;32m   1479\u001b[0m \u001b[0;34m\u001b[0m\u001b[0m\n\u001b[1;32m   1480\u001b[0m     \u001b[0;32mdef\u001b[0m \u001b[0m_is_scalar_access\u001b[0m\u001b[0;34m(\u001b[0m\u001b[0mself\u001b[0m\u001b[0;34m,\u001b[0m \u001b[0mkey\u001b[0m\u001b[0;34m)\u001b[0m\u001b[0;34m:\u001b[0m\u001b[0;34m\u001b[0m\u001b[0m\n",
      "\u001b[0;32m~/.pyenv/versions/3.6.5/Python.framework/Versions/3.6/lib/python3.6/site-packages/pandas/core/indexing.py\u001b[0m in \u001b[0;36m_getitem_axis\u001b[0;34m(self, key, axis)\u001b[0m\n\u001b[1;32m   2084\u001b[0m \u001b[0;34m\u001b[0m\u001b[0m\n\u001b[1;32m   2085\u001b[0m         \u001b[0;32mif\u001b[0m \u001b[0mcom\u001b[0m\u001b[0;34m.\u001b[0m\u001b[0mis_bool_indexer\u001b[0m\u001b[0;34m(\u001b[0m\u001b[0mkey\u001b[0m\u001b[0;34m)\u001b[0m\u001b[0;34m:\u001b[0m\u001b[0;34m\u001b[0m\u001b[0m\n\u001b[0;32m-> 2086\u001b[0;31m             \u001b[0mself\u001b[0m\u001b[0;34m.\u001b[0m\u001b[0m_validate_key\u001b[0m\u001b[0;34m(\u001b[0m\u001b[0mkey\u001b[0m\u001b[0;34m,\u001b[0m \u001b[0maxis\u001b[0m\u001b[0;34m)\u001b[0m\u001b[0;34m\u001b[0m\u001b[0m\n\u001b[0m\u001b[1;32m   2087\u001b[0m             \u001b[0;32mreturn\u001b[0m \u001b[0mself\u001b[0m\u001b[0;34m.\u001b[0m\u001b[0m_getbool_axis\u001b[0m\u001b[0;34m(\u001b[0m\u001b[0mkey\u001b[0m\u001b[0;34m,\u001b[0m \u001b[0maxis\u001b[0m\u001b[0;34m=\u001b[0m\u001b[0maxis\u001b[0m\u001b[0;34m)\u001b[0m\u001b[0;34m\u001b[0m\u001b[0m\n\u001b[1;32m   2088\u001b[0m \u001b[0;34m\u001b[0m\u001b[0m\n",
      "\u001b[0;32m~/.pyenv/versions/3.6.5/Python.framework/Versions/3.6/lib/python3.6/site-packages/pandas/core/indexing.py\u001b[0m in \u001b[0;36m_validate_key\u001b[0;34m(self, key, axis)\u001b[0m\n\u001b[1;32m   1948\u001b[0m                                               \u001b[0;34m\"indexing on an integer type \"\u001b[0m\u001b[0;34m\u001b[0m\u001b[0m\n\u001b[1;32m   1949\u001b[0m                                               \"is not available\")\n\u001b[0;32m-> 1950\u001b[0;31m                 raise ValueError(\"iLocation based boolean indexing cannot use \"\n\u001b[0m\u001b[1;32m   1951\u001b[0m                                  \"an indexable as a mask\")\n\u001b[1;32m   1952\u001b[0m             \u001b[0;32mreturn\u001b[0m\u001b[0;34m\u001b[0m\u001b[0m\n",
      "\u001b[0;31mValueError\u001b[0m: iLocation based boolean indexing cannot use an indexable as a mask"
     ]
    }
   ],
   "source": [
    "c.iloc[c>0.7] #Error . pandas series bool"
   ]
  },
  {
   "cell_type": "code",
   "execution_count": 313,
   "metadata": {},
   "outputs": [
    {
     "data": {
      "text/plain": [
       "e    0.72\n",
       "g    0.98\n",
       "dtype: float64"
      ]
     },
     "execution_count": 313,
     "metadata": {},
     "output_type": "execute_result"
    }
   ],
   "source": [
    "c.iloc[c.values > 0.7 ] #numpy vector bool"
   ]
  },
  {
   "cell_type": "code",
   "execution_count": 315,
   "metadata": {},
   "outputs": [
    {
     "data": {
      "text/plain": [
       "a    False\n",
       "b    False\n",
       "c    False\n",
       "d    False\n",
       "e     True\n",
       "f    False\n",
       "g     True\n",
       "h    False\n",
       "i    False\n",
       "j    False\n",
       "dtype: bool"
      ]
     },
     "execution_count": 315,
     "metadata": {},
     "output_type": "execute_result"
    }
   ],
   "source": [
    "c>0.7"
   ]
  },
  {
   "cell_type": "code",
   "execution_count": null,
   "metadata": {},
   "outputs": [],
   "source": []
  },
  {
   "cell_type": "code",
   "execution_count": 346,
   "metadata": {},
   "outputs": [
    {
     "data": {
      "text/plain": [
       "1          Benno Blumenthal\n",
       "2          Paitoon Ornwimol\n",
       "3            P'yon Yong-Sun\n",
       "4            Étienne Chaney\n",
       "5         Marinko Stoilović\n",
       "6         Eckehard Grünfeld\n",
       "7              Spano Moresi\n",
       "8        Lothar Spiegelmann\n",
       "9        Adrianna Skoczylas\n",
       "10        Natanaël Barrande\n",
       "12             Muk Young-Su\n",
       "13         Alexandr Povýšil\n",
       "15              Ding Zexian\n",
       "16             Aurora Botín\n",
       "17               Aline Rush\n",
       "20             Tilman Baade\n",
       "22                Nae U-Jin\n",
       "23            Zbyněk Slavík\n",
       "25             Nico Erlbaum\n",
       "26            Nedeljko Bukv\n",
       "27       El Madani al-Fassi\n",
       "28      Duchanee Panomyaong\n",
       "29           Ewelina Musial\n",
       "30         Didier Cuvillier\n",
       "33             Ryom Woo-Jin\n",
       "35         Edouard Boissieu\n",
       "36          Benjamin Lahaye\n",
       "37           Michael Bohlen\n",
       "38     Ziaul-Haq Benjelloun\n",
       "39      Christophe Girardot\n",
       "               ...         \n",
       "95         Graciela Valerio\n",
       "96                 Um Kwang\n",
       "97                  Gong Li\n",
       "98          Chun Byung-Hoon\n",
       "100     Kazimiera Samborska\n",
       "101               Hu Guanyu\n",
       "102      Nintau Limthongkul\n",
       "104             Koide Konyo\n",
       "105      Svatopluk Suchánek\n",
       "106          Onorio Spiezio\n",
       "107          Dragoje Zarkov\n",
       "110     undefined Cesljević\n",
       "111           Lamija Osmond\n",
       "112            Ghali Toufiq\n",
       "114           Sawa Mobumasu\n",
       "115      Theesud Jurangkool\n",
       "116                Zhen Wei\n",
       "117       Bertoldo Mallozzi\n",
       "118           Wiktoria Wilk\n",
       "119          Juba Kunimatsu\n",
       "121            Antónia Lata\n",
       "122                 Du Yang\n",
       "123         Nishioka Nissho\n",
       "124           Phanouel Anxo\n",
       "126          Szűts Valentin\n",
       "127          Theodor Waxman\n",
       "128          Romualdo Marin\n",
       "129         Felicita Wilbur\n",
       "130        Kaminaga Ichibei\n",
       "131             Vania Toler\n",
       "Name: Name, Length: 102, dtype: object"
      ]
     },
     "execution_count": 346,
     "metadata": {},
     "output_type": "execute_result"
    }
   ],
   "source": [
    "#names of all the people born <= 18 years ago as of today\n",
    "\n",
    "today =\"2018-02-28\"\n",
    "date = pd.to_datetime(today)\n",
    "years_ago = date - pd.DateOffset(years=18)\n",
    "birth_dates[\"Name\"].loc[\n",
    "    birth_dates[\"BirthDate2\"] <= years_ago\n",
    "]"
   ]
  },
  {
   "cell_type": "code",
   "execution_count": 350,
   "metadata": {},
   "outputs": [
    {
     "data": {
      "text/plain": [
       "year  month   \n",
       "1949  January     112\n",
       "      February    118\n",
       "      March       132\n",
       "      April       129\n",
       "      May         121\n",
       "Name: passengers, dtype: int64"
      ]
     },
     "execution_count": 350,
     "metadata": {},
     "output_type": "execute_result"
    }
   ],
   "source": [
    "flights2 = flights.set_index([\"year\",\"month\"])[\"passengers\"]\n",
    "flights2.head()"
   ]
  },
  {
   "cell_type": "code",
   "execution_count": 352,
   "metadata": {},
   "outputs": [
    {
     "data": {
      "text/plain": [
       "118"
      ]
     },
     "execution_count": 352,
     "metadata": {},
     "output_type": "execute_result"
    }
   ],
   "source": [
    "flights2.iloc[1]"
   ]
  },
  {
   "cell_type": "code",
   "execution_count": 354,
   "metadata": {},
   "outputs": [
    {
     "data": {
      "text/plain": [
       "year  month   \n",
       "1949  February    118\n",
       "Name: passengers, dtype: int64"
      ]
     },
     "execution_count": 354,
     "metadata": {},
     "output_type": "execute_result"
    }
   ],
   "source": [
    "flights2.iloc[[1\n",
    "            ]]"
   ]
  },
  {
   "cell_type": "code",
   "execution_count": 356,
   "metadata": {},
   "outputs": [
    {
     "data": {
      "text/plain": [
       "year  month    \n",
       "1950  January      115\n",
       "      February     126\n",
       "      March        141\n",
       "      April        135\n",
       "      May          125\n",
       "      June         149\n",
       "      July         170\n",
       "      August       170\n",
       "      September    158\n",
       "      October      133\n",
       "      November     114\n",
       "      December     140\n",
       "1951  January      145\n",
       "      February     150\n",
       "      March        178\n",
       "      April        163\n",
       "      May          172\n",
       "      June         178\n",
       "      July         199\n",
       "      August       199\n",
       "      September    184\n",
       "      October      162\n",
       "      November     146\n",
       "      December     166\n",
       "Name: passengers, dtype: int64"
      ]
     },
     "execution_count": 356,
     "metadata": {},
     "output_type": "execute_result"
    }
   ],
   "source": [
    "flights2.loc[[1950,1951]]"
   ]
  },
  {
   "cell_type": "code",
   "execution_count": 358,
   "metadata": {},
   "outputs": [
    {
     "data": {
      "text/plain": [
       "year\n",
       "1949    112\n",
       "1950    115\n",
       "1951    145\n",
       "1952    171\n",
       "1953    196\n",
       "1954    204\n",
       "1955    242\n",
       "1956    284\n",
       "1957    315\n",
       "1958    340\n",
       "1959    360\n",
       "1960    417\n",
       "Name: passengers, dtype: int64"
      ]
     },
     "execution_count": 358,
     "metadata": {},
     "output_type": "execute_result"
    }
   ],
   "source": [
    "flights2.loc[:,\"January\"]"
   ]
  },
  {
   "cell_type": "code",
   "execution_count": 360,
   "metadata": {},
   "outputs": [
    {
     "data": {
      "text/plain": [
       "year  month  \n",
       "1949  January    112\n",
       "Name: passengers, dtype: int64"
      ]
     },
     "execution_count": 360,
     "metadata": {},
     "output_type": "execute_result"
    }
   ],
   "source": [
    "flights2.loc[[1949,\"February\"],[1950,\"January\"]]"
   ]
  },
  {
   "cell_type": "code",
   "execution_count": 370,
   "metadata": {},
   "outputs": [
    {
     "data": {
      "text/plain": [
       "sex     size\n",
       "Female  3       21.547143\n",
       "        4       30.278889\n",
       "        5       29.850000\n",
       "Name: total_bill, dtype: float64"
      ]
     },
     "execution_count": 370,
     "metadata": {},
     "output_type": "execute_result"
    }
   ],
   "source": [
    "tips.groupby([\"sex\",\"size\"]).mean()[\"total_bill\"].loc[\"Female\",3:5]"
   ]
  },
  {
   "cell_type": "code",
   "execution_count": 373,
   "metadata": {},
   "outputs": [
    {
     "data": {
      "text/plain": [
       "     total_bill  tip     sex smoker   day    time  size\n",
       "178        9.60  4.0  Female    Yes   Sun  Dinner     2\n",
       "91        22.49  3.5    Male     No   Fri  Dinner     2\n",
       "140       17.47  3.5  Female     No  Thur   Lunch     2\n",
       "56        38.01  3.0    Male    Yes   Sat  Dinner     4\n",
       "77        27.20  4.0    Male     No  Thur   Lunch     4"
      ]
     },
     "execution_count": 373,
     "metadata": {},
     "output_type": "execute_result"
    }
   ],
   "source": [
    "#indexing dataframes\n",
    "x=tips.sample(5, )\n",
    "x"
   ]
  },
  {
   "cell_type": "code",
   "execution_count": 375,
   "metadata": {},
   "outputs": [
    {
     "data": {
      "text/plain": [
       "     total_bill   tip     sex smoker  day    time  size\n",
       "112       38.07  4.00    Male     No  Sun  Dinner     3\n",
       "19        20.65  3.35    Male     No  Sat  Dinner     3\n",
       "187       30.46  2.00    Male    Yes  Sun  Dinner     5\n",
       "169       10.63  2.00  Female    Yes  Sat  Dinner     2\n",
       "31        18.35  2.50    Male     No  Sat  Dinner     4"
      ]
     },
     "execution_count": 375,
     "metadata": {},
     "output_type": "execute_result"
    }
   ],
   "source": [
    "x = tips.sample(5, random_state=123)\n",
    "x"
   ]
  },
  {
   "cell_type": "code",
   "execution_count": 377,
   "metadata": {},
   "outputs": [
    {
     "data": {
      "text/plain": [
       "19     3\n",
       "187    5\n",
       "Name: size, dtype: int64"
      ]
     },
     "execution_count": 377,
     "metadata": {},
     "output_type": "execute_result"
    }
   ],
   "source": [
    "x.iloc[1:3,-1]"
   ]
  },
  {
   "cell_type": "code",
   "execution_count": 379,
   "metadata": {},
   "outputs": [
    {
     "data": {
      "text/plain": [
       "     size\n",
       "19      3\n",
       "187     5"
      ]
     },
     "execution_count": 379,
     "metadata": {},
     "output_type": "execute_result"
    }
   ],
   "source": [
    "x.iloc[1:3,[-1]]"
   ]
  },
  {
   "cell_type": "code",
   "execution_count": 381,
   "metadata": {},
   "outputs": [
    {
     "data": {
      "text/plain": [
       "      sex smoker  day\n",
       "112  Male     No  Sun\n",
       "19   Male     No  Sat"
      ]
     },
     "execution_count": 381,
     "metadata": {},
     "output_type": "execute_result"
    }
   ],
   "source": [
    "x.loc[[112,19],\"sex\":\"day\"]"
   ]
  },
  {
   "cell_type": "code",
   "execution_count": 383,
   "metadata": {},
   "outputs": [
    {
     "data": {
      "text/plain": [
       "      tip  total_bill\n",
       "112  4.00       38.07\n",
       "19   3.35       20.65"
      ]
     },
     "execution_count": 383,
     "metadata": {},
     "output_type": "execute_result"
    }
   ],
   "source": [
    "x.loc[x.tip>3, [\"tip\",\"total_bill\"]]"
   ]
  },
  {
   "cell_type": "code",
   "execution_count": 387,
   "metadata": {},
   "outputs": [
    {
     "data": {
      "text/plain": [
       "118    Female\n",
       "112      Male\n",
       "Name: sex, dtype: object"
      ]
     },
     "execution_count": 387,
     "metadata": {},
     "output_type": "execute_result"
    }
   ],
   "source": [
    "tips[\"sex\"].sample(2)"
   ]
  },
  {
   "cell_type": "code",
   "execution_count": 389,
   "metadata": {},
   "outputs": [
    {
     "data": {
      "text/plain": [
       "        sex  size\n",
       "197  Female     4\n",
       "43     Male     2"
      ]
     },
     "execution_count": 389,
     "metadata": {},
     "output_type": "execute_result"
    }
   ],
   "source": [
    "tips[[\"sex\",\"size\"]].sample(2)"
   ]
  },
  {
   "cell_type": "code",
   "execution_count": 392,
   "metadata": {},
   "outputs": [
    {
     "ename": "TypeError",
     "evalue": "cannot do slice indexing on <class 'pandas.core.indexes.range.RangeIndex'> with these indexers [sex] of <class 'str'>",
     "output_type": "error",
     "traceback": [
      "\u001b[0;31m---------------------------------------------------------------------------\u001b[0m",
      "\u001b[0;31mTypeError\u001b[0m                                 Traceback (most recent call last)",
      "\u001b[0;32m<ipython-input-392-cb3551996de9>\u001b[0m in \u001b[0;36m<module>\u001b[0;34m()\u001b[0m\n\u001b[0;32m----> 1\u001b[0;31m \u001b[0mtips\u001b[0m\u001b[0;34m[\u001b[0m\u001b[0;34m\"sex\"\u001b[0m\u001b[0;34m:\u001b[0m\u001b[0;34m\"size\"\u001b[0m\u001b[0;34m]\u001b[0m\u001b[0;34m.\u001b[0m\u001b[0msample\u001b[0m\u001b[0;34m(\u001b[0m\u001b[0;36m2\u001b[0m\u001b[0;34m)\u001b[0m \u001b[0;31m#doesn't work, use loc\u001b[0m\u001b[0;34m\u001b[0m\u001b[0m\n\u001b[0m",
      "\u001b[0;32m~/.pyenv/versions/3.6.5/Python.framework/Versions/3.6/lib/python3.6/site-packages/pandas/core/frame.py\u001b[0m in \u001b[0;36m__getitem__\u001b[0;34m(self, key)\u001b[0m\n\u001b[1;32m   2671\u001b[0m \u001b[0;34m\u001b[0m\u001b[0m\n\u001b[1;32m   2672\u001b[0m         \u001b[0;31m# see if we can slice the rows\u001b[0m\u001b[0;34m\u001b[0m\u001b[0;34m\u001b[0m\u001b[0m\n\u001b[0;32m-> 2673\u001b[0;31m         \u001b[0mindexer\u001b[0m \u001b[0;34m=\u001b[0m \u001b[0mconvert_to_index_sliceable\u001b[0m\u001b[0;34m(\u001b[0m\u001b[0mself\u001b[0m\u001b[0;34m,\u001b[0m \u001b[0mkey\u001b[0m\u001b[0;34m)\u001b[0m\u001b[0;34m\u001b[0m\u001b[0m\n\u001b[0m\u001b[1;32m   2674\u001b[0m         \u001b[0;32mif\u001b[0m \u001b[0mindexer\u001b[0m \u001b[0;32mis\u001b[0m \u001b[0;32mnot\u001b[0m \u001b[0;32mNone\u001b[0m\u001b[0;34m:\u001b[0m\u001b[0;34m\u001b[0m\u001b[0m\n\u001b[1;32m   2675\u001b[0m             \u001b[0;32mreturn\u001b[0m \u001b[0mself\u001b[0m\u001b[0;34m.\u001b[0m\u001b[0m_getitem_slice\u001b[0m\u001b[0;34m(\u001b[0m\u001b[0mindexer\u001b[0m\u001b[0;34m)\u001b[0m\u001b[0;34m\u001b[0m\u001b[0m\n",
      "\u001b[0;32m~/.pyenv/versions/3.6.5/Python.framework/Versions/3.6/lib/python3.6/site-packages/pandas/core/indexing.py\u001b[0m in \u001b[0;36mconvert_to_index_sliceable\u001b[0;34m(obj, key)\u001b[0m\n\u001b[1;32m   2324\u001b[0m     \u001b[0midx\u001b[0m \u001b[0;34m=\u001b[0m \u001b[0mobj\u001b[0m\u001b[0;34m.\u001b[0m\u001b[0mindex\u001b[0m\u001b[0;34m\u001b[0m\u001b[0m\n\u001b[1;32m   2325\u001b[0m     \u001b[0;32mif\u001b[0m \u001b[0misinstance\u001b[0m\u001b[0;34m(\u001b[0m\u001b[0mkey\u001b[0m\u001b[0;34m,\u001b[0m \u001b[0mslice\u001b[0m\u001b[0;34m)\u001b[0m\u001b[0;34m:\u001b[0m\u001b[0;34m\u001b[0m\u001b[0m\n\u001b[0;32m-> 2326\u001b[0;31m         \u001b[0;32mreturn\u001b[0m \u001b[0midx\u001b[0m\u001b[0;34m.\u001b[0m\u001b[0m_convert_slice_indexer\u001b[0m\u001b[0;34m(\u001b[0m\u001b[0mkey\u001b[0m\u001b[0;34m,\u001b[0m \u001b[0mkind\u001b[0m\u001b[0;34m=\u001b[0m\u001b[0;34m'getitem'\u001b[0m\u001b[0;34m)\u001b[0m\u001b[0;34m\u001b[0m\u001b[0m\n\u001b[0m\u001b[1;32m   2327\u001b[0m \u001b[0;34m\u001b[0m\u001b[0m\n\u001b[1;32m   2328\u001b[0m     \u001b[0;32melif\u001b[0m \u001b[0misinstance\u001b[0m\u001b[0;34m(\u001b[0m\u001b[0mkey\u001b[0m\u001b[0;34m,\u001b[0m \u001b[0mcompat\u001b[0m\u001b[0;34m.\u001b[0m\u001b[0mstring_types\u001b[0m\u001b[0;34m)\u001b[0m\u001b[0;34m:\u001b[0m\u001b[0;34m\u001b[0m\u001b[0m\n",
      "\u001b[0;32m~/.pyenv/versions/3.6.5/Python.framework/Versions/3.6/lib/python3.6/site-packages/pandas/core/indexes/base.py\u001b[0m in \u001b[0;36m_convert_slice_indexer\u001b[0;34m(self, key, kind)\u001b[0m\n\u001b[1;32m   1709\u001b[0m             \"\"\"\n\u001b[1;32m   1710\u001b[0m             \u001b[0;32mif\u001b[0m \u001b[0mself\u001b[0m\u001b[0;34m.\u001b[0m\u001b[0mis_integer\u001b[0m\u001b[0;34m(\u001b[0m\u001b[0;34m)\u001b[0m \u001b[0;32mor\u001b[0m \u001b[0mis_index_slice\u001b[0m\u001b[0;34m:\u001b[0m\u001b[0;34m\u001b[0m\u001b[0m\n\u001b[0;32m-> 1711\u001b[0;31m                 return slice(self._validate_indexer('slice', key.start, kind),\n\u001b[0m\u001b[1;32m   1712\u001b[0m                              \u001b[0mself\u001b[0m\u001b[0;34m.\u001b[0m\u001b[0m_validate_indexer\u001b[0m\u001b[0;34m(\u001b[0m\u001b[0;34m'slice'\u001b[0m\u001b[0;34m,\u001b[0m \u001b[0mkey\u001b[0m\u001b[0;34m.\u001b[0m\u001b[0mstop\u001b[0m\u001b[0;34m,\u001b[0m \u001b[0mkind\u001b[0m\u001b[0;34m)\u001b[0m\u001b[0;34m,\u001b[0m\u001b[0;34m\u001b[0m\u001b[0m\n\u001b[1;32m   1713\u001b[0m                              self._validate_indexer('slice', key.step, kind))\n",
      "\u001b[0;32m~/.pyenv/versions/3.6.5/Python.framework/Versions/3.6/lib/python3.6/site-packages/pandas/core/indexes/base.py\u001b[0m in \u001b[0;36m_validate_indexer\u001b[0;34m(self, form, key, kind)\u001b[0m\n\u001b[1;32m   4126\u001b[0m             \u001b[0;32mpass\u001b[0m\u001b[0;34m\u001b[0m\u001b[0m\n\u001b[1;32m   4127\u001b[0m         \u001b[0;32melif\u001b[0m \u001b[0mkind\u001b[0m \u001b[0;32min\u001b[0m \u001b[0;34m[\u001b[0m\u001b[0;34m'iloc'\u001b[0m\u001b[0;34m,\u001b[0m \u001b[0;34m'getitem'\u001b[0m\u001b[0;34m]\u001b[0m\u001b[0;34m:\u001b[0m\u001b[0;34m\u001b[0m\u001b[0m\n\u001b[0;32m-> 4128\u001b[0;31m             \u001b[0mself\u001b[0m\u001b[0;34m.\u001b[0m\u001b[0m_invalid_indexer\u001b[0m\u001b[0;34m(\u001b[0m\u001b[0mform\u001b[0m\u001b[0;34m,\u001b[0m \u001b[0mkey\u001b[0m\u001b[0;34m)\u001b[0m\u001b[0;34m\u001b[0m\u001b[0m\n\u001b[0m\u001b[1;32m   4129\u001b[0m         \u001b[0;32mreturn\u001b[0m \u001b[0mkey\u001b[0m\u001b[0;34m\u001b[0m\u001b[0m\n\u001b[1;32m   4130\u001b[0m \u001b[0;34m\u001b[0m\u001b[0m\n",
      "\u001b[0;32m~/.pyenv/versions/3.6.5/Python.framework/Versions/3.6/lib/python3.6/site-packages/pandas/core/indexes/base.py\u001b[0m in \u001b[0;36m_invalid_indexer\u001b[0;34m(self, form, key)\u001b[0m\n\u001b[1;32m   1846\u001b[0m                         \"indexers [{key}] of {kind}\".format(\n\u001b[1;32m   1847\u001b[0m                             \u001b[0mform\u001b[0m\u001b[0;34m=\u001b[0m\u001b[0mform\u001b[0m\u001b[0;34m,\u001b[0m \u001b[0mklass\u001b[0m\u001b[0;34m=\u001b[0m\u001b[0mtype\u001b[0m\u001b[0;34m(\u001b[0m\u001b[0mself\u001b[0m\u001b[0;34m)\u001b[0m\u001b[0;34m,\u001b[0m \u001b[0mkey\u001b[0m\u001b[0;34m=\u001b[0m\u001b[0mkey\u001b[0m\u001b[0;34m,\u001b[0m\u001b[0;34m\u001b[0m\u001b[0m\n\u001b[0;32m-> 1848\u001b[0;31m                             kind=type(key)))\n\u001b[0m\u001b[1;32m   1849\u001b[0m \u001b[0;34m\u001b[0m\u001b[0m\n\u001b[1;32m   1850\u001b[0m     \u001b[0;32mdef\u001b[0m \u001b[0mget_duplicates\u001b[0m\u001b[0;34m(\u001b[0m\u001b[0mself\u001b[0m\u001b[0;34m)\u001b[0m\u001b[0;34m:\u001b[0m\u001b[0;34m\u001b[0m\u001b[0m\n",
      "\u001b[0;31mTypeError\u001b[0m: cannot do slice indexing on <class 'pandas.core.indexes.range.RangeIndex'> with these indexers [sex] of <class 'str'>"
     ]
    }
   ],
   "source": [
    "tips[\"sex\":\"size\"].sample(2) #doesn't work, use loc"
   ]
  },
  {
   "cell_type": "code",
   "execution_count": 394,
   "metadata": {},
   "outputs": [
    {
     "data": {
      "text/plain": [
       "      sex smoker  day\n",
       "112  Male     No  Sun\n",
       "19   Male     No  Sat"
      ]
     },
     "execution_count": 394,
     "metadata": {},
     "output_type": "execute_result"
    }
   ],
   "source": [
    "x.iloc[:2,:].loc[:,\"sex\":\"day\"]"
   ]
  },
  {
   "cell_type": "markdown",
   "metadata": {},
   "source": [
    "# Exercises\n",
    "\n",
    "2. In `tips`, select data on male customers where total bill was in $[10,20]$.\n",
    "\n",
    "3. In `tips`, select data from Saturday and Sunday with tip $>\\$5$.\n",
    "\n",
    "4. partition tips: create 2 df: tips_train ($80\\%$ randomly selected rows) and tips_test ($20\\%$ rows remaining)\n"
   ]
  },
  {
   "cell_type": "code",
   "execution_count": 396,
   "metadata": {},
   "outputs": [
    {
     "data": {
      "text/plain": [
       "   total_bill   tip     sex smoker  day    time  size\n",
       "0       16.99  1.01  Female     No  Sun  Dinner     2\n",
       "1       10.34  1.66    Male     No  Sun  Dinner     3\n",
       "2       21.01  3.50    Male     No  Sun  Dinner     3\n",
       "3       23.68  3.31    Male     No  Sun  Dinner     2\n",
       "4       24.59  3.61  Female     No  Sun  Dinner     4"
      ]
     },
     "execution_count": 396,
     "metadata": {},
     "output_type": "execute_result"
    }
   ],
   "source": [
    "tips.head()"
   ]
  },
  {
   "cell_type": "code",
   "execution_count": 492,
   "metadata": {},
   "outputs": [
    {
     "data": {
      "text/plain": [
       "    total_bill   tip   sex smoker  day    time  size\n",
       "1        10.34  1.66  Male     No  Sun  Dinner     3\n",
       "8        15.04  1.96  Male     No  Sun  Dinner     2\n",
       "9        14.78  3.23  Male     No  Sun  Dinner     2\n",
       "10       10.27  1.71  Male     No  Sun  Dinner     2\n",
       "12       15.42  1.57  Male     No  Sun  Dinner     2"
      ]
     },
     "execution_count": 492,
     "metadata": {},
     "output_type": "execute_result"
    }
   ],
   "source": [
    "tips.loc[\n",
    "        (tips.loc[:,\"sex\"] == \"Male\") &\n",
    "         (tips.loc[:,\"total_bill\"] >= 10.0) \n",
    "         & (tips.loc[:,\"total_bill\"] <= 20.0)\n",
    "        ,:\n",
    "        ].head()"
   ]
  },
  {
   "cell_type": "code",
   "execution_count": 489,
   "metadata": {},
   "outputs": [
    {
     "data": {
      "text/plain": [
       "    total_bill   tip   sex smoker  day    time  size\n",
       "1        10.34  1.66  Male     No  Sun  Dinner     3\n",
       "8        15.04  1.96  Male     No  Sun  Dinner     2\n",
       "9        14.78  3.23  Male     No  Sun  Dinner     2\n",
       "10       10.27  1.71  Male     No  Sun  Dinner     2\n",
       "12       15.42  1.57  Male     No  Sun  Dinner     2"
      ]
     },
     "execution_count": 489,
     "metadata": {},
     "output_type": "execute_result"
    }
   ],
   "source": [
    "tips.loc[tips.loc[:,\"total_bill\"].between(10.0,20.0) & (tips.loc[:,\"sex\"] == \"Male\"),:].head()"
   ]
  },
  {
   "cell_type": "code",
   "execution_count": 480,
   "metadata": {},
   "outputs": [
    {
     "data": {
      "text/plain": [
       "    total_bill   tip   sex smoker  day    time  size\n",
       "1        10.34  1.66  Male     No  Sun  Dinner     3\n",
       "8        15.04  1.96  Male     No  Sun  Dinner     2\n",
       "9        14.78  3.23  Male     No  Sun  Dinner     2\n",
       "10       10.27  1.71  Male     No  Sun  Dinner     2\n",
       "12       15.42  1.57  Male     No  Sun  Dinner     2"
      ]
     },
     "execution_count": 480,
     "metadata": {},
     "output_type": "execute_result"
    }
   ],
   "source": [
    "tips.query(\"10 <= total_bill <= 20 and sex == 'Male'\").head()"
   ]
  },
  {
   "cell_type": "code",
   "execution_count": null,
   "metadata": {},
   "outputs": [],
   "source": []
  },
  {
   "cell_type": "code",
   "execution_count": 488,
   "metadata": {},
   "outputs": [
    {
     "data": {
      "text/plain": [
       "    total_bill   tip     sex smoker  day    time  size\n",
       "23       39.42  7.58    Male     No  Sat  Dinner     4\n",
       "44       30.40  5.60    Male     No  Sun  Dinner     4\n",
       "47       32.40  6.00    Male     No  Sun  Dinner     4\n",
       "52       34.81  5.20  Female     No  Sun  Dinner     4\n",
       "59       48.27  6.73    Male     No  Sat  Dinner     4"
      ]
     },
     "execution_count": 488,
     "metadata": {},
     "output_type": "execute_result"
    }
   ],
   "source": [
    "tips.query(\"tip>5.0 and day in ['Sun', 'Sat']\").head()"
   ]
  },
  {
   "cell_type": "code",
   "execution_count": 494,
   "metadata": {},
   "outputs": [
    {
     "data": {
      "text/plain": [
       "     total_bill    tip     sex smoker   day    time  size\n",
       "23        39.42   7.58    Male     No   Sat  Dinner     4\n",
       "44        30.40   5.60    Male     No   Sun  Dinner     4\n",
       "47        32.40   6.00    Male     No   Sun  Dinner     4\n",
       "52        34.81   5.20  Female     No   Sun  Dinner     4\n",
       "59        48.27   6.73    Male     No   Sat  Dinner     4\n",
       "85        34.83   5.17  Female     No  Thur   Lunch     4\n",
       "88        24.71   5.85    Male     No  Thur   Lunch     2\n",
       "116       29.93   5.07    Male     No   Sun  Dinner     4\n",
       "141       34.30   6.70    Male     No  Thur   Lunch     6\n",
       "155       29.85   5.14  Female     No   Sun  Dinner     5\n",
       "170       50.81  10.00    Male    Yes   Sat  Dinner     3\n",
       "172        7.25   5.15    Male    Yes   Sun  Dinner     2\n",
       "181       23.33   5.65    Male    Yes   Sun  Dinner     2\n",
       "183       23.17   6.50    Male    Yes   Sun  Dinner     4\n",
       "211       25.89   5.16    Male    Yes   Sat  Dinner     4\n",
       "212       48.33   9.00    Male     No   Sat  Dinner     4\n",
       "214       28.17   6.50  Female    Yes   Sat  Dinner     3\n",
       "239       29.03   5.92    Male     No   Sat  Dinner     3"
      ]
     },
     "execution_count": 494,
     "metadata": {},
     "output_type": "execute_result"
    }
   ],
   "source": [
    "tips.loc[((tips.loc[:,\"day\"] == \"Sat\") | (tips.loc[:,\"day\"] >= 'Sun')) & (tips.loc[:,\"tip\"] > 5.0),: ]"
   ]
  },
  {
   "cell_type": "code",
   "execution_count": null,
   "metadata": {},
   "outputs": [],
   "source": []
  },
  {
   "cell_type": "code",
   "execution_count": null,
   "metadata": {},
   "outputs": [],
   "source": []
  },
  {
   "cell_type": "markdown",
   "metadata": {},
   "source": [
    "# Test, Validation split"
   ]
  },
  {
   "cell_type": "code",
   "execution_count": 510,
   "metadata": {},
   "outputs": [
    {
     "name": "stdout",
     "output_type": "stream",
     "text": [
      "   total_bill   tip     sex smoker  day    time  size\n",
      "0       16.99  1.01  Female     No  Sun  Dinner     2\n",
      "1       10.34  1.66    Male     No  Sun  Dinner     3\n",
      "2       21.01  3.50    Male     No  Sun  Dinner     3\n",
      "3       23.68  3.31    Male     No  Sun  Dinner     2\n",
      "4       24.59  3.61  Female     No  Sun  Dinner     4\n",
      "     total_bill   tip     sex smoker  day    time  size\n",
      "33        20.69  2.45  Female     No  Sat  Dinner     4\n",
      "231       15.69  3.00    Male    Yes  Sat  Dinner     3\n",
      "62        11.02  1.98    Male    Yes  Sat  Dinner     2\n",
      "207       38.73  3.00    Male    Yes  Sat  Dinner     4\n",
      "114       25.71  4.00  Female     No  Sun  Dinner     3\n",
      "     total_bill   tip     sex smoker   day    time  size\n",
      "86        13.03  2.00    Male     No  Thur   Lunch     2\n",
      "220       12.16  2.20    Male    Yes   Fri   Lunch     2\n",
      "149        7.51  2.00    Male     No  Thur   Lunch     2\n",
      "133       12.26  2.00  Female     No  Thur   Lunch     2\n",
      "242       17.82  1.75    Male     No   Sat  Dinner     2\n"
     ]
    },
    {
     "data": {
      "text/plain": [
       "((195, 7), (49, 7), (244, 7))"
      ]
     },
     "execution_count": 510,
     "metadata": {},
     "output_type": "execute_result"
    }
   ],
   "source": [
    "n  = tips.shape[0]\n",
    "nary=np.arange(0,n)\n",
    "np.random.shuffle(nary)\n",
    "\n",
    "tips_train_idx, tips_test_idx = np.split(nary, [int(.8*n)])\n",
    "\n",
    "tips_train = tips.iloc[tips_train_idx]\n",
    "tips_test= tips.iloc[tips_test_idx]\n",
    "\n",
    "print(tips.head(5))\n",
    "print(tips_train.head(5))\n",
    "print(tips_test.head(5))\n",
    "\n",
    "tips_train.shape, tips_test.shape, tips.shape"
   ]
  },
  {
   "cell_type": "code",
   "execution_count": 513,
   "metadata": {},
   "outputs": [
    {
     "data": {
      "text/plain": [
       "((195, 7), (49, 7), (244, 7))"
      ]
     },
     "execution_count": 513,
     "metadata": {},
     "output_type": "execute_result"
    }
   ],
   "source": [
    "# preferred - most general approach \n",
    "\n",
    "idx = np.arange(tips.shape[0])\n",
    "np.random.permutation(idx)\n",
    "tips_trian = tips.iloc[idx[:int(0.8*tips.shape[0])],:]\n",
    "tips_test = tips.iloc[idx[int(0.8*tips.shape[0])]:,:]\n",
    "tips_train.shape, tips_test.shape, tips.shape\n",
    "\n"
   ]
  },
  {
   "cell_type": "code",
   "execution_count": 507,
   "metadata": {},
   "outputs": [
    {
     "data": {
      "text/plain": [
       "((195, 7), (49, 7), (244, 7))"
      ]
     },
     "execution_count": 507,
     "metadata": {},
     "output_type": "execute_result"
    }
   ],
   "source": [
    "from sklearn.model_selection import train_test_split\n",
    "tips_train, tips_test = train_test_split(tips, test_size=0.2, random_state=123)\n",
    "tips_train.shape, tips_test.shape, tips.shape"
   ]
  },
  {
   "cell_type": "code",
   "execution_count": null,
   "metadata": {},
   "outputs": [],
   "source": []
  },
  {
   "cell_type": "code",
   "execution_count": 511,
   "metadata": {},
   "outputs": [
    {
     "data": {
      "text/plain": [
       "((195, 7), (49, 7), (244, 7))"
      ]
     },
     "execution_count": 511,
     "metadata": {},
     "output_type": "execute_result"
    }
   ],
   "source": [
    "tips_train = tips.sample(frac=0.8, random_state=123)\n",
    "tips_test = tips.loc[tips.index.difference(tips_train.index),:]\n",
    "tips_train.shape, tips_test.shape, tips.shape"
   ]
  },
  {
   "cell_type": "markdown",
   "metadata": {},
   "source": [
    "# Ops on DFs and Seris"
   ]
  },
  {
   "cell_type": "code",
   "execution_count": 514,
   "metadata": {},
   "outputs": [
    {
     "data": {
      "text/plain": [
       "     total_bill   tip     sex smoker  day    time  size\n",
       "112       38.07  4.00    Male     No  Sun  Dinner     3\n",
       "19        20.65  3.35    Male     No  Sat  Dinner     3\n",
       "187       30.46  2.00    Male    Yes  Sun  Dinner     5\n",
       "169       10.63  2.00  Female    Yes  Sat  Dinner     2\n",
       "31        18.35  2.50    Male     No  Sat  Dinner     4"
      ]
     },
     "execution_count": 514,
     "metadata": {},
     "output_type": "execute_result"
    }
   ],
   "source": [
    "x = tips.sample(n=5, random_state=123)\n",
    "x"
   ]
  },
  {
   "cell_type": "code",
   "execution_count": 518,
   "metadata": {},
   "outputs": [
    {
     "data": {
      "text/plain": [
       "0     5.944673\n",
       "1    16.054159\n",
       "2    16.658734\n",
       "3    13.978041\n",
       "4    14.680765\n",
       "dtype: float64"
      ]
     },
     "execution_count": 518,
     "metadata": {},
     "output_type": "execute_result"
    }
   ],
   "source": [
    "(tips.tip/tips.total_bill * 100).head()"
   ]
  },
  {
   "cell_type": "code",
   "execution_count": 524,
   "metadata": {},
   "outputs": [
    {
     "data": {
      "text/plain": [
       "0      16.99\n",
       "1      10.34\n",
       "2      21.01\n",
       "3      23.68\n",
       "4      24.59\n",
       "5      25.29\n",
       "6       8.77\n",
       "7      26.88\n",
       "8      15.04\n",
       "9      14.78\n",
       "10     10.27\n",
       "11     35.26\n",
       "12     15.42\n",
       "13     18.43\n",
       "14     14.83\n",
       "15     21.58\n",
       "16     10.33\n",
       "17     16.29\n",
       "18     16.97\n",
       "19     20.65\n",
       "20     17.92\n",
       "21     20.29\n",
       "22     15.77\n",
       "23     39.42\n",
       "24     19.82\n",
       "25     17.81\n",
       "26     13.37\n",
       "27     12.69\n",
       "28     21.70\n",
       "29     19.65\n",
       "       ...  \n",
       "214    28.17\n",
       "215    12.90\n",
       "216    28.15\n",
       "217    11.59\n",
       "218     7.74\n",
       "219    30.14\n",
       "220    12.16\n",
       "221    13.42\n",
       "222     8.58\n",
       "223    15.98\n",
       "224    13.42\n",
       "225    16.27\n",
       "226    10.09\n",
       "227    20.45\n",
       "228    13.28\n",
       "229    22.12\n",
       "230    24.01\n",
       "231    15.69\n",
       "232    11.61\n",
       "233    10.77\n",
       "234    15.53\n",
       "235    10.07\n",
       "236    12.60\n",
       "237    32.83\n",
       "238    35.83\n",
       "239    29.03\n",
       "240    27.18\n",
       "241    22.67\n",
       "242    17.82\n",
       "243    18.78\n",
       "Name: total_bill, Length: 244, dtype: float64"
      ]
     },
     "execution_count": 524,
     "metadata": {},
     "output_type": "execute_result"
    }
   ],
   "source": [
    "y = tips.loc[:,'total_bill']\n",
    "y"
   ]
  },
  {
   "cell_type": "code",
   "execution_count": 525,
   "metadata": {},
   "outputs": [
    {
     "data": {
      "text/plain": [
       "19     0.0\n",
       "112    0.0\n",
       "112    0.0\n",
       "112    0.0\n",
       "112    0.0\n",
       "187    NaN\n",
       "Name: total_bill, dtype: float64"
      ]
     },
     "execution_count": 525,
     "metadata": {},
     "output_type": "execute_result"
    }
   ],
   "source": [
    "y.loc[[112,19,112]] - y.loc[[19,187,112,112]]"
   ]
  },
  {
   "cell_type": "code",
   "execution_count": 527,
   "metadata": {},
   "outputs": [],
   "source": [
    "vehicles = pd.read_csv('http://www.gagolewski.com/resources/data/fueleconomy_vehicles.csv.gz',\n",
    "                     comment='#')"
   ]
  },
  {
   "cell_type": "code",
   "execution_count": 529,
   "metadata": {},
   "outputs": [
    {
     "name": "stdout",
     "output_type": "stream",
     "text": [
      "<class 'pandas.core.frame.DataFrame'>\n",
      "RangeIndex: 33442 entries, 0 to 33441\n",
      "Data columns (total 12 columns):\n",
      "id       33442 non-null int64\n",
      "make     33442 non-null object\n",
      "model    33442 non-null object\n",
      "year     33442 non-null int64\n",
      "class    33442 non-null object\n",
      "trans    33434 non-null object\n",
      "drive    33442 non-null object\n",
      "cyl      33384 non-null float64\n",
      "displ    33385 non-null float64\n",
      "fuel     33442 non-null object\n",
      "hwy      33442 non-null int64\n",
      "cty      33442 non-null int64\n",
      "dtypes: float64(2), int64(4), object(6)\n",
      "memory usage: 3.1+ MB\n"
     ]
    }
   ],
   "source": [
    "vehicles.info()"
   ]
  },
  {
   "cell_type": "markdown",
   "metadata": {},
   "source": [
    "Given fueleconomy::vehicles, convert the values in cty (city-) and hwy (highway-fuel economy -- given in mpg) to l/100 km. \n",
    "Create new columns cty2, hwy2\n",
    "Then add new columns z_cty and z_hwy, that give z-scores of cty2 and hwy2 (i.e., standardize these columns).\n",
    "\n",
    "Moreover, add two other columns z_cty_rel and z_hwy_rel, which denote the corresponding z-scores relative to (grouped by) class."
   ]
  },
  {
   "cell_type": "code",
   "execution_count": 530,
   "metadata": {},
   "outputs": [
    {
     "data": {
      "text/plain": [
       "      id        make                model  year                        class  \\\n",
       "0  27550  AM General    DJ Po Vehicle 2WD  1984  Special Purpose Vehicle 2WD   \n",
       "1  28426  AM General    DJ Po Vehicle 2WD  1984  Special Purpose Vehicle 2WD   \n",
       "2  27549  AM General     FJ8c Post Office  1984  Special Purpose Vehicle 2WD   \n",
       "3  28425  AM General     FJ8c Post Office  1984  Special Purpose Vehicle 2WD   \n",
       "4   1032  AM General  Post Office DJ5 2WD  1985  Special Purpose Vehicle 2WD   \n",
       "\n",
       "             trans             drive  cyl  displ     fuel  hwy  cty  \n",
       "0  Automatic 3-spd     2-Wheel Drive  4.0    2.5  Regular   17   18  \n",
       "1  Automatic 3-spd     2-Wheel Drive  4.0    2.5  Regular   17   18  \n",
       "2  Automatic 3-spd     2-Wheel Drive  6.0    4.2  Regular   13   13  \n",
       "3  Automatic 3-spd     2-Wheel Drive  6.0    4.2  Regular   13   13  \n",
       "4  Automatic 3-spd  Rear-Wheel Drive  4.0    2.5  Regular   17   16  "
      ]
     },
     "execution_count": 530,
     "metadata": {},
     "output_type": "execute_result"
    }
   ],
   "source": [
    "vehicles.head()"
   ]
  },
  {
   "cell_type": "code",
   "execution_count": 554,
   "metadata": {},
   "outputs": [
    {
     "data": {
      "text/plain": [
       "      id        make                model  year                        class  \\\n",
       "0  27550  AM General    DJ Po Vehicle 2WD  1984  Special Purpose Vehicle 2WD   \n",
       "1  28426  AM General    DJ Po Vehicle 2WD  1984  Special Purpose Vehicle 2WD   \n",
       "2  27549  AM General     FJ8c Post Office  1984  Special Purpose Vehicle 2WD   \n",
       "3  28425  AM General     FJ8c Post Office  1984  Special Purpose Vehicle 2WD   \n",
       "4   1032  AM General  Post Office DJ5 2WD  1985  Special Purpose Vehicle 2WD   \n",
       "\n",
       "             trans             drive  cyl  displ     fuel  hwy  cty  \\\n",
       "0  Automatic 3-spd     2-Wheel Drive  4.0    2.5  Regular   17   18   \n",
       "1  Automatic 3-spd     2-Wheel Drive  4.0    2.5  Regular   17   18   \n",
       "2  Automatic 3-spd     2-Wheel Drive  6.0    4.2  Regular   13   13   \n",
       "3  Automatic 3-spd     2-Wheel Drive  6.0    4.2  Regular   13   13   \n",
       "4  Automatic 3-spd  Rear-Wheel Drive  4.0    2.5  Regular   17   16   \n",
       "\n",
       "        cty2       hwy2  \n",
       "0  13.068849  13.837605  \n",
       "1  13.068849  13.837605  \n",
       "2  18.095329  18.095329  \n",
       "3  18.095329  18.095329  \n",
       "4  14.702455  13.837605  "
      ]
     },
     "execution_count": 554,
     "metadata": {},
     "output_type": "execute_result"
    }
   ],
   "source": [
    "def milespergallon_lper100km(x):\n",
    "    return 100*3.785/(1.609*x)\n",
    "\n",
    "vehicles[\"cty2\"] = vehicles.loc[:,[\"cty\"]].transform(lambda x: milespergallon_lper100km(x))\n",
    "vehicles[\"hwy2\"] = vehicles.loc[:,[\"hwy\"]].transform(lambda x: milespergallon_lper100km(x))\n",
    "vehicles.head()"
   ]
  },
  {
   "cell_type": "code",
   "execution_count": 570,
   "metadata": {},
   "outputs": [
    {
     "name": "stdout",
     "output_type": "stream",
     "text": [
      "       cty2      hwy2\n",
      "0 -0.365269  1.166924\n",
      "1 -0.365269  1.166924\n",
      "2  1.020516  2.720036\n",
      "3  1.020516  2.720036\n",
      "4  0.085111  1.166924\n",
      "      id        make                model  year                        class  \\\n",
      "0  27550  AM General    DJ Po Vehicle 2WD  1984  Special Purpose Vehicle 2WD   \n",
      "1  28426  AM General    DJ Po Vehicle 2WD  1984  Special Purpose Vehicle 2WD   \n",
      "2  27549  AM General     FJ8c Post Office  1984  Special Purpose Vehicle 2WD   \n",
      "3  28425  AM General     FJ8c Post Office  1984  Special Purpose Vehicle 2WD   \n",
      "4   1032  AM General  Post Office DJ5 2WD  1985  Special Purpose Vehicle 2WD   \n",
      "\n",
      "             trans             drive  cyl  displ     fuel  hwy  cty  \\\n",
      "0  Automatic 3-spd     2-Wheel Drive  4.0    2.5  Regular   17   18   \n",
      "1  Automatic 3-spd     2-Wheel Drive  4.0    2.5  Regular   17   18   \n",
      "2  Automatic 3-spd     2-Wheel Drive  6.0    4.2  Regular   13   13   \n",
      "3  Automatic 3-spd     2-Wheel Drive  6.0    4.2  Regular   13   13   \n",
      "4  Automatic 3-spd  Rear-Wheel Drive  4.0    2.5  Regular   17   16   \n",
      "\n",
      "        cty2       hwy2     z_cty     z_hwy  \n",
      "0  13.068849  13.837605 -0.365269  1.166924  \n",
      "1  13.068849  13.837605 -0.365269  1.166924  \n",
      "2  18.095329  18.095329  1.020516  2.720036  \n",
      "3  18.095329  18.095329  1.020516  2.720036  \n",
      "4  14.702455  13.837605  0.085111  1.166924  \n",
      "1.0\n"
     ]
    }
   ],
   "source": [
    "def z_normalize(x):\n",
    "    return (x - x.mean()) / x.std()\n",
    "\n",
    "vehicles[[\"z_cty\",\"z_hwy\"]]=vehicles.loc[:,[\"cty2\",\"hwy2\"]].transform(lambda x: z_normalize(x))\n",
    "\n",
    "print(x.head())\n",
    "print(vehicles.head())\n",
    "\n",
    "print(vehicles[\"z_cty\"].std())"
   ]
  },
  {
   "cell_type": "code",
   "execution_count": 591,
   "metadata": {},
   "outputs": [],
   "source": [
    "vehicles[\"z_cty\"] = \\\n",
    "(vehicles[\"cty2\"]-vehicles[\"cty2\"].mean()) / vehicles[\"cty2\"].std()\n",
    "vehicles[\"z_hwy\"] = \\\n",
    "(vehicles[\"hwy2\"]-vehicles[\"hwy2\"].mean()) / vehicles[\"hwy2\"].std()"
   ]
  },
  {
   "cell_type": "code",
   "execution_count": null,
   "metadata": {},
   "outputs": [],
   "source": []
  },
  {
   "cell_type": "code",
   "execution_count": 611,
   "metadata": {},
   "outputs": [
    {
     "data": {
      "text/plain": [
       "0   -0.742395\n",
       "1   -0.742395\n",
       "2    0.801337\n",
       "3    0.801337\n",
       "4   -0.240682\n",
       "Name: z_cty_rel, dtype: float64"
      ]
     },
     "execution_count": 611,
     "metadata": {},
     "output_type": "execute_result"
    }
   ],
   "source": [
    "vehicles[\"z_cty_rel\"] = vehicles.groupby([\"class\"])[\"z_cty\"].\\\n",
    "transform(lambda x: (x-x.mean())/x.std())\n",
    "\n",
    "vehicles[\"z_cty_rel\"].head()"
   ]
  },
  {
   "cell_type": "code",
   "execution_count": 624,
   "metadata": {},
   "outputs": [
    {
     "data": {
      "text/html": [
       "<div>\n",
       "<style scoped>\n",
       "    .dataframe tbody tr th:only-of-type {\n",
       "        vertical-align: middle;\n",
       "    }\n",
       "\n",
       "    .dataframe tbody tr th {\n",
       "        vertical-align: top;\n",
       "    }\n",
       "\n",
       "    .dataframe thead th {\n",
       "        text-align: right;\n",
       "    }\n",
       "</style>\n",
       "<table border=\"1\" class=\"dataframe\">\n",
       "  <thead>\n",
       "    <tr style=\"text-align: right;\">\n",
       "      <th></th>\n",
       "      <th>id</th>\n",
       "      <th>make</th>\n",
       "      <th>model</th>\n",
       "      <th>year</th>\n",
       "      <th>class</th>\n",
       "      <th>trans</th>\n",
       "      <th>drive</th>\n",
       "      <th>cyl</th>\n",
       "      <th>displ</th>\n",
       "      <th>fuel</th>\n",
       "      <th>hwy</th>\n",
       "      <th>cty</th>\n",
       "      <th>cty2</th>\n",
       "      <th>hwy2</th>\n",
       "      <th>z_cty</th>\n",
       "      <th>z_hwy</th>\n",
       "      <th>z_cty_rel</th>\n",
       "      <th>mean</th>\n",
       "      <th>std</th>\n",
       "    </tr>\n",
       "  </thead>\n",
       "  <tbody>\n",
       "    <tr>\n",
       "      <th>6146</th>\n",
       "      <td>29403</td>\n",
       "      <td>Mercedes-Benz</td>\n",
       "      <td>CL600</td>\n",
       "      <td>2010</td>\n",
       "      <td>Compact Cars</td>\n",
       "      <td>Automatic 5-spd</td>\n",
       "      <td>Rear-Wheel Drive</td>\n",
       "      <td>12.0</td>\n",
       "      <td>5.5</td>\n",
       "      <td>Premium</td>\n",
       "      <td>17</td>\n",
       "      <td>11</td>\n",
       "      <td>21.385389</td>\n",
       "      <td>13.837605</td>\n",
       "      <td>1.927575</td>\n",
       "      <td>1.166924</td>\n",
       "      <td>3.485154</td>\n",
       "      <td>-0.622491</td>\n",
       "      <td>0.731694</td>\n",
       "    </tr>\n",
       "    <tr>\n",
       "      <th>9554</th>\n",
       "      <td>34833</td>\n",
       "      <td>BMW</td>\n",
       "      <td>X1 xDrive28i</td>\n",
       "      <td>2015</td>\n",
       "      <td>Large Cars</td>\n",
       "      <td>Automatic (S8)</td>\n",
       "      <td>All-Wheel Drive</td>\n",
       "      <td>4.0</td>\n",
       "      <td>2.0</td>\n",
       "      <td>Premium</td>\n",
       "      <td>32</td>\n",
       "      <td>22</td>\n",
       "      <td>10.692695</td>\n",
       "      <td>7.351227</td>\n",
       "      <td>-1.020368</td>\n",
       "      <td>-1.199146</td>\n",
       "      <td>-1.524090</td>\n",
       "      <td>0.248355</td>\n",
       "      <td>0.832446</td>\n",
       "    </tr>\n",
       "    <tr>\n",
       "      <th>10175</th>\n",
       "      <td>16000</td>\n",
       "      <td>Ford</td>\n",
       "      <td>Taurus</td>\n",
       "      <td>2000</td>\n",
       "      <td>Large Cars</td>\n",
       "      <td>Automatic 4-spd</td>\n",
       "      <td>Front-Wheel Drive</td>\n",
       "      <td>6.0</td>\n",
       "      <td>3.0</td>\n",
       "      <td>Regular</td>\n",
       "      <td>26</td>\n",
       "      <td>17</td>\n",
       "      <td>13.837605</td>\n",
       "      <td>9.047665</td>\n",
       "      <td>-0.153326</td>\n",
       "      <td>-0.580328</td>\n",
       "      <td>-0.482531</td>\n",
       "      <td>0.248355</td>\n",
       "      <td>0.832446</td>\n",
       "    </tr>\n",
       "    <tr>\n",
       "      <th>3110</th>\n",
       "      <td>527</td>\n",
       "      <td>Rolls-Royce</td>\n",
       "      <td>Silver Spirit/Spur/Mulsanne</td>\n",
       "      <td>1985</td>\n",
       "      <td>Midsize Cars</td>\n",
       "      <td>Automatic 3-spd</td>\n",
       "      <td>Rear-Wheel Drive</td>\n",
       "      <td>8.0</td>\n",
       "      <td>6.8</td>\n",
       "      <td>Regular</td>\n",
       "      <td>10</td>\n",
       "      <td>8</td>\n",
       "      <td>29.404910</td>\n",
       "      <td>23.523928</td>\n",
       "      <td>4.138532</td>\n",
       "      <td>4.700255</td>\n",
       "      <td>5.144405</td>\n",
       "      <td>-0.241702</td>\n",
       "      <td>0.851456</td>\n",
       "    </tr>\n",
       "    <tr>\n",
       "      <th>3716</th>\n",
       "      <td>10855</td>\n",
       "      <td>Audi</td>\n",
       "      <td>100 quattro</td>\n",
       "      <td>1994</td>\n",
       "      <td>Compact Cars</td>\n",
       "      <td>Automatic 4-spd</td>\n",
       "      <td>4-Wheel or All-Wheel Drive</td>\n",
       "      <td>6.0</td>\n",
       "      <td>2.8</td>\n",
       "      <td>Regular</td>\n",
       "      <td>21</td>\n",
       "      <td>16</td>\n",
       "      <td>14.702455</td>\n",
       "      <td>11.201870</td>\n",
       "      <td>0.085111</td>\n",
       "      <td>0.205473</td>\n",
       "      <td>0.967073</td>\n",
       "      <td>-0.622491</td>\n",
       "      <td>0.731694</td>\n",
       "    </tr>\n",
       "  </tbody>\n",
       "</table>\n",
       "</div>"
      ],
      "text/plain": [
       "          id           make                        model  year         class  \\\n",
       "6146   29403  Mercedes-Benz                        CL600  2010  Compact Cars   \n",
       "9554   34833            BMW                 X1 xDrive28i  2015    Large Cars   \n",
       "10175  16000           Ford                       Taurus  2000    Large Cars   \n",
       "3110     527    Rolls-Royce  Silver Spirit/Spur/Mulsanne  1985  Midsize Cars   \n",
       "3716   10855           Audi                  100 quattro  1994  Compact Cars   \n",
       "\n",
       "                 trans                       drive   cyl  displ     fuel  hwy  \\\n",
       "6146   Automatic 5-spd            Rear-Wheel Drive  12.0    5.5  Premium   17   \n",
       "9554    Automatic (S8)             All-Wheel Drive   4.0    2.0  Premium   32   \n",
       "10175  Automatic 4-spd           Front-Wheel Drive   6.0    3.0  Regular   26   \n",
       "3110   Automatic 3-spd            Rear-Wheel Drive   8.0    6.8  Regular   10   \n",
       "3716   Automatic 4-spd  4-Wheel or All-Wheel Drive   6.0    2.8  Regular   21   \n",
       "\n",
       "       cty       cty2       hwy2     z_cty     z_hwy  z_cty_rel      mean  \\\n",
       "6146    11  21.385389  13.837605  1.927575  1.166924   3.485154 -0.622491   \n",
       "9554    22  10.692695   7.351227 -1.020368 -1.199146  -1.524090  0.248355   \n",
       "10175   17  13.837605   9.047665 -0.153326 -0.580328  -0.482531  0.248355   \n",
       "3110     8  29.404910  23.523928  4.138532  4.700255   5.144405 -0.241702   \n",
       "3716    16  14.702455  11.201870  0.085111  0.205473   0.967073 -0.622491   \n",
       "\n",
       "            std  \n",
       "6146   0.731694  \n",
       "9554   0.832446  \n",
       "10175  0.832446  \n",
       "3110   0.851456  \n",
       "3716   0.731694  "
      ]
     },
     "execution_count": 624,
     "metadata": {},
     "output_type": "execute_result"
    }
   ],
   "source": [
    "z_cty_stats = vehicles.groupby('class')[\"z_cty\"].agg([np.mean, np.std]).head()\n",
    "vehicles2 = pd.merge(vehicles,z_cty_stats, on=\"class\")\n",
    "vehicles2.sample(5)"
   ]
  },
  {
   "cell_type": "code",
   "execution_count": 625,
   "metadata": {},
   "outputs": [
    {
     "data": {
      "text/plain": [
       "14.39374383949137"
      ]
     },
     "execution_count": 625,
     "metadata": {},
     "output_type": "execute_result"
    }
   ],
   "source": [
    "np.mean(vehicles.cty2)"
   ]
  },
  {
   "cell_type": "code",
   "execution_count": 628,
   "metadata": {},
   "outputs": [
    {
     "data": {
      "text/html": [
       "<div>\n",
       "<style scoped>\n",
       "    .dataframe tbody tr th:only-of-type {\n",
       "        vertical-align: middle;\n",
       "    }\n",
       "\n",
       "    .dataframe tbody tr th {\n",
       "        vertical-align: top;\n",
       "    }\n",
       "\n",
       "    .dataframe thead th {\n",
       "        text-align: right;\n",
       "    }\n",
       "</style>\n",
       "<table border=\"1\" class=\"dataframe\">\n",
       "  <thead>\n",
       "    <tr style=\"text-align: right;\">\n",
       "      <th></th>\n",
       "      <th>id</th>\n",
       "      <th>year</th>\n",
       "      <th>cyl</th>\n",
       "      <th>displ</th>\n",
       "      <th>hwy</th>\n",
       "      <th>cty</th>\n",
       "      <th>cty2</th>\n",
       "      <th>hwy2</th>\n",
       "      <th>z_cty</th>\n",
       "      <th>z_hwy</th>\n",
       "      <th>z_cty_rel</th>\n",
       "      <th>mean</th>\n",
       "      <th>std</th>\n",
       "    </tr>\n",
       "    <tr>\n",
       "      <th>class</th>\n",
       "      <th></th>\n",
       "      <th></th>\n",
       "      <th></th>\n",
       "      <th></th>\n",
       "      <th></th>\n",
       "      <th></th>\n",
       "      <th></th>\n",
       "      <th></th>\n",
       "      <th></th>\n",
       "      <th></th>\n",
       "      <th></th>\n",
       "      <th></th>\n",
       "      <th></th>\n",
       "    </tr>\n",
       "  </thead>\n",
       "  <tbody>\n",
       "    <tr>\n",
       "      <th>Compact Cars</th>\n",
       "      <td>16496.471407</td>\n",
       "      <td>1999.438489</td>\n",
       "      <td>4.828970</td>\n",
       "      <td>2.466301</td>\n",
       "      <td>27.806288</td>\n",
       "      <td>20.314412</td>\n",
       "      <td>12.135864</td>\n",
       "      <td>8.763951</td>\n",
       "      <td>-0.622491</td>\n",
       "      <td>-0.683819</td>\n",
       "      <td>3.013697e-16</td>\n",
       "      <td>-0.622491</td>\n",
       "      <td>0.731694</td>\n",
       "    </tr>\n",
       "    <tr>\n",
       "      <th>Large Cars</th>\n",
       "      <td>20703.210698</td>\n",
       "      <td>2002.786040</td>\n",
       "      <td>7.184021</td>\n",
       "      <td>4.203929</td>\n",
       "      <td>23.797130</td>\n",
       "      <td>16.109589</td>\n",
       "      <td>15.294570</td>\n",
       "      <td>10.294098</td>\n",
       "      <td>0.248355</td>\n",
       "      <td>-0.125660</td>\n",
       "      <td>5.909602e-17</td>\n",
       "      <td>0.248355</td>\n",
       "      <td>0.832446</td>\n",
       "    </tr>\n",
       "    <tr>\n",
       "      <th>Midsize Cars</th>\n",
       "      <td>17947.418393</td>\n",
       "      <td>2000.526926</td>\n",
       "      <td>5.726217</td>\n",
       "      <td>3.185066</td>\n",
       "      <td>25.877934</td>\n",
       "      <td>18.433306</td>\n",
       "      <td>13.517049</td>\n",
       "      <td>9.496937</td>\n",
       "      <td>-0.241702</td>\n",
       "      <td>-0.416444</td>\n",
       "      <td>-8.499139e-16</td>\n",
       "      <td>-0.241702</td>\n",
       "      <td>0.851456</td>\n",
       "    </tr>\n",
       "    <tr>\n",
       "      <th>Midsize Station Wagons</th>\n",
       "      <td>20297.698795</td>\n",
       "      <td>2003.159036</td>\n",
       "      <td>5.175904</td>\n",
       "      <td>2.695181</td>\n",
       "      <td>25.233735</td>\n",
       "      <td>17.956627</td>\n",
       "      <td>13.372416</td>\n",
       "      <td>9.469121</td>\n",
       "      <td>-0.281577</td>\n",
       "      <td>-0.426591</td>\n",
       "      <td>-2.043880e-16</td>\n",
       "      <td>-0.281577</td>\n",
       "      <td>0.471814</td>\n",
       "    </tr>\n",
       "    <tr>\n",
       "      <th>Midsize-Large Station Wagons</th>\n",
       "      <td>6924.622010</td>\n",
       "      <td>1989.889952</td>\n",
       "      <td>5.111643</td>\n",
       "      <td>2.850718</td>\n",
       "      <td>24.065391</td>\n",
       "      <td>17.629984</td>\n",
       "      <td>13.505653</td>\n",
       "      <td>9.900678</td>\n",
       "      <td>-0.244844</td>\n",
       "      <td>-0.269169</td>\n",
       "      <td>3.470554e-17</td>\n",
       "      <td>-0.244844</td>\n",
       "      <td>0.396276</td>\n",
       "    </tr>\n",
       "  </tbody>\n",
       "</table>\n",
       "</div>"
      ],
      "text/plain": [
       "                                        id         year       cyl     displ  \\\n",
       "class                                                                         \n",
       "Compact Cars                  16496.471407  1999.438489  4.828970  2.466301   \n",
       "Large Cars                    20703.210698  2002.786040  7.184021  4.203929   \n",
       "Midsize Cars                  17947.418393  2000.526926  5.726217  3.185066   \n",
       "Midsize Station Wagons        20297.698795  2003.159036  5.175904  2.695181   \n",
       "Midsize-Large Station Wagons   6924.622010  1989.889952  5.111643  2.850718   \n",
       "\n",
       "                                    hwy        cty       cty2       hwy2  \\\n",
       "class                                                                      \n",
       "Compact Cars                  27.806288  20.314412  12.135864   8.763951   \n",
       "Large Cars                    23.797130  16.109589  15.294570  10.294098   \n",
       "Midsize Cars                  25.877934  18.433306  13.517049   9.496937   \n",
       "Midsize Station Wagons        25.233735  17.956627  13.372416   9.469121   \n",
       "Midsize-Large Station Wagons  24.065391  17.629984  13.505653   9.900678   \n",
       "\n",
       "                                 z_cty     z_hwy     z_cty_rel      mean  \\\n",
       "class                                                                      \n",
       "Compact Cars                 -0.622491 -0.683819  3.013697e-16 -0.622491   \n",
       "Large Cars                    0.248355 -0.125660  5.909602e-17  0.248355   \n",
       "Midsize Cars                 -0.241702 -0.416444 -8.499139e-16 -0.241702   \n",
       "Midsize Station Wagons       -0.281577 -0.426591 -2.043880e-16 -0.281577   \n",
       "Midsize-Large Station Wagons -0.244844 -0.269169  3.470554e-17 -0.244844   \n",
       "\n",
       "                                   std  \n",
       "class                                   \n",
       "Compact Cars                  0.731694  \n",
       "Large Cars                    0.832446  \n",
       "Midsize Cars                  0.851456  \n",
       "Midsize Station Wagons        0.471814  \n",
       "Midsize-Large Station Wagons  0.396276  "
      ]
     },
     "execution_count": 628,
     "metadata": {},
     "output_type": "execute_result"
    }
   ],
   "source": [
    "vehicles2.groupby(\"class\").mean().query(\"cty > 8\") # mean all numerical columns"
   ]
  },
  {
   "cell_type": "code",
   "execution_count": 629,
   "metadata": {},
   "outputs": [
    {
     "data": {
      "text/plain": [
       "class\n",
       "Compact Cars                    20.314412\n",
       "Large Cars                      16.109589\n",
       "Midsize Cars                    18.433306\n",
       "Midsize Station Wagons          17.956627\n",
       "Midsize-Large Station Wagons    17.629984\n",
       "Name: cty, dtype: float64"
      ]
     },
     "execution_count": 629,
     "metadata": {},
     "output_type": "execute_result"
    }
   ],
   "source": [
    "vehicles2.groupby(\"class\").cty.mean() # mean only cty"
   ]
  },
  {
   "cell_type": "code",
   "execution_count": 631,
   "metadata": {},
   "outputs": [
    {
     "data": {
      "text/plain": [
       "Male      157\n",
       "Female     87\n",
       "Name: sex, dtype: int64"
      ]
     },
     "execution_count": 631,
     "metadata": {},
     "output_type": "execute_result"
    }
   ],
   "source": [
    "y=tips[\"sex\"].value_counts()"
   ]
  },
  {
   "cell_type": "code",
   "execution_count": 636,
   "metadata": {},
   "outputs": [
    {
     "data": {
      "text/plain": [
       "0    Male\n",
       "dtype: object"
      ]
     },
     "execution_count": 636,
     "metadata": {},
     "output_type": "execute_result"
    }
   ],
   "source": [
    "tips[\"sex\"].mode()"
   ]
  },
  {
   "cell_type": "code",
   "execution_count": 637,
   "metadata": {},
   "outputs": [
    {
     "data": {
      "image/png": "[encoded data removed]",
      "text/plain": [
       "<Figure size 432x288 with 1 Axes>"
      ]
     },
     "metadata": {},
     "output_type": "display_data"
    }
   ],
   "source": [
    "tips[\"sex\"].value_counts().plot(kind=\"pie\")\n",
    "plt.axis('equal')\n",
    "plt.show()"
   ]
  },
  {
   "cell_type": "code",
   "execution_count": 638,
   "metadata": {},
   "outputs": [
    {
     "data": {
      "text/html": [
       "<div>\n",
       "<style scoped>\n",
       "    .dataframe tbody tr th:only-of-type {\n",
       "        vertical-align: middle;\n",
       "    }\n",
       "\n",
       "    .dataframe tbody tr th {\n",
       "        vertical-align: top;\n",
       "    }\n",
       "\n",
       "    .dataframe thead th {\n",
       "        text-align: right;\n",
       "    }\n",
       "</style>\n",
       "<table border=\"1\" class=\"dataframe\">\n",
       "  <thead>\n",
       "    <tr style=\"text-align: right;\">\n",
       "      <th>day</th>\n",
       "      <th>Fri</th>\n",
       "      <th>Sat</th>\n",
       "      <th>Sun</th>\n",
       "      <th>Thur</th>\n",
       "    </tr>\n",
       "    <tr>\n",
       "      <th>sex</th>\n",
       "      <th></th>\n",
       "      <th></th>\n",
       "      <th></th>\n",
       "      <th></th>\n",
       "    </tr>\n",
       "  </thead>\n",
       "  <tbody>\n",
       "    <tr>\n",
       "      <th>Female</th>\n",
       "      <td>9</td>\n",
       "      <td>28</td>\n",
       "      <td>18</td>\n",
       "      <td>32</td>\n",
       "    </tr>\n",
       "    <tr>\n",
       "      <th>Male</th>\n",
       "      <td>10</td>\n",
       "      <td>59</td>\n",
       "      <td>58</td>\n",
       "      <td>30</td>\n",
       "    </tr>\n",
       "  </tbody>\n",
       "</table>\n",
       "</div>"
      ],
      "text/plain": [
       "day     Fri  Sat  Sun  Thur\n",
       "sex                        \n",
       "Female    9   28   18    32\n",
       "Male     10   59   58    30"
      ]
     },
     "execution_count": 638,
     "metadata": {},
     "output_type": "execute_result"
    }
   ],
   "source": [
    "pd.crosstab(tips.sex, tips.day)"
   ]
  },
  {
   "cell_type": "code",
   "execution_count": 639,
   "metadata": {},
   "outputs": [
    {
     "data": {
      "text/plain": [
       "sex     day \n",
       "Female  Fri      9\n",
       "        Sat     28\n",
       "        Sun     18\n",
       "        Thur    32\n",
       "Male    Fri     10\n",
       "        Sat     59\n",
       "        Sun     58\n",
       "        Thur    30\n",
       "dtype: int64"
      ]
     },
     "execution_count": 639,
     "metadata": {},
     "output_type": "execute_result"
    }
   ],
   "source": [
    "tips.groupby([\"sex\",\"day\"]).size()"
   ]
  },
  {
   "cell_type": "code",
   "execution_count": 640,
   "metadata": {},
   "outputs": [],
   "source": [
    "weather = pd.read_csv(\"http://www.gagolewski.com/resources/data/nycflights13_weather.csv.gz\",\n",
    "                         comment=\"#\")"
   ]
  },
  {
   "cell_type": "code",
   "execution_count": 643,
   "metadata": {},
   "outputs": [
    {
     "data": {
      "text/html": [
       "<div>\n",
       "<style scoped>\n",
       "    .dataframe tbody tr th:only-of-type {\n",
       "        vertical-align: middle;\n",
       "    }\n",
       "\n",
       "    .dataframe tbody tr th {\n",
       "        vertical-align: top;\n",
       "    }\n",
       "\n",
       "    .dataframe thead th {\n",
       "        text-align: right;\n",
       "    }\n",
       "</style>\n",
       "<table border=\"1\" class=\"dataframe\">\n",
       "  <thead>\n",
       "    <tr style=\"text-align: right;\">\n",
       "      <th></th>\n",
       "      <th>origin</th>\n",
       "      <th>year</th>\n",
       "      <th>month</th>\n",
       "      <th>day</th>\n",
       "      <th>hour</th>\n",
       "      <th>temp</th>\n",
       "      <th>dewp</th>\n",
       "      <th>humid</th>\n",
       "      <th>wind_dir</th>\n",
       "      <th>wind_speed</th>\n",
       "      <th>wind_gust</th>\n",
       "      <th>precip</th>\n",
       "      <th>pressure</th>\n",
       "      <th>visib</th>\n",
       "      <th>time_hour</th>\n",
       "    </tr>\n",
       "  </thead>\n",
       "  <tbody>\n",
       "    <tr>\n",
       "      <th>0</th>\n",
       "      <td>EWR</td>\n",
       "      <td>2013</td>\n",
       "      <td>1</td>\n",
       "      <td>1</td>\n",
       "      <td>0</td>\n",
       "      <td>37.04</td>\n",
       "      <td>21.92</td>\n",
       "      <td>53.97</td>\n",
       "      <td>230.0</td>\n",
       "      <td>10.35702</td>\n",
       "      <td>11.918651</td>\n",
       "      <td>0.0</td>\n",
       "      <td>1013.9</td>\n",
       "      <td>10.0</td>\n",
       "      <td>2013-01-01 01:00:00</td>\n",
       "    </tr>\n",
       "    <tr>\n",
       "      <th>1</th>\n",
       "      <td>EWR</td>\n",
       "      <td>2013</td>\n",
       "      <td>1</td>\n",
       "      <td>1</td>\n",
       "      <td>1</td>\n",
       "      <td>37.04</td>\n",
       "      <td>21.92</td>\n",
       "      <td>53.97</td>\n",
       "      <td>230.0</td>\n",
       "      <td>13.80936</td>\n",
       "      <td>15.891535</td>\n",
       "      <td>0.0</td>\n",
       "      <td>1013.0</td>\n",
       "      <td>10.0</td>\n",
       "      <td>2013-01-01 02:00:00</td>\n",
       "    </tr>\n",
       "    <tr>\n",
       "      <th>2</th>\n",
       "      <td>EWR</td>\n",
       "      <td>2013</td>\n",
       "      <td>1</td>\n",
       "      <td>1</td>\n",
       "      <td>2</td>\n",
       "      <td>37.94</td>\n",
       "      <td>21.92</td>\n",
       "      <td>52.09</td>\n",
       "      <td>230.0</td>\n",
       "      <td>12.65858</td>\n",
       "      <td>14.567241</td>\n",
       "      <td>0.0</td>\n",
       "      <td>1012.6</td>\n",
       "      <td>10.0</td>\n",
       "      <td>2013-01-01 03:00:00</td>\n",
       "    </tr>\n",
       "    <tr>\n",
       "      <th>3</th>\n",
       "      <td>EWR</td>\n",
       "      <td>2013</td>\n",
       "      <td>1</td>\n",
       "      <td>1</td>\n",
       "      <td>3</td>\n",
       "      <td>37.94</td>\n",
       "      <td>23.00</td>\n",
       "      <td>54.51</td>\n",
       "      <td>230.0</td>\n",
       "      <td>13.80936</td>\n",
       "      <td>15.891535</td>\n",
       "      <td>0.0</td>\n",
       "      <td>1012.7</td>\n",
       "      <td>10.0</td>\n",
       "      <td>2013-01-01 04:00:00</td>\n",
       "    </tr>\n",
       "    <tr>\n",
       "      <th>4</th>\n",
       "      <td>EWR</td>\n",
       "      <td>2013</td>\n",
       "      <td>1</td>\n",
       "      <td>1</td>\n",
       "      <td>4</td>\n",
       "      <td>37.94</td>\n",
       "      <td>24.08</td>\n",
       "      <td>57.04</td>\n",
       "      <td>240.0</td>\n",
       "      <td>14.96014</td>\n",
       "      <td>17.215830</td>\n",
       "      <td>0.0</td>\n",
       "      <td>1012.8</td>\n",
       "      <td>10.0</td>\n",
       "      <td>2013-01-01 05:00:00</td>\n",
       "    </tr>\n",
       "  </tbody>\n",
       "</table>\n",
       "</div>"
      ],
      "text/plain": [
       "  origin  year  month  day  hour   temp   dewp  humid  wind_dir  wind_speed  \\\n",
       "0    EWR  2013      1    1     0  37.04  21.92  53.97     230.0    10.35702   \n",
       "1    EWR  2013      1    1     1  37.04  21.92  53.97     230.0    13.80936   \n",
       "2    EWR  2013      1    1     2  37.94  21.92  52.09     230.0    12.65858   \n",
       "3    EWR  2013      1    1     3  37.94  23.00  54.51     230.0    13.80936   \n",
       "4    EWR  2013      1    1     4  37.94  24.08  57.04     240.0    14.96014   \n",
       "\n",
       "   wind_gust  precip  pressure  visib            time_hour  \n",
       "0  11.918651     0.0    1013.9   10.0  2013-01-01 01:00:00  \n",
       "1  15.891535     0.0    1013.0   10.0  2013-01-01 02:00:00  \n",
       "2  14.567241     0.0    1012.6   10.0  2013-01-01 03:00:00  \n",
       "3  15.891535     0.0    1012.7   10.0  2013-01-01 04:00:00  \n",
       "4  17.215830     0.0    1012.8   10.0  2013-01-01 05:00:00  "
      ]
     },
     "execution_count": 643,
     "metadata": {},
     "output_type": "execute_result"
    }
   ],
   "source": [
    "weather.head()"
   ]
  },
  {
   "cell_type": "markdown",
   "metadata": {},
   "source": [
    " With the `weather` data frame from `nycflights13`:\n",
    "\n",
    "      * Convert temperature to Celsius.\n",
    "      * Compute daily mean temperatures for the `JFK` airport.\n",
    "      If some hourly temperature measurements is missing,\n",
    "      linearly interpolate between the preceding and following non-missing data,\n",
    "      e.g., a temperature sequence of `[..., 10, NaN, NaN, 40, ...]`\n",
    "      should be transformed to `[..., 10, 20, 30, 40, ...]`.\n",
    "      * Present the daily mean temperatures on a plot.\n",
    "      The x-axis labels should be human-readable and intuitive.\n",
    "      * Choose days with greater mean temperature than in the preceding day.\n",
    "      * Find 5 hottest days."
   ]
  },
  {
   "cell_type": "code",
   "execution_count": 674,
   "metadata": {},
   "outputs": [
    {
     "data": {
      "text/html": [
       "<div>\n",
       "<style scoped>\n",
       "    .dataframe tbody tr th:only-of-type {\n",
       "        vertical-align: middle;\n",
       "    }\n",
       "\n",
       "    .dataframe tbody tr th {\n",
       "        vertical-align: top;\n",
       "    }\n",
       "\n",
       "    .dataframe thead th {\n",
       "        text-align: right;\n",
       "    }\n",
       "</style>\n",
       "<table border=\"1\" class=\"dataframe\">\n",
       "  <thead>\n",
       "    <tr style=\"text-align: right;\">\n",
       "      <th></th>\n",
       "      <th>origin</th>\n",
       "      <th>year</th>\n",
       "      <th>month</th>\n",
       "      <th>day</th>\n",
       "      <th>hour</th>\n",
       "      <th>temp</th>\n",
       "      <th>dewp</th>\n",
       "      <th>humid</th>\n",
       "      <th>wind_dir</th>\n",
       "      <th>wind_speed</th>\n",
       "      <th>wind_gust</th>\n",
       "      <th>precip</th>\n",
       "      <th>pressure</th>\n",
       "      <th>visib</th>\n",
       "      <th>time_hour</th>\n",
       "      <th>temp_cel</th>\n",
       "    </tr>\n",
       "  </thead>\n",
       "  <tbody>\n",
       "    <tr>\n",
       "      <th>0</th>\n",
       "      <td>EWR</td>\n",
       "      <td>2013</td>\n",
       "      <td>1</td>\n",
       "      <td>1</td>\n",
       "      <td>0</td>\n",
       "      <td>37.04</td>\n",
       "      <td>21.92</td>\n",
       "      <td>53.97</td>\n",
       "      <td>230.0</td>\n",
       "      <td>10.35702</td>\n",
       "      <td>11.918651</td>\n",
       "      <td>0.0</td>\n",
       "      <td>1013.9</td>\n",
       "      <td>10.0</td>\n",
       "      <td>2013-01-01 01:00:00</td>\n",
       "      <td>2.8</td>\n",
       "    </tr>\n",
       "    <tr>\n",
       "      <th>1</th>\n",
       "      <td>EWR</td>\n",
       "      <td>2013</td>\n",
       "      <td>1</td>\n",
       "      <td>1</td>\n",
       "      <td>1</td>\n",
       "      <td>37.04</td>\n",
       "      <td>21.92</td>\n",
       "      <td>53.97</td>\n",
       "      <td>230.0</td>\n",
       "      <td>13.80936</td>\n",
       "      <td>15.891535</td>\n",
       "      <td>0.0</td>\n",
       "      <td>1013.0</td>\n",
       "      <td>10.0</td>\n",
       "      <td>2013-01-01 02:00:00</td>\n",
       "      <td>2.8</td>\n",
       "    </tr>\n",
       "    <tr>\n",
       "      <th>2</th>\n",
       "      <td>EWR</td>\n",
       "      <td>2013</td>\n",
       "      <td>1</td>\n",
       "      <td>1</td>\n",
       "      <td>2</td>\n",
       "      <td>37.94</td>\n",
       "      <td>21.92</td>\n",
       "      <td>52.09</td>\n",
       "      <td>230.0</td>\n",
       "      <td>12.65858</td>\n",
       "      <td>14.567241</td>\n",
       "      <td>0.0</td>\n",
       "      <td>1012.6</td>\n",
       "      <td>10.0</td>\n",
       "      <td>2013-01-01 03:00:00</td>\n",
       "      <td>3.3</td>\n",
       "    </tr>\n",
       "    <tr>\n",
       "      <th>3</th>\n",
       "      <td>EWR</td>\n",
       "      <td>2013</td>\n",
       "      <td>1</td>\n",
       "      <td>1</td>\n",
       "      <td>3</td>\n",
       "      <td>37.94</td>\n",
       "      <td>23.00</td>\n",
       "      <td>54.51</td>\n",
       "      <td>230.0</td>\n",
       "      <td>13.80936</td>\n",
       "      <td>15.891535</td>\n",
       "      <td>0.0</td>\n",
       "      <td>1012.7</td>\n",
       "      <td>10.0</td>\n",
       "      <td>2013-01-01 04:00:00</td>\n",
       "      <td>3.3</td>\n",
       "    </tr>\n",
       "    <tr>\n",
       "      <th>4</th>\n",
       "      <td>EWR</td>\n",
       "      <td>2013</td>\n",
       "      <td>1</td>\n",
       "      <td>1</td>\n",
       "      <td>4</td>\n",
       "      <td>37.94</td>\n",
       "      <td>24.08</td>\n",
       "      <td>57.04</td>\n",
       "      <td>240.0</td>\n",
       "      <td>14.96014</td>\n",
       "      <td>17.215830</td>\n",
       "      <td>0.0</td>\n",
       "      <td>1012.8</td>\n",
       "      <td>10.0</td>\n",
       "      <td>2013-01-01 05:00:00</td>\n",
       "      <td>3.3</td>\n",
       "    </tr>\n",
       "  </tbody>\n",
       "</table>\n",
       "</div>"
      ],
      "text/plain": [
       "  origin  year  month  day  hour   temp   dewp  humid  wind_dir  wind_speed  \\\n",
       "0    EWR  2013      1    1     0  37.04  21.92  53.97     230.0    10.35702   \n",
       "1    EWR  2013      1    1     1  37.04  21.92  53.97     230.0    13.80936   \n",
       "2    EWR  2013      1    1     2  37.94  21.92  52.09     230.0    12.65858   \n",
       "3    EWR  2013      1    1     3  37.94  23.00  54.51     230.0    13.80936   \n",
       "4    EWR  2013      1    1     4  37.94  24.08  57.04     240.0    14.96014   \n",
       "\n",
       "   wind_gust  precip  pressure  visib            time_hour  temp_cel  \n",
       "0  11.918651     0.0    1013.9   10.0  2013-01-01 01:00:00       2.8  \n",
       "1  15.891535     0.0    1013.0   10.0  2013-01-01 02:00:00       2.8  \n",
       "2  14.567241     0.0    1012.6   10.0  2013-01-01 03:00:00       3.3  \n",
       "3  15.891535     0.0    1012.7   10.0  2013-01-01 04:00:00       3.3  \n",
       "4  17.215830     0.0    1012.8   10.0  2013-01-01 05:00:00       3.3  "
      ]
     },
     "execution_count": 674,
     "metadata": {},
     "output_type": "execute_result"
    }
   ],
   "source": [
    "weather.head()"
   ]
  },
  {
   "cell_type": "code",
   "execution_count": 751,
   "metadata": {},
   "outputs": [],
   "source": [
    "weather[\"temp_cel\"] = (weather[\"temp\"]-32)*5.0/9.0"
   ]
  },
  {
   "cell_type": "code",
   "execution_count": 702,
   "metadata": {},
   "outputs": [
    {
     "data": {
      "text/plain": [
       "4789     2013-07-19 21:00:00\n",
       "4764     2013-07-18 20:00:00\n",
       "4788     2013-07-19 20:00:00\n",
       "4787     2013-07-19 19:00:00\n",
       "22210    2013-07-19 21:00:00\n",
       "Name: time_hour, dtype: object"
      ]
     },
     "execution_count": 702,
     "metadata": {},
     "output_type": "execute_result"
    }
   ],
   "source": [
    "\n",
    "weather.sort_values(\"temp\",ascending=False).loc[:,\"time_hour\"].head()"
   ]
  },
  {
   "cell_type": "code",
   "execution_count": 770,
   "metadata": {},
   "outputs": [
    {
     "data": {
      "text/html": [
       "<div>\n",
       "<style scoped>\n",
       "    .dataframe tbody tr th:only-of-type {\n",
       "        vertical-align: middle;\n",
       "    }\n",
       "\n",
       "    .dataframe tbody tr th {\n",
       "        vertical-align: top;\n",
       "    }\n",
       "\n",
       "    .dataframe thead th {\n",
       "        text-align: right;\n",
       "    }\n",
       "</style>\n",
       "<table border=\"1\" class=\"dataframe\">\n",
       "  <thead>\n",
       "    <tr style=\"text-align: right;\">\n",
       "      <th></th>\n",
       "      <th>year</th>\n",
       "      <th>month</th>\n",
       "      <th>day</th>\n",
       "      <th>hour</th>\n",
       "      <th>temp</th>\n",
       "      <th>dewp</th>\n",
       "      <th>humid</th>\n",
       "      <th>wind_dir</th>\n",
       "      <th>wind_speed</th>\n",
       "      <th>wind_gust</th>\n",
       "      <th>precip</th>\n",
       "      <th>pressure</th>\n",
       "      <th>visib</th>\n",
       "      <th>temp_cel</th>\n",
       "    </tr>\n",
       "  </thead>\n",
       "  <tbody>\n",
       "    <tr>\n",
       "      <th>2013-01-01</th>\n",
       "      <td>2013</td>\n",
       "      <td>1</td>\n",
       "      <td>1</td>\n",
       "      <td>11.782609</td>\n",
       "      <td>38.871304</td>\n",
       "      <td>24.776522</td>\n",
       "      <td>56.926087</td>\n",
       "      <td>273.478261</td>\n",
       "      <td>15.410445</td>\n",
       "      <td>17.734032</td>\n",
       "      <td>0.0</td>\n",
       "      <td>1012.663636</td>\n",
       "      <td>10.0</td>\n",
       "      <td>3.817391</td>\n",
       "    </tr>\n",
       "    <tr>\n",
       "      <th>2013-01-02</th>\n",
       "      <td>2013</td>\n",
       "      <td>1</td>\n",
       "      <td>2</td>\n",
       "      <td>11.500000</td>\n",
       "      <td>28.542500</td>\n",
       "      <td>9.837500</td>\n",
       "      <td>45.210417</td>\n",
       "      <td>320.000000</td>\n",
       "      <td>15.679378</td>\n",
       "      <td>18.043514</td>\n",
       "      <td>0.0</td>\n",
       "      <td>1017.287500</td>\n",
       "      <td>10.0</td>\n",
       "      <td>-1.920833</td>\n",
       "    </tr>\n",
       "    <tr>\n",
       "      <th>2013-01-03</th>\n",
       "      <td>2013</td>\n",
       "      <td>1</td>\n",
       "      <td>3</td>\n",
       "      <td>11.500000</td>\n",
       "      <td>29.772500</td>\n",
       "      <td>13.970000</td>\n",
       "      <td>51.621667</td>\n",
       "      <td>298.333333</td>\n",
       "      <td>11.316003</td>\n",
       "      <td>13.022230</td>\n",
       "      <td>0.0</td>\n",
       "      <td>1021.225000</td>\n",
       "      <td>10.0</td>\n",
       "      <td>-1.237500</td>\n",
       "    </tr>\n",
       "    <tr>\n",
       "      <th>2013-01-04</th>\n",
       "      <td>2013</td>\n",
       "      <td>1</td>\n",
       "      <td>4</td>\n",
       "      <td>11.500000</td>\n",
       "      <td>34.032500</td>\n",
       "      <td>19.452500</td>\n",
       "      <td>55.007917</td>\n",
       "      <td>256.250000</td>\n",
       "      <td>15.775276</td>\n",
       "      <td>18.153872</td>\n",
       "      <td>0.0</td>\n",
       "      <td>1017.854167</td>\n",
       "      <td>10.0</td>\n",
       "      <td>1.129167</td>\n",
       "    </tr>\n",
       "    <tr>\n",
       "      <th>2013-01-05</th>\n",
       "      <td>2013</td>\n",
       "      <td>1</td>\n",
       "      <td>5</td>\n",
       "      <td>11.500000</td>\n",
       "      <td>36.897500</td>\n",
       "      <td>19.197500</td>\n",
       "      <td>48.918750</td>\n",
       "      <td>279.166667</td>\n",
       "      <td>13.665512</td>\n",
       "      <td>15.725998</td>\n",
       "      <td>0.0</td>\n",
       "      <td>1021.262500</td>\n",
       "      <td>10.0</td>\n",
       "      <td>2.720833</td>\n",
       "    </tr>\n",
       "  </tbody>\n",
       "</table>\n",
       "</div>"
      ],
      "text/plain": [
       "            year  month  day       hour       temp       dewp      humid  \\\n",
       "2013-01-01  2013      1    1  11.782609  38.871304  24.776522  56.926087   \n",
       "2013-01-02  2013      1    2  11.500000  28.542500   9.837500  45.210417   \n",
       "2013-01-03  2013      1    3  11.500000  29.772500  13.970000  51.621667   \n",
       "2013-01-04  2013      1    4  11.500000  34.032500  19.452500  55.007917   \n",
       "2013-01-05  2013      1    5  11.500000  36.897500  19.197500  48.918750   \n",
       "\n",
       "              wind_dir  wind_speed  wind_gust  precip     pressure  visib  \\\n",
       "2013-01-01  273.478261   15.410445  17.734032     0.0  1012.663636   10.0   \n",
       "2013-01-02  320.000000   15.679378  18.043514     0.0  1017.287500   10.0   \n",
       "2013-01-03  298.333333   11.316003  13.022230     0.0  1021.225000   10.0   \n",
       "2013-01-04  256.250000   15.775276  18.153872     0.0  1017.854167   10.0   \n",
       "2013-01-05  279.166667   13.665512  15.725998     0.0  1021.262500   10.0   \n",
       "\n",
       "            temp_cel  \n",
       "2013-01-01  3.817391  \n",
       "2013-01-02 -1.920833  \n",
       "2013-01-03 -1.237500  \n",
       "2013-01-04  1.129167  \n",
       "2013-01-05  2.720833  "
      ]
     },
     "execution_count": 770,
     "metadata": {},
     "output_type": "execute_result"
    }
   ],
   "source": [
    "mean_temp_jfk = weather.dropna(subset=[\"temp_cel\"]).\\\n",
    "    query(\"origin == 'JFK'\").\\\n",
    "    groupby([\"year\",\"month\",\"day\"]).\\\n",
    "    mean().\\\n",
    "    reset_index()\n",
    "    \n",
    "mean_temp_jfk.index = pd.to_datetime(mean_temp_jfk[[\"year\",\"month\",\"day\"]])\n",
    "mean_temp_jfk.head()"
   ]
  },
  {
   "cell_type": "code",
   "execution_count": 744,
   "metadata": {},
   "outputs": [
    {
     "data": {
      "text/plain": [
       "<matplotlib.axes._subplots.AxesSubplot at 0x117cc0ac8>"
      ]
     },
     "execution_count": 744,
     "metadata": {},
     "output_type": "execute_result"
    },
    {
     "data": {
      "image/png": "[encoded data removed]",
      "text/plain": [
       "<Figure size 432x288 with 1 Axes>"
      ]
     },
     "metadata": {},
     "output_type": "display_data"
    }
   ],
   "source": [
    "mean_temp_jfk.temp_cel.plot()"
   ]
  },
  {
   "cell_type": "code",
   "execution_count": 766,
   "metadata": {},
   "outputs": [
    {
     "data": {
      "text/html": [
       "<div>\n",
       "<style scoped>\n",
       "    .dataframe tbody tr th:only-of-type {\n",
       "        vertical-align: middle;\n",
       "    }\n",
       "\n",
       "    .dataframe tbody tr th {\n",
       "        vertical-align: top;\n",
       "    }\n",
       "\n",
       "    .dataframe thead th {\n",
       "        text-align: right;\n",
       "    }\n",
       "</style>\n",
       "<table border=\"1\" class=\"dataframe\">\n",
       "  <thead>\n",
       "    <tr style=\"text-align: right;\">\n",
       "      <th></th>\n",
       "      <th>year</th>\n",
       "      <th>month</th>\n",
       "      <th>day</th>\n",
       "      <th>temp_cel</th>\n",
       "    </tr>\n",
       "  </thead>\n",
       "  <tbody>\n",
       "    <tr>\n",
       "      <th>0</th>\n",
       "      <td>2013</td>\n",
       "      <td>1</td>\n",
       "      <td>1</td>\n",
       "      <td>3.817391</td>\n",
       "    </tr>\n",
       "    <tr>\n",
       "      <th>1</th>\n",
       "      <td>2013</td>\n",
       "      <td>1</td>\n",
       "      <td>2</td>\n",
       "      <td>-1.920833</td>\n",
       "    </tr>\n",
       "    <tr>\n",
       "      <th>2</th>\n",
       "      <td>2013</td>\n",
       "      <td>1</td>\n",
       "      <td>3</td>\n",
       "      <td>-1.237500</td>\n",
       "    </tr>\n",
       "    <tr>\n",
       "      <th>3</th>\n",
       "      <td>2013</td>\n",
       "      <td>1</td>\n",
       "      <td>4</td>\n",
       "      <td>1.129167</td>\n",
       "    </tr>\n",
       "    <tr>\n",
       "      <th>4</th>\n",
       "      <td>2013</td>\n",
       "      <td>1</td>\n",
       "      <td>5</td>\n",
       "      <td>2.720833</td>\n",
       "    </tr>\n",
       "  </tbody>\n",
       "</table>\n",
       "</div>"
      ],
      "text/plain": [
       "   year  month  day  temp_cel\n",
       "0  2013      1    1  3.817391\n",
       "1  2013      1    2 -1.920833\n",
       "2  2013      1    3 -1.237500\n",
       "3  2013      1    4  1.129167\n",
       "4  2013      1    5  2.720833"
      ]
     },
     "execution_count": 766,
     "metadata": {},
     "output_type": "execute_result"
    }
   ],
   "source": [
    "mean_temp_jfk2 = weather.\\\n",
    "query(\"origin == 'JFK'\")[[\"year\",\"month\",\"day\",\"temp_cel\"]].\\\n",
    "interpolate().\\\n",
    "groupby([\"year\",\"month\",\"day\"]).\\\n",
    "mean().\\\n",
    "reset_index()\n",
    "\n",
    "mean_temp_jfk2.head()"
   ]
  },
  {
   "cell_type": "code",
   "execution_count": 772,
   "metadata": {},
   "outputs": [
    {
     "data": {
      "text/html": [
       "<div>\n",
       "<style scoped>\n",
       "    .dataframe tbody tr th:only-of-type {\n",
       "        vertical-align: middle;\n",
       "    }\n",
       "\n",
       "    .dataframe tbody tr th {\n",
       "        vertical-align: top;\n",
       "    }\n",
       "\n",
       "    .dataframe thead th {\n",
       "        text-align: right;\n",
       "    }\n",
       "</style>\n",
       "<table border=\"1\" class=\"dataframe\">\n",
       "  <thead>\n",
       "    <tr style=\"text-align: right;\">\n",
       "      <th></th>\n",
       "      <th>year</th>\n",
       "      <th>month</th>\n",
       "      <th>day</th>\n",
       "      <th>hour</th>\n",
       "      <th>temp</th>\n",
       "      <th>dewp</th>\n",
       "      <th>humid</th>\n",
       "      <th>wind_dir</th>\n",
       "      <th>wind_speed</th>\n",
       "      <th>wind_gust</th>\n",
       "      <th>precip</th>\n",
       "      <th>pressure</th>\n",
       "      <th>visib</th>\n",
       "      <th>temp_cel</th>\n",
       "    </tr>\n",
       "  </thead>\n",
       "  <tbody>\n",
       "    <tr>\n",
       "      <th>2013-01-03</th>\n",
       "      <td>2013</td>\n",
       "      <td>1</td>\n",
       "      <td>3</td>\n",
       "      <td>11.5</td>\n",
       "      <td>29.7725</td>\n",
       "      <td>13.9700</td>\n",
       "      <td>51.621667</td>\n",
       "      <td>298.333333</td>\n",
       "      <td>11.316003</td>\n",
       "      <td>13.022230</td>\n",
       "      <td>0.0</td>\n",
       "      <td>1021.225000</td>\n",
       "      <td>10.0</td>\n",
       "      <td>-1.237500</td>\n",
       "    </tr>\n",
       "    <tr>\n",
       "      <th>2013-01-04</th>\n",
       "      <td>2013</td>\n",
       "      <td>1</td>\n",
       "      <td>4</td>\n",
       "      <td>11.5</td>\n",
       "      <td>34.0325</td>\n",
       "      <td>19.4525</td>\n",
       "      <td>55.007917</td>\n",
       "      <td>256.250000</td>\n",
       "      <td>15.775276</td>\n",
       "      <td>18.153872</td>\n",
       "      <td>0.0</td>\n",
       "      <td>1017.854167</td>\n",
       "      <td>10.0</td>\n",
       "      <td>1.129167</td>\n",
       "    </tr>\n",
       "    <tr>\n",
       "      <th>2013-01-05</th>\n",
       "      <td>2013</td>\n",
       "      <td>1</td>\n",
       "      <td>5</td>\n",
       "      <td>11.5</td>\n",
       "      <td>36.8975</td>\n",
       "      <td>19.1975</td>\n",
       "      <td>48.918750</td>\n",
       "      <td>279.166667</td>\n",
       "      <td>13.665512</td>\n",
       "      <td>15.725998</td>\n",
       "      <td>0.0</td>\n",
       "      <td>1021.262500</td>\n",
       "      <td>10.0</td>\n",
       "      <td>2.720833</td>\n",
       "    </tr>\n",
       "  </tbody>\n",
       "</table>\n",
       "</div>"
      ],
      "text/plain": [
       "            year  month  day  hour     temp     dewp      humid    wind_dir  \\\n",
       "2013-01-03  2013      1    3  11.5  29.7725  13.9700  51.621667  298.333333   \n",
       "2013-01-04  2013      1    4  11.5  34.0325  19.4525  55.007917  256.250000   \n",
       "2013-01-05  2013      1    5  11.5  36.8975  19.1975  48.918750  279.166667   \n",
       "\n",
       "            wind_speed  wind_gust  precip     pressure  visib  temp_cel  \n",
       "2013-01-03   11.316003  13.022230     0.0  1021.225000   10.0 -1.237500  \n",
       "2013-01-04   15.775276  18.153872     0.0  1017.854167   10.0  1.129167  \n",
       "2013-01-05   13.665512  15.725998     0.0  1021.262500   10.0  2.720833  "
      ]
     },
     "execution_count": 772,
     "metadata": {},
     "output_type": "execute_result"
    }
   ],
   "source": [
    "mean_temp_jfk.loc[mean_temp_jfk.temp_cel.diff()>0,].head(3)"
   ]
  },
  {
   "cell_type": "code",
   "execution_count": 774,
   "metadata": {},
   "outputs": [
    {
     "data": {
      "text/html": [
       "<div>\n",
       "<style scoped>\n",
       "    .dataframe tbody tr th:only-of-type {\n",
       "        vertical-align: middle;\n",
       "    }\n",
       "\n",
       "    .dataframe tbody tr th {\n",
       "        vertical-align: top;\n",
       "    }\n",
       "\n",
       "    .dataframe thead th {\n",
       "        text-align: right;\n",
       "    }\n",
       "</style>\n",
       "<table border=\"1\" class=\"dataframe\">\n",
       "  <thead>\n",
       "    <tr style=\"text-align: right;\">\n",
       "      <th></th>\n",
       "      <th>year</th>\n",
       "      <th>month</th>\n",
       "      <th>day</th>\n",
       "      <th>hour</th>\n",
       "      <th>temp</th>\n",
       "      <th>dewp</th>\n",
       "      <th>humid</th>\n",
       "      <th>wind_dir</th>\n",
       "      <th>wind_speed</th>\n",
       "      <th>wind_gust</th>\n",
       "      <th>precip</th>\n",
       "      <th>pressure</th>\n",
       "      <th>visib</th>\n",
       "      <th>temp_cel</th>\n",
       "    </tr>\n",
       "  </thead>\n",
       "  <tbody>\n",
       "    <tr>\n",
       "      <th>2013-07-19</th>\n",
       "      <td>2013</td>\n",
       "      <td>7</td>\n",
       "      <td>19</td>\n",
       "      <td>11.5</td>\n",
       "      <td>86.3375</td>\n",
       "      <td>75.9725</td>\n",
       "      <td>72.028750</td>\n",
       "      <td>192.916667</td>\n",
       "      <td>10.452918</td>\n",
       "      <td>12.029009</td>\n",
       "      <td>0.0</td>\n",
       "      <td>1013.420833</td>\n",
       "      <td>8.375000</td>\n",
       "      <td>30.187500</td>\n",
       "    </tr>\n",
       "    <tr>\n",
       "      <th>2013-07-18</th>\n",
       "      <td>2013</td>\n",
       "      <td>7</td>\n",
       "      <td>18</td>\n",
       "      <td>11.5</td>\n",
       "      <td>86.4350</td>\n",
       "      <td>71.7050</td>\n",
       "      <td>63.893333</td>\n",
       "      <td>236.086957</td>\n",
       "      <td>9.637782</td>\n",
       "      <td>11.090967</td>\n",
       "      <td>0.0</td>\n",
       "      <td>1017.020833</td>\n",
       "      <td>9.666667</td>\n",
       "      <td>30.241667</td>\n",
       "    </tr>\n",
       "    <tr>\n",
       "      <th>2013-07-20</th>\n",
       "      <td>2013</td>\n",
       "      <td>7</td>\n",
       "      <td>20</td>\n",
       "      <td>11.5</td>\n",
       "      <td>86.4425</td>\n",
       "      <td>71.9450</td>\n",
       "      <td>63.582500</td>\n",
       "      <td>236.956522</td>\n",
       "      <td>14.910106</td>\n",
       "      <td>17.158252</td>\n",
       "      <td>0.0</td>\n",
       "      <td>1008.926087</td>\n",
       "      <td>8.750000</td>\n",
       "      <td>30.245833</td>\n",
       "    </tr>\n",
       "    <tr>\n",
       "      <th>2013-07-16</th>\n",
       "      <td>2013</td>\n",
       "      <td>7</td>\n",
       "      <td>16</td>\n",
       "      <td>11.5</td>\n",
       "      <td>86.8700</td>\n",
       "      <td>65.9675</td>\n",
       "      <td>52.828333</td>\n",
       "      <td>238.333333</td>\n",
       "      <td>9.541884</td>\n",
       "      <td>10.980609</td>\n",
       "      <td>0.0</td>\n",
       "      <td>1021.312500</td>\n",
       "      <td>10.000000</td>\n",
       "      <td>30.483333</td>\n",
       "    </tr>\n",
       "    <tr>\n",
       "      <th>2013-07-17</th>\n",
       "      <td>2013</td>\n",
       "      <td>7</td>\n",
       "      <td>17</td>\n",
       "      <td>11.5</td>\n",
       "      <td>87.0425</td>\n",
       "      <td>66.2900</td>\n",
       "      <td>50.984167</td>\n",
       "      <td>222.500000</td>\n",
       "      <td>7.144426</td>\n",
       "      <td>8.221662</td>\n",
       "      <td>0.0</td>\n",
       "      <td>1020.970833</td>\n",
       "      <td>10.000000</td>\n",
       "      <td>30.579167</td>\n",
       "    </tr>\n",
       "  </tbody>\n",
       "</table>\n",
       "</div>"
      ],
      "text/plain": [
       "            year  month  day  hour     temp     dewp      humid    wind_dir  \\\n",
       "2013-07-19  2013      7   19  11.5  86.3375  75.9725  72.028750  192.916667   \n",
       "2013-07-18  2013      7   18  11.5  86.4350  71.7050  63.893333  236.086957   \n",
       "2013-07-20  2013      7   20  11.5  86.4425  71.9450  63.582500  236.956522   \n",
       "2013-07-16  2013      7   16  11.5  86.8700  65.9675  52.828333  238.333333   \n",
       "2013-07-17  2013      7   17  11.5  87.0425  66.2900  50.984167  222.500000   \n",
       "\n",
       "            wind_speed  wind_gust  precip     pressure      visib   temp_cel  \n",
       "2013-07-19   10.452918  12.029009     0.0  1013.420833   8.375000  30.187500  \n",
       "2013-07-18    9.637782  11.090967     0.0  1017.020833   9.666667  30.241667  \n",
       "2013-07-20   14.910106  17.158252     0.0  1008.926087   8.750000  30.245833  \n",
       "2013-07-16    9.541884  10.980609     0.0  1021.312500  10.000000  30.483333  \n",
       "2013-07-17    7.144426   8.221662     0.0  1020.970833  10.000000  30.579167  "
      ]
     },
     "execution_count": 774,
     "metadata": {},
     "output_type": "execute_result"
    }
   ],
   "source": [
    "#find 5 hottest\n",
    "mean_temp_jfk.sort_values(\"temp_cel\").tail(5)"
   ]
  },
  {
   "cell_type": "code",
   "execution_count": 775,
   "metadata": {},
   "outputs": [
    {
     "data": {
      "text/html": [
       "<div>\n",
       "<style scoped>\n",
       "    .dataframe tbody tr th:only-of-type {\n",
       "        vertical-align: middle;\n",
       "    }\n",
       "\n",
       "    .dataframe tbody tr th {\n",
       "        vertical-align: top;\n",
       "    }\n",
       "\n",
       "    .dataframe thead th {\n",
       "        text-align: right;\n",
       "    }\n",
       "</style>\n",
       "<table border=\"1\" class=\"dataframe\">\n",
       "  <thead>\n",
       "    <tr style=\"text-align: right;\">\n",
       "      <th></th>\n",
       "      <th>year</th>\n",
       "      <th>month</th>\n",
       "      <th>day</th>\n",
       "      <th>hour</th>\n",
       "      <th>temp</th>\n",
       "      <th>dewp</th>\n",
       "      <th>humid</th>\n",
       "      <th>wind_dir</th>\n",
       "      <th>wind_speed</th>\n",
       "      <th>wind_gust</th>\n",
       "      <th>precip</th>\n",
       "      <th>pressure</th>\n",
       "      <th>visib</th>\n",
       "      <th>temp_cel</th>\n",
       "    </tr>\n",
       "  </thead>\n",
       "  <tbody>\n",
       "    <tr>\n",
       "      <th>2013-07-17</th>\n",
       "      <td>2013</td>\n",
       "      <td>7</td>\n",
       "      <td>17</td>\n",
       "      <td>11.5</td>\n",
       "      <td>87.0425</td>\n",
       "      <td>66.2900</td>\n",
       "      <td>50.984167</td>\n",
       "      <td>222.500000</td>\n",
       "      <td>7.144426</td>\n",
       "      <td>8.221662</td>\n",
       "      <td>0.0</td>\n",
       "      <td>1020.970833</td>\n",
       "      <td>10.000000</td>\n",
       "      <td>30.579167</td>\n",
       "    </tr>\n",
       "    <tr>\n",
       "      <th>2013-07-16</th>\n",
       "      <td>2013</td>\n",
       "      <td>7</td>\n",
       "      <td>16</td>\n",
       "      <td>11.5</td>\n",
       "      <td>86.8700</td>\n",
       "      <td>65.9675</td>\n",
       "      <td>52.828333</td>\n",
       "      <td>238.333333</td>\n",
       "      <td>9.541884</td>\n",
       "      <td>10.980609</td>\n",
       "      <td>0.0</td>\n",
       "      <td>1021.312500</td>\n",
       "      <td>10.000000</td>\n",
       "      <td>30.483333</td>\n",
       "    </tr>\n",
       "    <tr>\n",
       "      <th>2013-07-20</th>\n",
       "      <td>2013</td>\n",
       "      <td>7</td>\n",
       "      <td>20</td>\n",
       "      <td>11.5</td>\n",
       "      <td>86.4425</td>\n",
       "      <td>71.9450</td>\n",
       "      <td>63.582500</td>\n",
       "      <td>236.956522</td>\n",
       "      <td>14.910106</td>\n",
       "      <td>17.158252</td>\n",
       "      <td>0.0</td>\n",
       "      <td>1008.926087</td>\n",
       "      <td>8.750000</td>\n",
       "      <td>30.245833</td>\n",
       "    </tr>\n",
       "    <tr>\n",
       "      <th>2013-07-18</th>\n",
       "      <td>2013</td>\n",
       "      <td>7</td>\n",
       "      <td>18</td>\n",
       "      <td>11.5</td>\n",
       "      <td>86.4350</td>\n",
       "      <td>71.7050</td>\n",
       "      <td>63.893333</td>\n",
       "      <td>236.086957</td>\n",
       "      <td>9.637782</td>\n",
       "      <td>11.090967</td>\n",
       "      <td>0.0</td>\n",
       "      <td>1017.020833</td>\n",
       "      <td>9.666667</td>\n",
       "      <td>30.241667</td>\n",
       "    </tr>\n",
       "    <tr>\n",
       "      <th>2013-07-19</th>\n",
       "      <td>2013</td>\n",
       "      <td>7</td>\n",
       "      <td>19</td>\n",
       "      <td>11.5</td>\n",
       "      <td>86.3375</td>\n",
       "      <td>75.9725</td>\n",
       "      <td>72.028750</td>\n",
       "      <td>192.916667</td>\n",
       "      <td>10.452918</td>\n",
       "      <td>12.029009</td>\n",
       "      <td>0.0</td>\n",
       "      <td>1013.420833</td>\n",
       "      <td>8.375000</td>\n",
       "      <td>30.187500</td>\n",
       "    </tr>\n",
       "  </tbody>\n",
       "</table>\n",
       "</div>"
      ],
      "text/plain": [
       "            year  month  day  hour     temp     dewp      humid    wind_dir  \\\n",
       "2013-07-17  2013      7   17  11.5  87.0425  66.2900  50.984167  222.500000   \n",
       "2013-07-16  2013      7   16  11.5  86.8700  65.9675  52.828333  238.333333   \n",
       "2013-07-20  2013      7   20  11.5  86.4425  71.9450  63.582500  236.956522   \n",
       "2013-07-18  2013      7   18  11.5  86.4350  71.7050  63.893333  236.086957   \n",
       "2013-07-19  2013      7   19  11.5  86.3375  75.9725  72.028750  192.916667   \n",
       "\n",
       "            wind_speed  wind_gust  precip     pressure      visib   temp_cel  \n",
       "2013-07-17    7.144426   8.221662     0.0  1020.970833  10.000000  30.579167  \n",
       "2013-07-16    9.541884  10.980609     0.0  1021.312500  10.000000  30.483333  \n",
       "2013-07-20   14.910106  17.158252     0.0  1008.926087   8.750000  30.245833  \n",
       "2013-07-18    9.637782  11.090967     0.0  1017.020833   9.666667  30.241667  \n",
       "2013-07-19   10.452918  12.029009     0.0  1013.420833   8.375000  30.187500  "
      ]
     },
     "execution_count": 775,
     "metadata": {},
     "output_type": "execute_result"
    }
   ],
   "source": [
    "mean_temp_jfk.nlargest(5,\"temp_cel\")"
   ]
  },
  {
   "cell_type": "markdown",
   "metadata": {},
   "source": [
    "# SQL Connectivity"
   ]
  },
  {
   "cell_type": "code",
   "execution_count": 778,
   "metadata": {},
   "outputs": [],
   "source": [
    "weather = pd.read_csv(\"http://www.gagolewski.com/resources/data/nycflights13_weather.csv.gz\",\n",
    "                          comment=\"#\")\n",
    "airlines = pd.read_csv(\"http://www.gagolewski.com/resources/data/nycflights13_airlines.csv.gz\",\n",
    "                          comment=\"#\")\n",
    "airports = pd.read_csv(\"http://www.gagolewski.com/resources/data/nycflights13_airports.csv.gz\",\n",
    "                          comment=\"#\")\n",
    "planes = pd.read_csv(\"http://www.gagolewski.com/resources/data/nycflights13_planes.csv.gz\",\n",
    "                          comment=\"#\")\n",
    "flights = pd.read_csv(\"http://www.gagolewski.com/resources/data/nycflights13_flights.csv.gz\",\n",
    "                          comment=\"#\")"
   ]
  },
  {
   "cell_type": "code",
   "execution_count": 777,
   "metadata": {},
   "outputs": [],
   "source": [
    "import sqlite3"
   ]
  },
  {
   "cell_type": "code",
   "execution_count": 779,
   "metadata": {},
   "outputs": [
    {
     "data": {
      "text/html": [
       "<div>\n",
       "<style scoped>\n",
       "    .dataframe tbody tr th:only-of-type {\n",
       "        vertical-align: middle;\n",
       "    }\n",
       "\n",
       "    .dataframe tbody tr th {\n",
       "        vertical-align: top;\n",
       "    }\n",
       "\n",
       "    .dataframe thead th {\n",
       "        text-align: right;\n",
       "    }\n",
       "</style>\n",
       "<table border=\"1\" class=\"dataframe\">\n",
       "  <thead>\n",
       "    <tr style=\"text-align: right;\">\n",
       "      <th></th>\n",
       "      <th>year</th>\n",
       "      <th>month</th>\n",
       "      <th>day</th>\n",
       "      <th>dep_time</th>\n",
       "      <th>sched_dep_time</th>\n",
       "      <th>dep_delay</th>\n",
       "      <th>arr_time</th>\n",
       "      <th>sched_arr_time</th>\n",
       "      <th>arr_delay</th>\n",
       "      <th>carrier</th>\n",
       "      <th>flight</th>\n",
       "      <th>tailnum</th>\n",
       "      <th>origin</th>\n",
       "      <th>dest</th>\n",
       "      <th>air_time</th>\n",
       "      <th>distance</th>\n",
       "      <th>hour</th>\n",
       "      <th>minute</th>\n",
       "      <th>time_hour</th>\n",
       "    </tr>\n",
       "  </thead>\n",
       "  <tbody>\n",
       "    <tr>\n",
       "      <th>0</th>\n",
       "      <td>2013</td>\n",
       "      <td>1</td>\n",
       "      <td>1</td>\n",
       "      <td>517.0</td>\n",
       "      <td>515</td>\n",
       "      <td>2.0</td>\n",
       "      <td>830.0</td>\n",
       "      <td>819</td>\n",
       "      <td>11.0</td>\n",
       "      <td>UA</td>\n",
       "      <td>1545</td>\n",
       "      <td>N14228</td>\n",
       "      <td>EWR</td>\n",
       "      <td>IAH</td>\n",
       "      <td>227.0</td>\n",
       "      <td>1400</td>\n",
       "      <td>5</td>\n",
       "      <td>15</td>\n",
       "      <td>2013-01-01 05:00:00</td>\n",
       "    </tr>\n",
       "  </tbody>\n",
       "</table>\n",
       "</div>"
      ],
      "text/plain": [
       "   year  month  day  dep_time  sched_dep_time  dep_delay  arr_time  \\\n",
       "0  2013      1    1     517.0             515        2.0     830.0   \n",
       "\n",
       "   sched_arr_time  arr_delay carrier  flight tailnum origin dest  air_time  \\\n",
       "0             819       11.0      UA    1545  N14228    EWR  IAH     227.0   \n",
       "\n",
       "   distance  hour  minute            time_hour  \n",
       "0      1400     5      15  2013-01-01 05:00:00  "
      ]
     },
     "execution_count": 779,
     "metadata": {},
     "output_type": "execute_result"
    }
   ],
   "source": [
    "flights.head(1)"
   ]
  },
  {
   "cell_type": "code",
   "execution_count": 780,
   "metadata": {},
   "outputs": [
    {
     "data": {
      "text/html": [
       "<div>\n",
       "<style scoped>\n",
       "    .dataframe tbody tr th:only-of-type {\n",
       "        vertical-align: middle;\n",
       "    }\n",
       "\n",
       "    .dataframe tbody tr th {\n",
       "        vertical-align: top;\n",
       "    }\n",
       "\n",
       "    .dataframe thead th {\n",
       "        text-align: right;\n",
       "    }\n",
       "</style>\n",
       "<table border=\"1\" class=\"dataframe\">\n",
       "  <thead>\n",
       "    <tr style=\"text-align: right;\">\n",
       "      <th></th>\n",
       "      <th>tailnum</th>\n",
       "      <th>year</th>\n",
       "      <th>type</th>\n",
       "      <th>manufacturer</th>\n",
       "      <th>model</th>\n",
       "      <th>engines</th>\n",
       "      <th>seats</th>\n",
       "      <th>speed</th>\n",
       "      <th>engine</th>\n",
       "    </tr>\n",
       "  </thead>\n",
       "  <tbody>\n",
       "    <tr>\n",
       "      <th>0</th>\n",
       "      <td>N10156</td>\n",
       "      <td>2004.0</td>\n",
       "      <td>Fixed wing multi engine</td>\n",
       "      <td>EMBRAER</td>\n",
       "      <td>EMB-145XR</td>\n",
       "      <td>2</td>\n",
       "      <td>55</td>\n",
       "      <td>NaN</td>\n",
       "      <td>Turbo-fan</td>\n",
       "    </tr>\n",
       "  </tbody>\n",
       "</table>\n",
       "</div>"
      ],
      "text/plain": [
       "  tailnum    year                     type manufacturer      model  engines  \\\n",
       "0  N10156  2004.0  Fixed wing multi engine      EMBRAER  EMB-145XR        2   \n",
       "\n",
       "   seats  speed     engine  \n",
       "0     55    NaN  Turbo-fan  "
      ]
     },
     "execution_count": 780,
     "metadata": {},
     "output_type": "execute_result"
    }
   ],
   "source": [
    "planes.head(1)"
   ]
  },
  {
   "cell_type": "code",
   "execution_count": 781,
   "metadata": {},
   "outputs": [
    {
     "data": {
      "text/html": [
       "<div>\n",
       "<style scoped>\n",
       "    .dataframe tbody tr th:only-of-type {\n",
       "        vertical-align: middle;\n",
       "    }\n",
       "\n",
       "    .dataframe tbody tr th {\n",
       "        vertical-align: top;\n",
       "    }\n",
       "\n",
       "    .dataframe thead th {\n",
       "        text-align: right;\n",
       "    }\n",
       "</style>\n",
       "<table border=\"1\" class=\"dataframe\">\n",
       "  <thead>\n",
       "    <tr style=\"text-align: right;\">\n",
       "      <th></th>\n",
       "      <th>carrier</th>\n",
       "      <th>name</th>\n",
       "    </tr>\n",
       "  </thead>\n",
       "  <tbody>\n",
       "    <tr>\n",
       "      <th>0</th>\n",
       "      <td>9E</td>\n",
       "      <td>Endeavor Air Inc.</td>\n",
       "    </tr>\n",
       "  </tbody>\n",
       "</table>\n",
       "</div>"
      ],
      "text/plain": [
       "  carrier               name\n",
       "0      9E  Endeavor Air Inc."
      ]
     },
     "execution_count": 781,
     "metadata": {},
     "output_type": "execute_result"
    }
   ],
   "source": [
    "airlines.head(1)"
   ]
  },
  {
   "cell_type": "code",
   "execution_count": 782,
   "metadata": {},
   "outputs": [
    {
     "data": {
      "text/html": [
       "<div>\n",
       "<style scoped>\n",
       "    .dataframe tbody tr th:only-of-type {\n",
       "        vertical-align: middle;\n",
       "    }\n",
       "\n",
       "    .dataframe tbody tr th {\n",
       "        vertical-align: top;\n",
       "    }\n",
       "\n",
       "    .dataframe thead th {\n",
       "        text-align: right;\n",
       "    }\n",
       "</style>\n",
       "<table border=\"1\" class=\"dataframe\">\n",
       "  <thead>\n",
       "    <tr style=\"text-align: right;\">\n",
       "      <th></th>\n",
       "      <th>faa</th>\n",
       "      <th>name</th>\n",
       "      <th>lat</th>\n",
       "      <th>lon</th>\n",
       "      <th>alt</th>\n",
       "      <th>tz</th>\n",
       "      <th>dst</th>\n",
       "      <th>tzone</th>\n",
       "    </tr>\n",
       "  </thead>\n",
       "  <tbody>\n",
       "    <tr>\n",
       "      <th>0</th>\n",
       "      <td>04G</td>\n",
       "      <td>Lansdowne Airport</td>\n",
       "      <td>41.130472</td>\n",
       "      <td>-80.619583</td>\n",
       "      <td>1044</td>\n",
       "      <td>-5</td>\n",
       "      <td>A</td>\n",
       "      <td>America/New_York</td>\n",
       "    </tr>\n",
       "  </tbody>\n",
       "</table>\n",
       "</div>"
      ],
      "text/plain": [
       "   faa               name        lat        lon   alt  tz dst  \\\n",
       "0  04G  Lansdowne Airport  41.130472 -80.619583  1044  -5   A   \n",
       "\n",
       "              tzone  \n",
       "0  America/New_York  "
      ]
     },
     "execution_count": 782,
     "metadata": {},
     "output_type": "execute_result"
    }
   ],
   "source": [
    "airports.head(1)"
   ]
  },
  {
   "cell_type": "code",
   "execution_count": 783,
   "metadata": {},
   "outputs": [
    {
     "data": {
      "text/html": [
       "<div>\n",
       "<style scoped>\n",
       "    .dataframe tbody tr th:only-of-type {\n",
       "        vertical-align: middle;\n",
       "    }\n",
       "\n",
       "    .dataframe tbody tr th {\n",
       "        vertical-align: top;\n",
       "    }\n",
       "\n",
       "    .dataframe thead th {\n",
       "        text-align: right;\n",
       "    }\n",
       "</style>\n",
       "<table border=\"1\" class=\"dataframe\">\n",
       "  <thead>\n",
       "    <tr style=\"text-align: right;\">\n",
       "      <th></th>\n",
       "      <th>origin</th>\n",
       "      <th>year</th>\n",
       "      <th>month</th>\n",
       "      <th>day</th>\n",
       "      <th>hour</th>\n",
       "      <th>temp</th>\n",
       "      <th>dewp</th>\n",
       "      <th>humid</th>\n",
       "      <th>wind_dir</th>\n",
       "      <th>wind_speed</th>\n",
       "      <th>wind_gust</th>\n",
       "      <th>precip</th>\n",
       "      <th>pressure</th>\n",
       "      <th>visib</th>\n",
       "      <th>time_hour</th>\n",
       "    </tr>\n",
       "  </thead>\n",
       "  <tbody>\n",
       "    <tr>\n",
       "      <th>0</th>\n",
       "      <td>EWR</td>\n",
       "      <td>2013</td>\n",
       "      <td>1</td>\n",
       "      <td>1</td>\n",
       "      <td>0</td>\n",
       "      <td>37.04</td>\n",
       "      <td>21.92</td>\n",
       "      <td>53.97</td>\n",
       "      <td>230.0</td>\n",
       "      <td>10.35702</td>\n",
       "      <td>11.918651</td>\n",
       "      <td>0.0</td>\n",
       "      <td>1013.9</td>\n",
       "      <td>10.0</td>\n",
       "      <td>2013-01-01 01:00:00</td>\n",
       "    </tr>\n",
       "  </tbody>\n",
       "</table>\n",
       "</div>"
      ],
      "text/plain": [
       "  origin  year  month  day  hour   temp   dewp  humid  wind_dir  wind_speed  \\\n",
       "0    EWR  2013      1    1     0  37.04  21.92  53.97     230.0    10.35702   \n",
       "\n",
       "   wind_gust  precip  pressure  visib            time_hour  \n",
       "0  11.918651     0.0    1013.9   10.0  2013-01-01 01:00:00  "
      ]
     },
     "execution_count": 783,
     "metadata": {},
     "output_type": "execute_result"
    }
   ],
   "source": [
    "weather.head(1)"
   ]
  },
  {
   "cell_type": "code",
   "execution_count": 813,
   "metadata": {},
   "outputs": [],
   "source": [
    "conn = sqlite3.connect(\"/tmp/nycflights15.db\")"
   ]
  },
  {
   "cell_type": "code",
   "execution_count": 788,
   "metadata": {},
   "outputs": [
    {
     "ename": "OperationalError",
     "evalue": "table airlines already exists",
     "output_type": "error",
     "traceback": [
      "\u001b[0;31m---------------------------------------------------------------------------\u001b[0m",
      "\u001b[0;31mOperationalError\u001b[0m                          Traceback (most recent call last)",
      "\u001b[0;32m<ipython-input-788-924fcb35ece9>\u001b[0m in \u001b[0;36m<module>\u001b[0;34m()\u001b[0m\n\u001b[1;32m      4\u001b[0m      \u001b[0mname\u001b[0m \u001b[0mVARCHAR\u001b[0m\u001b[0;34m(\u001b[0m\u001b[0;36m64\u001b[0m\u001b[0;34m)\u001b[0m\u001b[0;34m\u001b[0m\u001b[0m\n\u001b[1;32m      5\u001b[0m     )   \n\u001b[0;32m----> 6\u001b[0;31m \"\"\")\n\u001b[0m\u001b[1;32m      7\u001b[0m \u001b[0;34m\u001b[0m\u001b[0m\n\u001b[1;32m      8\u001b[0m \u001b[0mconn\u001b[0m\u001b[0;34m.\u001b[0m\u001b[0mcommit\u001b[0m\u001b[0;34m(\u001b[0m\u001b[0;34m)\u001b[0m\u001b[0;34m\u001b[0m\u001b[0m\n",
      "\u001b[0;31mOperationalError\u001b[0m: table airlines already exists"
     ]
    }
   ],
   "source": [
    "conn.execute(\"\"\"\n",
    "    CREATE TABLE airlines(\n",
    "     carrier CHAR(2) PRIMARY KEY,\n",
    "     name VARCHAR(64)\n",
    "    )   \n",
    "\"\"\")\n",
    "\n",
    "conn.commit()\n"
   ]
  },
  {
   "cell_type": "code",
   "execution_count": 814,
   "metadata": {},
   "outputs": [],
   "source": [
    "airlines.to_sql(\"airlines\", conn)\n",
    "conn.commit()"
   ]
  },
  {
   "cell_type": "code",
   "execution_count": 818,
   "metadata": {},
   "outputs": [],
   "source": [
    "cur = conn.execute(\"\"\"\n",
    "    Select  * from airlines\n",
    "\"\"\")\n"
   ]
  },
  {
   "cell_type": "code",
   "execution_count": 819,
   "metadata": {},
   "outputs": [],
   "source": [
    "x = cur.fetchall()\n"
   ]
  },
  {
   "cell_type": "code",
   "execution_count": 821,
   "metadata": {},
   "outputs": [
    {
     "data": {
      "text/html": [
       "<div>\n",
       "<style scoped>\n",
       "    .dataframe tbody tr th:only-of-type {\n",
       "        vertical-align: middle;\n",
       "    }\n",
       "\n",
       "    .dataframe tbody tr th {\n",
       "        vertical-align: top;\n",
       "    }\n",
       "\n",
       "    .dataframe thead th {\n",
       "        text-align: right;\n",
       "    }\n",
       "</style>\n",
       "<table border=\"1\" class=\"dataframe\">\n",
       "  <thead>\n",
       "    <tr style=\"text-align: right;\">\n",
       "      <th></th>\n",
       "      <th>index</th>\n",
       "      <th>carrier</th>\n",
       "      <th>name</th>\n",
       "    </tr>\n",
       "  </thead>\n",
       "  <tbody>\n",
       "    <tr>\n",
       "      <th>0</th>\n",
       "      <td>1</td>\n",
       "      <td>AA</td>\n",
       "      <td>American Airlines Inc.</td>\n",
       "    </tr>\n",
       "    <tr>\n",
       "      <th>1</th>\n",
       "      <td>13</td>\n",
       "      <td>VX</td>\n",
       "      <td>Virgin America</td>\n",
       "    </tr>\n",
       "  </tbody>\n",
       "</table>\n",
       "</div>"
      ],
      "text/plain": [
       "   index carrier                    name\n",
       "0      1      AA  American Airlines Inc.\n",
       "1     13      VX          Virgin America"
      ]
     },
     "execution_count": 821,
     "metadata": {},
     "output_type": "execute_result"
    }
   ],
   "source": [
    "pd.read_sql_query(\"select * from airlines where name like '%america%'\", conn)"
   ]
  },
  {
   "cell_type": "code",
   "execution_count": 826,
   "metadata": {},
   "outputs": [
    {
     "ename": "FileNotFoundError",
     "evalue": "[Errno 2] No such file or directory: '/tmp/nycflights15.db'",
     "output_type": "error",
     "traceback": [
      "\u001b[0;31m---------------------------------------------------------------------------\u001b[0m",
      "\u001b[0;31mFileNotFoundError\u001b[0m                         Traceback (most recent call last)",
      "\u001b[0;32m<ipython-input-826-c73772a7aa58>\u001b[0m in \u001b[0;36m<module>\u001b[0;34m()\u001b[0m\n\u001b[1;32m      1\u001b[0m \u001b[0;32mimport\u001b[0m \u001b[0mos\u001b[0m\u001b[0;34m\u001b[0m\u001b[0m\n\u001b[1;32m      2\u001b[0m \u001b[0;31m# os.remove(\"/tmp/nycflights13.db\")\u001b[0m\u001b[0;34m\u001b[0m\u001b[0;34m\u001b[0m\u001b[0m\n\u001b[0;32m----> 3\u001b[0;31m \u001b[0mos\u001b[0m\u001b[0;34m.\u001b[0m\u001b[0mremove\u001b[0m\u001b[0;34m(\u001b[0m\u001b[0;34m\"/tmp/nycflights15.db\"\u001b[0m\u001b[0;34m)\u001b[0m\u001b[0;34m\u001b[0m\u001b[0m\n\u001b[0m",
      "\u001b[0;31mFileNotFoundError\u001b[0m: [Errno 2] No such file or directory: '/tmp/nycflights15.db'"
     ]
    }
   ],
   "source": [
    "import os\n",
    "os.remove(\"/tmp/nycflights13.db\")\n",
    "os.remove(\"/tmp/nycflights15.db\")"
   ]
  },
  {
   "cell_type": "code",
   "execution_count": 827,
   "metadata": {},
   "outputs": [],
   "source": [
    "conn = sqlite3.connect(\"/tmp/nycflights15.db\")"
   ]
  },
  {
   "cell_type": "code",
   "execution_count": 828,
   "metadata": {},
   "outputs": [],
   "source": [
    "weather.to_sql(\"weather\", conn)\n",
    "planes.to_sql(\"planes\", conn)\n",
    "airports.to_sql(\"airports\", conn)\n",
    "airlines.to_sql(\"airlines\", conn)\n",
    "flights.to_sql(\"flights\", conn)"
   ]
  },
  {
   "cell_type": "code",
   "execution_count": 830,
   "metadata": {},
   "outputs": [],
   "source": [
    "# pd.read_sql_query(\"\"\"\n",
    "# SELECT DISTINCT engine FROM planes\n",
    "# \"\"\",conn)\n",
    "\n",
    "# pd.read_sql_query(\"\"\"\n",
    "# SELECT DISTINCT type, engine FROM planes\n",
    "# \"\"\",conn)\n",
    "\n",
    "# pd.read_sql_query(\"\"\"\n",
    "# SELECT COUNT(*), engine FROM planes GROUP BY engine\n",
    "# \"\"\",conn)\n",
    "\n",
    "# pd.read_sql_query(\"\"\"\n",
    "# SELECT COUNT(*), engine, type FROM planes GROUP BY engine, type\n",
    "# \"\"\",conn)\n",
    "\n",
    "# pd.read_sql_query(\"\"\"\n",
    "# SELECT MIN(year), AVG(year), MAX(year), engine, manufacturer FROM planes GROUP BY engine, manufacturer\n",
    "# \"\"\",conn)\n",
    "\n"
   ]
  },
  {
   "cell_type": "code",
   "execution_count": 891,
   "metadata": {},
   "outputs": [
    {
     "data": {
      "text/html": [
       "<div>\n",
       "<style scoped>\n",
       "    .dataframe tbody tr th:only-of-type {\n",
       "        vertical-align: middle;\n",
       "    }\n",
       "\n",
       "    .dataframe tbody tr th {\n",
       "        vertical-align: top;\n",
       "    }\n",
       "\n",
       "    .dataframe thead th {\n",
       "        text-align: right;\n",
       "    }\n",
       "</style>\n",
       "<table border=\"1\" class=\"dataframe\">\n",
       "  <thead>\n",
       "    <tr style=\"text-align: right;\">\n",
       "      <th></th>\n",
       "      <th>engine</th>\n",
       "    </tr>\n",
       "  </thead>\n",
       "  <tbody>\n",
       "    <tr>\n",
       "      <th>0</th>\n",
       "      <td>Turbo-fan</td>\n",
       "    </tr>\n",
       "    <tr>\n",
       "      <th>1</th>\n",
       "      <td>Turbo-jet</td>\n",
       "    </tr>\n",
       "    <tr>\n",
       "      <th>2</th>\n",
       "      <td>Reciprocating</td>\n",
       "    </tr>\n",
       "    <tr>\n",
       "      <th>3</th>\n",
       "      <td>4 Cycle</td>\n",
       "    </tr>\n",
       "    <tr>\n",
       "      <th>4</th>\n",
       "      <td>Turbo-shaft</td>\n",
       "    </tr>\n",
       "    <tr>\n",
       "      <th>5</th>\n",
       "      <td>Turbo-prop</td>\n",
       "    </tr>\n",
       "  </tbody>\n",
       "</table>\n",
       "</div>"
      ],
      "text/plain": [
       "          engine\n",
       "0      Turbo-fan\n",
       "1      Turbo-jet\n",
       "2  Reciprocating\n",
       "3        4 Cycle\n",
       "4    Turbo-shaft\n",
       "5     Turbo-prop"
      ]
     },
     "execution_count": 891,
     "metadata": {},
     "output_type": "execute_result"
    }
   ],
   "source": [
    "# pd.read_sql_query(\"\"\"\n",
    "# SELECT DISTINCT engine FROM planes\n",
    "# \"\"\",conn)\n",
    "\n",
    "pd.DataFrame(planes[\"engine\"].unique(), columns=[\"engine\"])"
   ]
  },
  {
   "cell_type": "code",
   "execution_count": 894,
   "metadata": {},
   "outputs": [
    {
     "data": {
      "text/html": [
       "<div>\n",
       "<style scoped>\n",
       "    .dataframe tbody tr th:only-of-type {\n",
       "        vertical-align: middle;\n",
       "    }\n",
       "\n",
       "    .dataframe tbody tr th {\n",
       "        vertical-align: top;\n",
       "    }\n",
       "\n",
       "    .dataframe thead th {\n",
       "        text-align: right;\n",
       "    }\n",
       "</style>\n",
       "<table border=\"1\" class=\"dataframe\">\n",
       "  <thead>\n",
       "    <tr style=\"text-align: right;\">\n",
       "      <th></th>\n",
       "      <th>engine</th>\n",
       "    </tr>\n",
       "  </thead>\n",
       "  <tbody>\n",
       "    <tr>\n",
       "      <th>0</th>\n",
       "      <td>Turbo-fan</td>\n",
       "    </tr>\n",
       "    <tr>\n",
       "      <th>1</th>\n",
       "      <td>Turbo-jet</td>\n",
       "    </tr>\n",
       "    <tr>\n",
       "      <th>2</th>\n",
       "      <td>Reciprocating</td>\n",
       "    </tr>\n",
       "    <tr>\n",
       "      <th>3</th>\n",
       "      <td>4 Cycle</td>\n",
       "    </tr>\n",
       "    <tr>\n",
       "      <th>4</th>\n",
       "      <td>Turbo-shaft</td>\n",
       "    </tr>\n",
       "    <tr>\n",
       "      <th>5</th>\n",
       "      <td>Turbo-prop</td>\n",
       "    </tr>\n",
       "  </tbody>\n",
       "</table>\n",
       "</div>"
      ],
      "text/plain": [
       "          engine\n",
       "0      Turbo-fan\n",
       "1      Turbo-jet\n",
       "2  Reciprocating\n",
       "3        4 Cycle\n",
       "4    Turbo-shaft\n",
       "5     Turbo-prop"
      ]
     },
     "execution_count": 894,
     "metadata": {},
     "output_type": "execute_result"
    }
   ],
   "source": [
    "planes.loc[:,[\"engine\"]].drop_duplicates().reset_index(drop=True)"
   ]
  },
  {
   "cell_type": "code",
   "execution_count": 863,
   "metadata": {},
   "outputs": [
    {
     "data": {
      "text/html": [
       "<div>\n",
       "<style scoped>\n",
       "    .dataframe tbody tr th:only-of-type {\n",
       "        vertical-align: middle;\n",
       "    }\n",
       "\n",
       "    .dataframe tbody tr th {\n",
       "        vertical-align: top;\n",
       "    }\n",
       "\n",
       "    .dataframe thead th {\n",
       "        text-align: right;\n",
       "    }\n",
       "</style>\n",
       "<table border=\"1\" class=\"dataframe\">\n",
       "  <thead>\n",
       "    <tr style=\"text-align: right;\">\n",
       "      <th></th>\n",
       "      <th>type</th>\n",
       "      <th>engine</th>\n",
       "    </tr>\n",
       "  </thead>\n",
       "  <tbody>\n",
       "    <tr>\n",
       "      <th>0</th>\n",
       "      <td>Fixed wing multi engine</td>\n",
       "      <td>Turbo-fan</td>\n",
       "    </tr>\n",
       "    <tr>\n",
       "      <th>1</th>\n",
       "      <td>Fixed wing multi engine</td>\n",
       "      <td>Turbo-jet</td>\n",
       "    </tr>\n",
       "    <tr>\n",
       "      <th>2</th>\n",
       "      <td>Fixed wing single engine</td>\n",
       "      <td>Reciprocating</td>\n",
       "    </tr>\n",
       "    <tr>\n",
       "      <th>3</th>\n",
       "      <td>Fixed wing multi engine</td>\n",
       "      <td>Reciprocating</td>\n",
       "    </tr>\n",
       "    <tr>\n",
       "      <th>4</th>\n",
       "      <td>Fixed wing single engine</td>\n",
       "      <td>4 Cycle</td>\n",
       "    </tr>\n",
       "    <tr>\n",
       "      <th>5</th>\n",
       "      <td>Rotorcraft</td>\n",
       "      <td>Turbo-shaft</td>\n",
       "    </tr>\n",
       "    <tr>\n",
       "      <th>6</th>\n",
       "      <td>Fixed wing multi engine</td>\n",
       "      <td>Turbo-prop</td>\n",
       "    </tr>\n",
       "  </tbody>\n",
       "</table>\n",
       "</div>"
      ],
      "text/plain": [
       "                       type         engine\n",
       "0   Fixed wing multi engine      Turbo-fan\n",
       "1   Fixed wing multi engine      Turbo-jet\n",
       "2  Fixed wing single engine  Reciprocating\n",
       "3   Fixed wing multi engine  Reciprocating\n",
       "4  Fixed wing single engine        4 Cycle\n",
       "5                Rotorcraft    Turbo-shaft\n",
       "6   Fixed wing multi engine     Turbo-prop"
      ]
     },
     "execution_count": 863,
     "metadata": {},
     "output_type": "execute_result"
    }
   ],
   "source": [
    "pd.read_sql_query(\"\"\"\n",
    "SELECT DISTINCT type, engine FROM planes\n",
    "\"\"\",conn)"
   ]
  },
  {
   "cell_type": "code",
   "execution_count": 882,
   "metadata": {},
   "outputs": [
    {
     "data": {
      "text/plain": [
       "array(['Fixed wing multi engine-Turbo-fan',\n",
       "       'Fixed wing multi engine-Turbo-jet',\n",
       "       'Fixed wing single engine-Reciprocating',\n",
       "       'Fixed wing multi engine-Reciprocating',\n",
       "       'Fixed wing single engine-4 Cycle', 'Rotorcraft-Turbo-shaft',\n",
       "       'Fixed wing multi engine-Turbo-prop'], dtype=object)"
      ]
     },
     "execution_count": 882,
     "metadata": {},
     "output_type": "execute_result"
    }
   ],
   "source": [
    "# pd.read_sql_query(\"\"\"\n",
    "# SELECT DISTINCT type, engine FROM planes\n",
    "# \"\"\",conn)\n",
    "\n",
    "planes2 = planes[\"type\"] + \"-\" + planes[\"engine\"]\n",
    "planes2.unique()"
   ]
  },
  {
   "cell_type": "code",
   "execution_count": 896,
   "metadata": {},
   "outputs": [
    {
     "data": {
      "text/html": [
       "<div>\n",
       "<style scoped>\n",
       "    .dataframe tbody tr th:only-of-type {\n",
       "        vertical-align: middle;\n",
       "    }\n",
       "\n",
       "    .dataframe tbody tr th {\n",
       "        vertical-align: top;\n",
       "    }\n",
       "\n",
       "    .dataframe thead th {\n",
       "        text-align: right;\n",
       "    }\n",
       "</style>\n",
       "<table border=\"1\" class=\"dataframe\">\n",
       "  <thead>\n",
       "    <tr style=\"text-align: right;\">\n",
       "      <th></th>\n",
       "      <th>engine</th>\n",
       "      <th>type</th>\n",
       "    </tr>\n",
       "  </thead>\n",
       "  <tbody>\n",
       "    <tr>\n",
       "      <th>0</th>\n",
       "      <td>Turbo-fan</td>\n",
       "      <td>Fixed wing multi engine</td>\n",
       "    </tr>\n",
       "    <tr>\n",
       "      <th>1</th>\n",
       "      <td>Turbo-jet</td>\n",
       "      <td>Fixed wing multi engine</td>\n",
       "    </tr>\n",
       "    <tr>\n",
       "      <th>2</th>\n",
       "      <td>Reciprocating</td>\n",
       "      <td>Fixed wing single engine</td>\n",
       "    </tr>\n",
       "    <tr>\n",
       "      <th>3</th>\n",
       "      <td>Reciprocating</td>\n",
       "      <td>Fixed wing multi engine</td>\n",
       "    </tr>\n",
       "    <tr>\n",
       "      <th>4</th>\n",
       "      <td>4 Cycle</td>\n",
       "      <td>Fixed wing single engine</td>\n",
       "    </tr>\n",
       "    <tr>\n",
       "      <th>5</th>\n",
       "      <td>Turbo-shaft</td>\n",
       "      <td>Rotorcraft</td>\n",
       "    </tr>\n",
       "    <tr>\n",
       "      <th>6</th>\n",
       "      <td>Turbo-prop</td>\n",
       "      <td>Fixed wing multi engine</td>\n",
       "    </tr>\n",
       "  </tbody>\n",
       "</table>\n",
       "</div>"
      ],
      "text/plain": [
       "          engine                      type\n",
       "0      Turbo-fan   Fixed wing multi engine\n",
       "1      Turbo-jet   Fixed wing multi engine\n",
       "2  Reciprocating  Fixed wing single engine\n",
       "3  Reciprocating   Fixed wing multi engine\n",
       "4        4 Cycle  Fixed wing single engine\n",
       "5    Turbo-shaft                Rotorcraft\n",
       "6     Turbo-prop   Fixed wing multi engine"
      ]
     },
     "execution_count": 896,
     "metadata": {},
     "output_type": "execute_result"
    }
   ],
   "source": [
    "planes.loc[:,[\"engine\",\"type\"]].drop_duplicates().reset_index(drop=True)"
   ]
  },
  {
   "cell_type": "code",
   "execution_count": 908,
   "metadata": {},
   "outputs": [
    {
     "data": {
      "text/html": [
       "<div>\n",
       "<style scoped>\n",
       "    .dataframe tbody tr th:only-of-type {\n",
       "        vertical-align: middle;\n",
       "    }\n",
       "\n",
       "    .dataframe tbody tr th {\n",
       "        vertical-align: top;\n",
       "    }\n",
       "\n",
       "    .dataframe thead th {\n",
       "        text-align: right;\n",
       "    }\n",
       "</style>\n",
       "<table border=\"1\" class=\"dataframe\">\n",
       "  <thead>\n",
       "    <tr style=\"text-align: right;\">\n",
       "      <th></th>\n",
       "      <th>engine</th>\n",
       "      <th>count (*)</th>\n",
       "    </tr>\n",
       "  </thead>\n",
       "  <tbody>\n",
       "    <tr>\n",
       "      <th>0</th>\n",
       "      <td>4 Cycle</td>\n",
       "      <td>2</td>\n",
       "    </tr>\n",
       "    <tr>\n",
       "      <th>1</th>\n",
       "      <td>Reciprocating</td>\n",
       "      <td>28</td>\n",
       "    </tr>\n",
       "    <tr>\n",
       "      <th>2</th>\n",
       "      <td>Turbo-fan</td>\n",
       "      <td>2750</td>\n",
       "    </tr>\n",
       "    <tr>\n",
       "      <th>3</th>\n",
       "      <td>Turbo-jet</td>\n",
       "      <td>535</td>\n",
       "    </tr>\n",
       "    <tr>\n",
       "      <th>4</th>\n",
       "      <td>Turbo-prop</td>\n",
       "      <td>2</td>\n",
       "    </tr>\n",
       "    <tr>\n",
       "      <th>5</th>\n",
       "      <td>Turbo-shaft</td>\n",
       "      <td>5</td>\n",
       "    </tr>\n",
       "  </tbody>\n",
       "</table>\n",
       "</div>"
      ],
      "text/plain": [
       "          engine  count (*)\n",
       "0        4 Cycle          2\n",
       "1  Reciprocating         28\n",
       "2      Turbo-fan       2750\n",
       "3      Turbo-jet        535\n",
       "4     Turbo-prop          2\n",
       "5    Turbo-shaft          5"
      ]
     },
     "execution_count": 908,
     "metadata": {},
     "output_type": "execute_result"
    }
   ],
   "source": [
    "# pd.read_sql_query(\"\"\"\n",
    "# SELECT COUNT(*), engine FROM planes GROUP BY engine\n",
    "# \"\"\",connb)\n",
    "\n",
    "planes.groupby('engine').size().rename(\"count (*)\").reset_index()  #Not count - it counts missing values"
   ]
  },
  {
   "cell_type": "code",
   "execution_count": 903,
   "metadata": {},
   "outputs": [
    {
     "data": {
      "text/html": [
       "<div>\n",
       "<style scoped>\n",
       "    .dataframe tbody tr th:only-of-type {\n",
       "        vertical-align: middle;\n",
       "    }\n",
       "\n",
       "    .dataframe tbody tr th {\n",
       "        vertical-align: top;\n",
       "    }\n",
       "\n",
       "    .dataframe thead th {\n",
       "        text-align: right;\n",
       "    }\n",
       "</style>\n",
       "<table border=\"1\" class=\"dataframe\">\n",
       "  <thead>\n",
       "    <tr style=\"text-align: right;\">\n",
       "      <th></th>\n",
       "      <th>engine</th>\n",
       "      <th>type</th>\n",
       "      <th>count (*)</th>\n",
       "    </tr>\n",
       "  </thead>\n",
       "  <tbody>\n",
       "    <tr>\n",
       "      <th>0</th>\n",
       "      <td>4 Cycle</td>\n",
       "      <td>Fixed wing single engine</td>\n",
       "      <td>2</td>\n",
       "    </tr>\n",
       "    <tr>\n",
       "      <th>1</th>\n",
       "      <td>Reciprocating</td>\n",
       "      <td>Fixed wing multi engine</td>\n",
       "      <td>5</td>\n",
       "    </tr>\n",
       "    <tr>\n",
       "      <th>2</th>\n",
       "      <td>Reciprocating</td>\n",
       "      <td>Fixed wing single engine</td>\n",
       "      <td>23</td>\n",
       "    </tr>\n",
       "    <tr>\n",
       "      <th>3</th>\n",
       "      <td>Turbo-fan</td>\n",
       "      <td>Fixed wing multi engine</td>\n",
       "      <td>2750</td>\n",
       "    </tr>\n",
       "    <tr>\n",
       "      <th>4</th>\n",
       "      <td>Turbo-jet</td>\n",
       "      <td>Fixed wing multi engine</td>\n",
       "      <td>535</td>\n",
       "    </tr>\n",
       "    <tr>\n",
       "      <th>5</th>\n",
       "      <td>Turbo-prop</td>\n",
       "      <td>Fixed wing multi engine</td>\n",
       "      <td>2</td>\n",
       "    </tr>\n",
       "    <tr>\n",
       "      <th>6</th>\n",
       "      <td>Turbo-shaft</td>\n",
       "      <td>Rotorcraft</td>\n",
       "      <td>5</td>\n",
       "    </tr>\n",
       "  </tbody>\n",
       "</table>\n",
       "</div>"
      ],
      "text/plain": [
       "          engine                      type  count (*)\n",
       "0        4 Cycle  Fixed wing single engine          2\n",
       "1  Reciprocating   Fixed wing multi engine          5\n",
       "2  Reciprocating  Fixed wing single engine         23\n",
       "3      Turbo-fan   Fixed wing multi engine       2750\n",
       "4      Turbo-jet   Fixed wing multi engine        535\n",
       "5     Turbo-prop   Fixed wing multi engine          2\n",
       "6    Turbo-shaft                Rotorcraft          5"
      ]
     },
     "execution_count": 903,
     "metadata": {},
     "output_type": "execute_result"
    }
   ],
   "source": [
    "# pd.read_sql_query(\"\"\"\n",
    "# SELECT COUNT(*), engine, type FROM planes GROUP BY engine, type\n",
    "# \"\"\",conn)\n",
    "\n",
    "\n",
    "planes.groupby(['engine','type']).size().rename(\"count (*)\").reset_index() #rename the series before resetting the column index\n"
   ]
  },
  {
   "cell_type": "code",
   "execution_count": 911,
   "metadata": {},
   "outputs": [
    {
     "name": "stderr",
     "output_type": "stream",
     "text": [
      "/Users/kprakash/.pyenv/versions/3.6.5/Python.framework/Versions/3.6/lib/python3.6/site-packages/ipykernel_launcher.py:5: FutureWarning: using a dict on a Series for aggregation\n",
      "is deprecated and will be removed in a future version\n",
      "  \"\"\"\n"
     ]
    },
    {
     "data": {
      "text/html": [
       "<div>\n",
       "<style scoped>\n",
       "    .dataframe tbody tr th:only-of-type {\n",
       "        vertical-align: middle;\n",
       "    }\n",
       "\n",
       "    .dataframe tbody tr th {\n",
       "        vertical-align: top;\n",
       "    }\n",
       "\n",
       "    .dataframe thead th {\n",
       "        text-align: right;\n",
       "    }\n",
       "</style>\n",
       "<table border=\"1\" class=\"dataframe\">\n",
       "  <thead>\n",
       "    <tr style=\"text-align: right;\">\n",
       "      <th></th>\n",
       "      <th>engine</th>\n",
       "      <th>manufacturer</th>\n",
       "      <th>min</th>\n",
       "      <th>avg</th>\n",
       "      <th>max</th>\n",
       "    </tr>\n",
       "  </thead>\n",
       "  <tbody>\n",
       "    <tr>\n",
       "      <th>0</th>\n",
       "      <td>4 Cycle</td>\n",
       "      <td>CESSNA</td>\n",
       "      <td>1975.0</td>\n",
       "      <td>1975.000000</td>\n",
       "      <td>1975.0</td>\n",
       "    </tr>\n",
       "    <tr>\n",
       "      <th>1</th>\n",
       "      <td>4 Cycle</td>\n",
       "      <td>JOHN G HESS</td>\n",
       "      <td>NaN</td>\n",
       "      <td>NaN</td>\n",
       "      <td>NaN</td>\n",
       "    </tr>\n",
       "    <tr>\n",
       "      <th>2</th>\n",
       "      <td>Reciprocating</td>\n",
       "      <td>AMERICAN AIRCRAFT INC</td>\n",
       "      <td>NaN</td>\n",
       "      <td>NaN</td>\n",
       "      <td>NaN</td>\n",
       "    </tr>\n",
       "    <tr>\n",
       "      <th>3</th>\n",
       "      <td>Reciprocating</td>\n",
       "      <td>AVIAT AIRCRAFT INC</td>\n",
       "      <td>2007.0</td>\n",
       "      <td>2007.000000</td>\n",
       "      <td>2007.0</td>\n",
       "    </tr>\n",
       "    <tr>\n",
       "      <th>4</th>\n",
       "      <td>Reciprocating</td>\n",
       "      <td>BARKER JACK L</td>\n",
       "      <td>NaN</td>\n",
       "      <td>NaN</td>\n",
       "      <td>NaN</td>\n",
       "    </tr>\n",
       "    <tr>\n",
       "      <th>5</th>\n",
       "      <td>Reciprocating</td>\n",
       "      <td>CESSNA</td>\n",
       "      <td>1959.0</td>\n",
       "      <td>1971.142857</td>\n",
       "      <td>1983.0</td>\n",
       "    </tr>\n",
       "    <tr>\n",
       "      <th>6</th>\n",
       "      <td>Reciprocating</td>\n",
       "      <td>CIRRUS DESIGN CORP</td>\n",
       "      <td>2007.0</td>\n",
       "      <td>2007.000000</td>\n",
       "      <td>2007.0</td>\n",
       "    </tr>\n",
       "    <tr>\n",
       "      <th>7</th>\n",
       "      <td>Reciprocating</td>\n",
       "      <td>DEHAVILLAND</td>\n",
       "      <td>1959.0</td>\n",
       "      <td>1959.000000</td>\n",
       "      <td>1959.0</td>\n",
       "    </tr>\n",
       "    <tr>\n",
       "      <th>8</th>\n",
       "      <td>Reciprocating</td>\n",
       "      <td>DOUGLAS</td>\n",
       "      <td>1956.0</td>\n",
       "      <td>1956.000000</td>\n",
       "      <td>1956.0</td>\n",
       "    </tr>\n",
       "    <tr>\n",
       "      <th>9</th>\n",
       "      <td>Reciprocating</td>\n",
       "      <td>FRIEDEMANN JON</td>\n",
       "      <td>2007.0</td>\n",
       "      <td>2007.000000</td>\n",
       "      <td>2007.0</td>\n",
       "    </tr>\n",
       "    <tr>\n",
       "      <th>10</th>\n",
       "      <td>Reciprocating</td>\n",
       "      <td>HURLEY JAMES LARRY</td>\n",
       "      <td>NaN</td>\n",
       "      <td>NaN</td>\n",
       "      <td>NaN</td>\n",
       "    </tr>\n",
       "    <tr>\n",
       "      <th>11</th>\n",
       "      <td>Reciprocating</td>\n",
       "      <td>KILDALL GARY</td>\n",
       "      <td>1985.0</td>\n",
       "      <td>1985.000000</td>\n",
       "      <td>1985.0</td>\n",
       "    </tr>\n",
       "    <tr>\n",
       "      <th>12</th>\n",
       "      <td>Reciprocating</td>\n",
       "      <td>LAMBERT RICHARD</td>\n",
       "      <td>NaN</td>\n",
       "      <td>NaN</td>\n",
       "      <td>NaN</td>\n",
       "    </tr>\n",
       "    <tr>\n",
       "      <th>13</th>\n",
       "      <td>Reciprocating</td>\n",
       "      <td>LEBLANC GLENN T</td>\n",
       "      <td>1985.0</td>\n",
       "      <td>1985.000000</td>\n",
       "      <td>1985.0</td>\n",
       "    </tr>\n",
       "    <tr>\n",
       "      <th>14</th>\n",
       "      <td>Reciprocating</td>\n",
       "      <td>MARZ BARRY</td>\n",
       "      <td>1993.0</td>\n",
       "      <td>1993.000000</td>\n",
       "      <td>1993.0</td>\n",
       "    </tr>\n",
       "    <tr>\n",
       "      <th>15</th>\n",
       "      <td>Reciprocating</td>\n",
       "      <td>PAIR MIKE E</td>\n",
       "      <td>NaN</td>\n",
       "      <td>NaN</td>\n",
       "      <td>NaN</td>\n",
       "    </tr>\n",
       "    <tr>\n",
       "      <th>16</th>\n",
       "      <td>Reciprocating</td>\n",
       "      <td>PIPER</td>\n",
       "      <td>1968.0</td>\n",
       "      <td>1976.400000</td>\n",
       "      <td>1980.0</td>\n",
       "    </tr>\n",
       "    <tr>\n",
       "      <th>17</th>\n",
       "      <td>Reciprocating</td>\n",
       "      <td>STEWART MACO</td>\n",
       "      <td>1985.0</td>\n",
       "      <td>1985.000000</td>\n",
       "      <td>1985.0</td>\n",
       "    </tr>\n",
       "    <tr>\n",
       "      <th>18</th>\n",
       "      <td>Turbo-fan</td>\n",
       "      <td>AIRBUS</td>\n",
       "      <td>2002.0</td>\n",
       "      <td>2007.281734</td>\n",
       "      <td>2013.0</td>\n",
       "    </tr>\n",
       "    <tr>\n",
       "      <th>19</th>\n",
       "      <td>Turbo-fan</td>\n",
       "      <td>AIRBUS INDUSTRIE</td>\n",
       "      <td>1992.0</td>\n",
       "      <td>1998.599251</td>\n",
       "      <td>2013.0</td>\n",
       "    </tr>\n",
       "    <tr>\n",
       "      <th>20</th>\n",
       "      <td>Turbo-fan</td>\n",
       "      <td>AVIONS MARCEL DASSAULT</td>\n",
       "      <td>1986.0</td>\n",
       "      <td>1986.000000</td>\n",
       "      <td>1986.0</td>\n",
       "    </tr>\n",
       "    <tr>\n",
       "      <th>21</th>\n",
       "      <td>Turbo-fan</td>\n",
       "      <td>BOEING</td>\n",
       "      <td>1965.0</td>\n",
       "      <td>2001.210400</td>\n",
       "      <td>2013.0</td>\n",
       "    </tr>\n",
       "    <tr>\n",
       "      <th>22</th>\n",
       "      <td>Turbo-fan</td>\n",
       "      <td>BOMBARDIER INC</td>\n",
       "      <td>1998.0</td>\n",
       "      <td>2004.486188</td>\n",
       "      <td>2013.0</td>\n",
       "    </tr>\n",
       "    <tr>\n",
       "      <th>23</th>\n",
       "      <td>Turbo-fan</td>\n",
       "      <td>CANADAIR</td>\n",
       "      <td>1997.0</td>\n",
       "      <td>1997.333333</td>\n",
       "      <td>1998.0</td>\n",
       "    </tr>\n",
       "    <tr>\n",
       "      <th>24</th>\n",
       "      <td>Turbo-fan</td>\n",
       "      <td>CESSNA</td>\n",
       "      <td>1979.0</td>\n",
       "      <td>1979.000000</td>\n",
       "      <td>1979.0</td>\n",
       "    </tr>\n",
       "    <tr>\n",
       "      <th>25</th>\n",
       "      <td>Turbo-fan</td>\n",
       "      <td>EMBRAER</td>\n",
       "      <td>1998.0</td>\n",
       "      <td>2003.613014</td>\n",
       "      <td>2013.0</td>\n",
       "    </tr>\n",
       "    <tr>\n",
       "      <th>26</th>\n",
       "      <td>Turbo-fan</td>\n",
       "      <td>GULFSTREAM AEROSPACE</td>\n",
       "      <td>1992.0</td>\n",
       "      <td>1992.000000</td>\n",
       "      <td>1992.0</td>\n",
       "    </tr>\n",
       "    <tr>\n",
       "      <th>27</th>\n",
       "      <td>Turbo-fan</td>\n",
       "      <td>LEARJET INC</td>\n",
       "      <td>NaN</td>\n",
       "      <td>NaN</td>\n",
       "      <td>NaN</td>\n",
       "    </tr>\n",
       "    <tr>\n",
       "      <th>28</th>\n",
       "      <td>Turbo-fan</td>\n",
       "      <td>MCDONNELL DOUGLAS</td>\n",
       "      <td>1986.0</td>\n",
       "      <td>1989.704545</td>\n",
       "      <td>1997.0</td>\n",
       "    </tr>\n",
       "    <tr>\n",
       "      <th>29</th>\n",
       "      <td>Turbo-fan</td>\n",
       "      <td>MCDONNELL DOUGLAS AIRCRAFT CO</td>\n",
       "      <td>1987.0</td>\n",
       "      <td>1989.737864</td>\n",
       "      <td>1993.0</td>\n",
       "    </tr>\n",
       "    <tr>\n",
       "      <th>30</th>\n",
       "      <td>Turbo-jet</td>\n",
       "      <td>AIRBUS</td>\n",
       "      <td>2002.0</td>\n",
       "      <td>2002.000000</td>\n",
       "      <td>2002.0</td>\n",
       "    </tr>\n",
       "    <tr>\n",
       "      <th>31</th>\n",
       "      <td>Turbo-jet</td>\n",
       "      <td>AIRBUS INDUSTRIE</td>\n",
       "      <td>1989.0</td>\n",
       "      <td>1997.439024</td>\n",
       "      <td>2004.0</td>\n",
       "    </tr>\n",
       "    <tr>\n",
       "      <th>32</th>\n",
       "      <td>Turbo-jet</td>\n",
       "      <td>BOEING</td>\n",
       "      <td>1984.0</td>\n",
       "      <td>1996.368272</td>\n",
       "      <td>2005.0</td>\n",
       "    </tr>\n",
       "    <tr>\n",
       "      <th>33</th>\n",
       "      <td>Turbo-jet</td>\n",
       "      <td>CANADAIR LTD</td>\n",
       "      <td>1974.0</td>\n",
       "      <td>1974.000000</td>\n",
       "      <td>1974.0</td>\n",
       "    </tr>\n",
       "    <tr>\n",
       "      <th>34</th>\n",
       "      <td>Turbo-jet</td>\n",
       "      <td>EMBRAER</td>\n",
       "      <td>1999.0</td>\n",
       "      <td>1999.000000</td>\n",
       "      <td>1999.0</td>\n",
       "    </tr>\n",
       "    <tr>\n",
       "      <th>35</th>\n",
       "      <td>Turbo-jet</td>\n",
       "      <td>GULFSTREAM AEROSPACE</td>\n",
       "      <td>1976.0</td>\n",
       "      <td>1976.000000</td>\n",
       "      <td>1976.0</td>\n",
       "    </tr>\n",
       "    <tr>\n",
       "      <th>36</th>\n",
       "      <td>Turbo-jet</td>\n",
       "      <td>MCDONNELL DOUGLAS</td>\n",
       "      <td>1975.0</td>\n",
       "      <td>1990.714286</td>\n",
       "      <td>1998.0</td>\n",
       "    </tr>\n",
       "    <tr>\n",
       "      <th>37</th>\n",
       "      <td>Turbo-jet</td>\n",
       "      <td>MCDONNELL DOUGLAS CORPORATION</td>\n",
       "      <td>1991.0</td>\n",
       "      <td>1991.928571</td>\n",
       "      <td>1992.0</td>\n",
       "    </tr>\n",
       "    <tr>\n",
       "      <th>38</th>\n",
       "      <td>Turbo-prop</td>\n",
       "      <td>BEECH</td>\n",
       "      <td>1967.0</td>\n",
       "      <td>1969.500000</td>\n",
       "      <td>1972.0</td>\n",
       "    </tr>\n",
       "    <tr>\n",
       "      <th>39</th>\n",
       "      <td>Turbo-shaft</td>\n",
       "      <td>AGUSTA SPA</td>\n",
       "      <td>2001.0</td>\n",
       "      <td>2001.000000</td>\n",
       "      <td>2001.0</td>\n",
       "    </tr>\n",
       "    <tr>\n",
       "      <th>40</th>\n",
       "      <td>Turbo-shaft</td>\n",
       "      <td>BELL</td>\n",
       "      <td>1975.0</td>\n",
       "      <td>1984.500000</td>\n",
       "      <td>1994.0</td>\n",
       "    </tr>\n",
       "    <tr>\n",
       "      <th>41</th>\n",
       "      <td>Turbo-shaft</td>\n",
       "      <td>ROBINSON HELICOPTER CO</td>\n",
       "      <td>2012.0</td>\n",
       "      <td>2012.000000</td>\n",
       "      <td>2012.0</td>\n",
       "    </tr>\n",
       "    <tr>\n",
       "      <th>42</th>\n",
       "      <td>Turbo-shaft</td>\n",
       "      <td>SIKORSKY</td>\n",
       "      <td>1985.0</td>\n",
       "      <td>1985.000000</td>\n",
       "      <td>1985.0</td>\n",
       "    </tr>\n",
       "  </tbody>\n",
       "</table>\n",
       "</div>"
      ],
      "text/plain": [
       "           engine                   manufacturer     min          avg     max\n",
       "0         4 Cycle                         CESSNA  1975.0  1975.000000  1975.0\n",
       "1         4 Cycle                    JOHN G HESS     NaN          NaN     NaN\n",
       "2   Reciprocating          AMERICAN AIRCRAFT INC     NaN          NaN     NaN\n",
       "3   Reciprocating             AVIAT AIRCRAFT INC  2007.0  2007.000000  2007.0\n",
       "4   Reciprocating                  BARKER JACK L     NaN          NaN     NaN\n",
       "5   Reciprocating                         CESSNA  1959.0  1971.142857  1983.0\n",
       "6   Reciprocating             CIRRUS DESIGN CORP  2007.0  2007.000000  2007.0\n",
       "7   Reciprocating                    DEHAVILLAND  1959.0  1959.000000  1959.0\n",
       "8   Reciprocating                        DOUGLAS  1956.0  1956.000000  1956.0\n",
       "9   Reciprocating                 FRIEDEMANN JON  2007.0  2007.000000  2007.0\n",
       "10  Reciprocating             HURLEY JAMES LARRY     NaN          NaN     NaN\n",
       "11  Reciprocating                   KILDALL GARY  1985.0  1985.000000  1985.0\n",
       "12  Reciprocating                LAMBERT RICHARD     NaN          NaN     NaN\n",
       "13  Reciprocating                LEBLANC GLENN T  1985.0  1985.000000  1985.0\n",
       "14  Reciprocating                     MARZ BARRY  1993.0  1993.000000  1993.0\n",
       "15  Reciprocating                    PAIR MIKE E     NaN          NaN     NaN\n",
       "16  Reciprocating                          PIPER  1968.0  1976.400000  1980.0\n",
       "17  Reciprocating                   STEWART MACO  1985.0  1985.000000  1985.0\n",
       "18      Turbo-fan                         AIRBUS  2002.0  2007.281734  2013.0\n",
       "19      Turbo-fan               AIRBUS INDUSTRIE  1992.0  1998.599251  2013.0\n",
       "20      Turbo-fan         AVIONS MARCEL DASSAULT  1986.0  1986.000000  1986.0\n",
       "21      Turbo-fan                         BOEING  1965.0  2001.210400  2013.0\n",
       "22      Turbo-fan                 BOMBARDIER INC  1998.0  2004.486188  2013.0\n",
       "23      Turbo-fan                       CANADAIR  1997.0  1997.333333  1998.0\n",
       "24      Turbo-fan                         CESSNA  1979.0  1979.000000  1979.0\n",
       "25      Turbo-fan                        EMBRAER  1998.0  2003.613014  2013.0\n",
       "26      Turbo-fan           GULFSTREAM AEROSPACE  1992.0  1992.000000  1992.0\n",
       "27      Turbo-fan                    LEARJET INC     NaN          NaN     NaN\n",
       "28      Turbo-fan              MCDONNELL DOUGLAS  1986.0  1989.704545  1997.0\n",
       "29      Turbo-fan  MCDONNELL DOUGLAS AIRCRAFT CO  1987.0  1989.737864  1993.0\n",
       "30      Turbo-jet                         AIRBUS  2002.0  2002.000000  2002.0\n",
       "31      Turbo-jet               AIRBUS INDUSTRIE  1989.0  1997.439024  2004.0\n",
       "32      Turbo-jet                         BOEING  1984.0  1996.368272  2005.0\n",
       "33      Turbo-jet                   CANADAIR LTD  1974.0  1974.000000  1974.0\n",
       "34      Turbo-jet                        EMBRAER  1999.0  1999.000000  1999.0\n",
       "35      Turbo-jet           GULFSTREAM AEROSPACE  1976.0  1976.000000  1976.0\n",
       "36      Turbo-jet              MCDONNELL DOUGLAS  1975.0  1990.714286  1998.0\n",
       "37      Turbo-jet  MCDONNELL DOUGLAS CORPORATION  1991.0  1991.928571  1992.0\n",
       "38     Turbo-prop                          BEECH  1967.0  1969.500000  1972.0\n",
       "39    Turbo-shaft                     AGUSTA SPA  2001.0  2001.000000  2001.0\n",
       "40    Turbo-shaft                           BELL  1975.0  1984.500000  1994.0\n",
       "41    Turbo-shaft         ROBINSON HELICOPTER CO  2012.0  2012.000000  2012.0\n",
       "42    Turbo-shaft                       SIKORSKY  1985.0  1985.000000  1985.0"
      ]
     },
     "execution_count": 911,
     "metadata": {},
     "output_type": "execute_result"
    }
   ],
   "source": [
    "# pd.read_sql_query(\"\"\"\n",
    "# SELECT MIN(year), AVG(year), MAX(year), engine, manufacturer FROM planes GROUP BY engine, manufacturer\n",
    "# \"\"\",conn)\n",
    "\n",
    "planes.groupby(['engine','manufacturer']).year.\\\n",
    "agg({\"min\": np.min, \"avg\": np.mean, \"max\": np.max}).\\\n",
    "reset_index()\n"
   ]
  },
  {
   "cell_type": "code",
   "execution_count": 912,
   "metadata": {},
   "outputs": [
    {
     "data": {
      "text/html": [
       "<div>\n",
       "<style scoped>\n",
       "    .dataframe tbody tr th:only-of-type {\n",
       "        vertical-align: middle;\n",
       "    }\n",
       "\n",
       "    .dataframe tbody tr th {\n",
       "        vertical-align: top;\n",
       "    }\n",
       "\n",
       "    .dataframe thead tr th {\n",
       "        text-align: left;\n",
       "    }\n",
       "</style>\n",
       "<table border=\"1\" class=\"dataframe\">\n",
       "  <thead>\n",
       "    <tr>\n",
       "      <th></th>\n",
       "      <th>engine</th>\n",
       "      <th>manufacturer</th>\n",
       "      <th colspan=\"3\" halign=\"left\">year</th>\n",
       "    </tr>\n",
       "    <tr>\n",
       "      <th></th>\n",
       "      <th></th>\n",
       "      <th></th>\n",
       "      <th>amin</th>\n",
       "      <th>mean</th>\n",
       "      <th>amax</th>\n",
       "    </tr>\n",
       "  </thead>\n",
       "  <tbody>\n",
       "    <tr>\n",
       "      <th>0</th>\n",
       "      <td>4 Cycle</td>\n",
       "      <td>CESSNA</td>\n",
       "      <td>1975.0</td>\n",
       "      <td>1975.000000</td>\n",
       "      <td>1975.0</td>\n",
       "    </tr>\n",
       "    <tr>\n",
       "      <th>1</th>\n",
       "      <td>4 Cycle</td>\n",
       "      <td>JOHN G HESS</td>\n",
       "      <td>NaN</td>\n",
       "      <td>NaN</td>\n",
       "      <td>NaN</td>\n",
       "    </tr>\n",
       "    <tr>\n",
       "      <th>2</th>\n",
       "      <td>Reciprocating</td>\n",
       "      <td>AMERICAN AIRCRAFT INC</td>\n",
       "      <td>NaN</td>\n",
       "      <td>NaN</td>\n",
       "      <td>NaN</td>\n",
       "    </tr>\n",
       "    <tr>\n",
       "      <th>3</th>\n",
       "      <td>Reciprocating</td>\n",
       "      <td>AVIAT AIRCRAFT INC</td>\n",
       "      <td>2007.0</td>\n",
       "      <td>2007.000000</td>\n",
       "      <td>2007.0</td>\n",
       "    </tr>\n",
       "    <tr>\n",
       "      <th>4</th>\n",
       "      <td>Reciprocating</td>\n",
       "      <td>BARKER JACK L</td>\n",
       "      <td>NaN</td>\n",
       "      <td>NaN</td>\n",
       "      <td>NaN</td>\n",
       "    </tr>\n",
       "    <tr>\n",
       "      <th>5</th>\n",
       "      <td>Reciprocating</td>\n",
       "      <td>CESSNA</td>\n",
       "      <td>1959.0</td>\n",
       "      <td>1971.142857</td>\n",
       "      <td>1983.0</td>\n",
       "    </tr>\n",
       "    <tr>\n",
       "      <th>6</th>\n",
       "      <td>Reciprocating</td>\n",
       "      <td>CIRRUS DESIGN CORP</td>\n",
       "      <td>2007.0</td>\n",
       "      <td>2007.000000</td>\n",
       "      <td>2007.0</td>\n",
       "    </tr>\n",
       "    <tr>\n",
       "      <th>7</th>\n",
       "      <td>Reciprocating</td>\n",
       "      <td>DEHAVILLAND</td>\n",
       "      <td>1959.0</td>\n",
       "      <td>1959.000000</td>\n",
       "      <td>1959.0</td>\n",
       "    </tr>\n",
       "    <tr>\n",
       "      <th>8</th>\n",
       "      <td>Reciprocating</td>\n",
       "      <td>DOUGLAS</td>\n",
       "      <td>1956.0</td>\n",
       "      <td>1956.000000</td>\n",
       "      <td>1956.0</td>\n",
       "    </tr>\n",
       "    <tr>\n",
       "      <th>9</th>\n",
       "      <td>Reciprocating</td>\n",
       "      <td>FRIEDEMANN JON</td>\n",
       "      <td>2007.0</td>\n",
       "      <td>2007.000000</td>\n",
       "      <td>2007.0</td>\n",
       "    </tr>\n",
       "    <tr>\n",
       "      <th>10</th>\n",
       "      <td>Reciprocating</td>\n",
       "      <td>HURLEY JAMES LARRY</td>\n",
       "      <td>NaN</td>\n",
       "      <td>NaN</td>\n",
       "      <td>NaN</td>\n",
       "    </tr>\n",
       "    <tr>\n",
       "      <th>11</th>\n",
       "      <td>Reciprocating</td>\n",
       "      <td>KILDALL GARY</td>\n",
       "      <td>1985.0</td>\n",
       "      <td>1985.000000</td>\n",
       "      <td>1985.0</td>\n",
       "    </tr>\n",
       "    <tr>\n",
       "      <th>12</th>\n",
       "      <td>Reciprocating</td>\n",
       "      <td>LAMBERT RICHARD</td>\n",
       "      <td>NaN</td>\n",
       "      <td>NaN</td>\n",
       "      <td>NaN</td>\n",
       "    </tr>\n",
       "    <tr>\n",
       "      <th>13</th>\n",
       "      <td>Reciprocating</td>\n",
       "      <td>LEBLANC GLENN T</td>\n",
       "      <td>1985.0</td>\n",
       "      <td>1985.000000</td>\n",
       "      <td>1985.0</td>\n",
       "    </tr>\n",
       "    <tr>\n",
       "      <th>14</th>\n",
       "      <td>Reciprocating</td>\n",
       "      <td>MARZ BARRY</td>\n",
       "      <td>1993.0</td>\n",
       "      <td>1993.000000</td>\n",
       "      <td>1993.0</td>\n",
       "    </tr>\n",
       "    <tr>\n",
       "      <th>15</th>\n",
       "      <td>Reciprocating</td>\n",
       "      <td>PAIR MIKE E</td>\n",
       "      <td>NaN</td>\n",
       "      <td>NaN</td>\n",
       "      <td>NaN</td>\n",
       "    </tr>\n",
       "    <tr>\n",
       "      <th>16</th>\n",
       "      <td>Reciprocating</td>\n",
       "      <td>PIPER</td>\n",
       "      <td>1968.0</td>\n",
       "      <td>1976.400000</td>\n",
       "      <td>1980.0</td>\n",
       "    </tr>\n",
       "    <tr>\n",
       "      <th>17</th>\n",
       "      <td>Reciprocating</td>\n",
       "      <td>STEWART MACO</td>\n",
       "      <td>1985.0</td>\n",
       "      <td>1985.000000</td>\n",
       "      <td>1985.0</td>\n",
       "    </tr>\n",
       "    <tr>\n",
       "      <th>18</th>\n",
       "      <td>Turbo-fan</td>\n",
       "      <td>AIRBUS</td>\n",
       "      <td>2002.0</td>\n",
       "      <td>2007.281734</td>\n",
       "      <td>2013.0</td>\n",
       "    </tr>\n",
       "    <tr>\n",
       "      <th>19</th>\n",
       "      <td>Turbo-fan</td>\n",
       "      <td>AIRBUS INDUSTRIE</td>\n",
       "      <td>1992.0</td>\n",
       "      <td>1998.599251</td>\n",
       "      <td>2013.0</td>\n",
       "    </tr>\n",
       "    <tr>\n",
       "      <th>20</th>\n",
       "      <td>Turbo-fan</td>\n",
       "      <td>AVIONS MARCEL DASSAULT</td>\n",
       "      <td>1986.0</td>\n",
       "      <td>1986.000000</td>\n",
       "      <td>1986.0</td>\n",
       "    </tr>\n",
       "    <tr>\n",
       "      <th>21</th>\n",
       "      <td>Turbo-fan</td>\n",
       "      <td>BOEING</td>\n",
       "      <td>1965.0</td>\n",
       "      <td>2001.210400</td>\n",
       "      <td>2013.0</td>\n",
       "    </tr>\n",
       "    <tr>\n",
       "      <th>22</th>\n",
       "      <td>Turbo-fan</td>\n",
       "      <td>BOMBARDIER INC</td>\n",
       "      <td>1998.0</td>\n",
       "      <td>2004.486188</td>\n",
       "      <td>2013.0</td>\n",
       "    </tr>\n",
       "    <tr>\n",
       "      <th>23</th>\n",
       "      <td>Turbo-fan</td>\n",
       "      <td>CANADAIR</td>\n",
       "      <td>1997.0</td>\n",
       "      <td>1997.333333</td>\n",
       "      <td>1998.0</td>\n",
       "    </tr>\n",
       "    <tr>\n",
       "      <th>24</th>\n",
       "      <td>Turbo-fan</td>\n",
       "      <td>CESSNA</td>\n",
       "      <td>1979.0</td>\n",
       "      <td>1979.000000</td>\n",
       "      <td>1979.0</td>\n",
       "    </tr>\n",
       "    <tr>\n",
       "      <th>25</th>\n",
       "      <td>Turbo-fan</td>\n",
       "      <td>EMBRAER</td>\n",
       "      <td>1998.0</td>\n",
       "      <td>2003.613014</td>\n",
       "      <td>2013.0</td>\n",
       "    </tr>\n",
       "    <tr>\n",
       "      <th>26</th>\n",
       "      <td>Turbo-fan</td>\n",
       "      <td>GULFSTREAM AEROSPACE</td>\n",
       "      <td>1992.0</td>\n",
       "      <td>1992.000000</td>\n",
       "      <td>1992.0</td>\n",
       "    </tr>\n",
       "    <tr>\n",
       "      <th>27</th>\n",
       "      <td>Turbo-fan</td>\n",
       "      <td>LEARJET INC</td>\n",
       "      <td>NaN</td>\n",
       "      <td>NaN</td>\n",
       "      <td>NaN</td>\n",
       "    </tr>\n",
       "    <tr>\n",
       "      <th>28</th>\n",
       "      <td>Turbo-fan</td>\n",
       "      <td>MCDONNELL DOUGLAS</td>\n",
       "      <td>1986.0</td>\n",
       "      <td>1989.704545</td>\n",
       "      <td>1997.0</td>\n",
       "    </tr>\n",
       "    <tr>\n",
       "      <th>29</th>\n",
       "      <td>Turbo-fan</td>\n",
       "      <td>MCDONNELL DOUGLAS AIRCRAFT CO</td>\n",
       "      <td>1987.0</td>\n",
       "      <td>1989.737864</td>\n",
       "      <td>1993.0</td>\n",
       "    </tr>\n",
       "    <tr>\n",
       "      <th>30</th>\n",
       "      <td>Turbo-jet</td>\n",
       "      <td>AIRBUS</td>\n",
       "      <td>2002.0</td>\n",
       "      <td>2002.000000</td>\n",
       "      <td>2002.0</td>\n",
       "    </tr>\n",
       "    <tr>\n",
       "      <th>31</th>\n",
       "      <td>Turbo-jet</td>\n",
       "      <td>AIRBUS INDUSTRIE</td>\n",
       "      <td>1989.0</td>\n",
       "      <td>1997.439024</td>\n",
       "      <td>2004.0</td>\n",
       "    </tr>\n",
       "    <tr>\n",
       "      <th>32</th>\n",
       "      <td>Turbo-jet</td>\n",
       "      <td>BOEING</td>\n",
       "      <td>1984.0</td>\n",
       "      <td>1996.368272</td>\n",
       "      <td>2005.0</td>\n",
       "    </tr>\n",
       "    <tr>\n",
       "      <th>33</th>\n",
       "      <td>Turbo-jet</td>\n",
       "      <td>CANADAIR LTD</td>\n",
       "      <td>1974.0</td>\n",
       "      <td>1974.000000</td>\n",
       "      <td>1974.0</td>\n",
       "    </tr>\n",
       "    <tr>\n",
       "      <th>34</th>\n",
       "      <td>Turbo-jet</td>\n",
       "      <td>EMBRAER</td>\n",
       "      <td>1999.0</td>\n",
       "      <td>1999.000000</td>\n",
       "      <td>1999.0</td>\n",
       "    </tr>\n",
       "    <tr>\n",
       "      <th>35</th>\n",
       "      <td>Turbo-jet</td>\n",
       "      <td>GULFSTREAM AEROSPACE</td>\n",
       "      <td>1976.0</td>\n",
       "      <td>1976.000000</td>\n",
       "      <td>1976.0</td>\n",
       "    </tr>\n",
       "    <tr>\n",
       "      <th>36</th>\n",
       "      <td>Turbo-jet</td>\n",
       "      <td>MCDONNELL DOUGLAS</td>\n",
       "      <td>1975.0</td>\n",
       "      <td>1990.714286</td>\n",
       "      <td>1998.0</td>\n",
       "    </tr>\n",
       "    <tr>\n",
       "      <th>37</th>\n",
       "      <td>Turbo-jet</td>\n",
       "      <td>MCDONNELL DOUGLAS CORPORATION</td>\n",
       "      <td>1991.0</td>\n",
       "      <td>1991.928571</td>\n",
       "      <td>1992.0</td>\n",
       "    </tr>\n",
       "    <tr>\n",
       "      <th>38</th>\n",
       "      <td>Turbo-prop</td>\n",
       "      <td>BEECH</td>\n",
       "      <td>1967.0</td>\n",
       "      <td>1969.500000</td>\n",
       "      <td>1972.0</td>\n",
       "    </tr>\n",
       "    <tr>\n",
       "      <th>39</th>\n",
       "      <td>Turbo-shaft</td>\n",
       "      <td>AGUSTA SPA</td>\n",
       "      <td>2001.0</td>\n",
       "      <td>2001.000000</td>\n",
       "      <td>2001.0</td>\n",
       "    </tr>\n",
       "    <tr>\n",
       "      <th>40</th>\n",
       "      <td>Turbo-shaft</td>\n",
       "      <td>BELL</td>\n",
       "      <td>1975.0</td>\n",
       "      <td>1984.500000</td>\n",
       "      <td>1994.0</td>\n",
       "    </tr>\n",
       "    <tr>\n",
       "      <th>41</th>\n",
       "      <td>Turbo-shaft</td>\n",
       "      <td>ROBINSON HELICOPTER CO</td>\n",
       "      <td>2012.0</td>\n",
       "      <td>2012.000000</td>\n",
       "      <td>2012.0</td>\n",
       "    </tr>\n",
       "    <tr>\n",
       "      <th>42</th>\n",
       "      <td>Turbo-shaft</td>\n",
       "      <td>SIKORSKY</td>\n",
       "      <td>1985.0</td>\n",
       "      <td>1985.000000</td>\n",
       "      <td>1985.0</td>\n",
       "    </tr>\n",
       "  </tbody>\n",
       "</table>\n",
       "</div>"
      ],
      "text/plain": [
       "           engine                   manufacturer    year                     \n",
       "                                                    amin         mean    amax\n",
       "0         4 Cycle                         CESSNA  1975.0  1975.000000  1975.0\n",
       "1         4 Cycle                    JOHN G HESS     NaN          NaN     NaN\n",
       "2   Reciprocating          AMERICAN AIRCRAFT INC     NaN          NaN     NaN\n",
       "3   Reciprocating             AVIAT AIRCRAFT INC  2007.0  2007.000000  2007.0\n",
       "4   Reciprocating                  BARKER JACK L     NaN          NaN     NaN\n",
       "5   Reciprocating                         CESSNA  1959.0  1971.142857  1983.0\n",
       "6   Reciprocating             CIRRUS DESIGN CORP  2007.0  2007.000000  2007.0\n",
       "7   Reciprocating                    DEHAVILLAND  1959.0  1959.000000  1959.0\n",
       "8   Reciprocating                        DOUGLAS  1956.0  1956.000000  1956.0\n",
       "9   Reciprocating                 FRIEDEMANN JON  2007.0  2007.000000  2007.0\n",
       "10  Reciprocating             HURLEY JAMES LARRY     NaN          NaN     NaN\n",
       "11  Reciprocating                   KILDALL GARY  1985.0  1985.000000  1985.0\n",
       "12  Reciprocating                LAMBERT RICHARD     NaN          NaN     NaN\n",
       "13  Reciprocating                LEBLANC GLENN T  1985.0  1985.000000  1985.0\n",
       "14  Reciprocating                     MARZ BARRY  1993.0  1993.000000  1993.0\n",
       "15  Reciprocating                    PAIR MIKE E     NaN          NaN     NaN\n",
       "16  Reciprocating                          PIPER  1968.0  1976.400000  1980.0\n",
       "17  Reciprocating                   STEWART MACO  1985.0  1985.000000  1985.0\n",
       "18      Turbo-fan                         AIRBUS  2002.0  2007.281734  2013.0\n",
       "19      Turbo-fan               AIRBUS INDUSTRIE  1992.0  1998.599251  2013.0\n",
       "20      Turbo-fan         AVIONS MARCEL DASSAULT  1986.0  1986.000000  1986.0\n",
       "21      Turbo-fan                         BOEING  1965.0  2001.210400  2013.0\n",
       "22      Turbo-fan                 BOMBARDIER INC  1998.0  2004.486188  2013.0\n",
       "23      Turbo-fan                       CANADAIR  1997.0  1997.333333  1998.0\n",
       "24      Turbo-fan                         CESSNA  1979.0  1979.000000  1979.0\n",
       "25      Turbo-fan                        EMBRAER  1998.0  2003.613014  2013.0\n",
       "26      Turbo-fan           GULFSTREAM AEROSPACE  1992.0  1992.000000  1992.0\n",
       "27      Turbo-fan                    LEARJET INC     NaN          NaN     NaN\n",
       "28      Turbo-fan              MCDONNELL DOUGLAS  1986.0  1989.704545  1997.0\n",
       "29      Turbo-fan  MCDONNELL DOUGLAS AIRCRAFT CO  1987.0  1989.737864  1993.0\n",
       "30      Turbo-jet                         AIRBUS  2002.0  2002.000000  2002.0\n",
       "31      Turbo-jet               AIRBUS INDUSTRIE  1989.0  1997.439024  2004.0\n",
       "32      Turbo-jet                         BOEING  1984.0  1996.368272  2005.0\n",
       "33      Turbo-jet                   CANADAIR LTD  1974.0  1974.000000  1974.0\n",
       "34      Turbo-jet                        EMBRAER  1999.0  1999.000000  1999.0\n",
       "35      Turbo-jet           GULFSTREAM AEROSPACE  1976.0  1976.000000  1976.0\n",
       "36      Turbo-jet              MCDONNELL DOUGLAS  1975.0  1990.714286  1998.0\n",
       "37      Turbo-jet  MCDONNELL DOUGLAS CORPORATION  1991.0  1991.928571  1992.0\n",
       "38     Turbo-prop                          BEECH  1967.0  1969.500000  1972.0\n",
       "39    Turbo-shaft                     AGUSTA SPA  2001.0  2001.000000  2001.0\n",
       "40    Turbo-shaft                           BELL  1975.0  1984.500000  1994.0\n",
       "41    Turbo-shaft         ROBINSON HELICOPTER CO  2012.0  2012.000000  2012.0\n",
       "42    Turbo-shaft                       SIKORSKY  1985.0  1985.000000  1985.0"
      ]
     },
     "execution_count": 912,
     "metadata": {},
     "output_type": "execute_result"
    }
   ],
   "source": [
    "planes.groupby(['engine','manufacturer']).\\\n",
    "agg({\"year\": [np.min,np.mean, np.max]}).\\\n",
    "reset_index()\n"
   ]
  },
  {
   "cell_type": "code",
   "execution_count": 916,
   "metadata": {},
   "outputs": [
    {
     "data": {
      "text/html": [
       "<div>\n",
       "<style scoped>\n",
       "    .dataframe tbody tr th:only-of-type {\n",
       "        vertical-align: middle;\n",
       "    }\n",
       "\n",
       "    .dataframe tbody tr th {\n",
       "        vertical-align: top;\n",
       "    }\n",
       "\n",
       "    .dataframe thead th {\n",
       "        text-align: right;\n",
       "    }\n",
       "</style>\n",
       "<table border=\"1\" class=\"dataframe\">\n",
       "  <thead>\n",
       "    <tr style=\"text-align: right;\">\n",
       "      <th></th>\n",
       "      <th>engine</th>\n",
       "      <th>manufacturer</th>\n",
       "      <th>amin</th>\n",
       "      <th>mean</th>\n",
       "      <th>amax</th>\n",
       "    </tr>\n",
       "  </thead>\n",
       "  <tbody>\n",
       "    <tr>\n",
       "      <th>0</th>\n",
       "      <td>4 Cycle</td>\n",
       "      <td>CESSNA</td>\n",
       "      <td>1975.0</td>\n",
       "      <td>1975.0</td>\n",
       "      <td>1975.0</td>\n",
       "    </tr>\n",
       "    <tr>\n",
       "      <th>1</th>\n",
       "      <td>4 Cycle</td>\n",
       "      <td>JOHN G HESS</td>\n",
       "      <td>NaN</td>\n",
       "      <td>NaN</td>\n",
       "      <td>NaN</td>\n",
       "    </tr>\n",
       "    <tr>\n",
       "      <th>2</th>\n",
       "      <td>Reciprocating</td>\n",
       "      <td>AMERICAN AIRCRAFT INC</td>\n",
       "      <td>NaN</td>\n",
       "      <td>NaN</td>\n",
       "      <td>NaN</td>\n",
       "    </tr>\n",
       "    <tr>\n",
       "      <th>3</th>\n",
       "      <td>Reciprocating</td>\n",
       "      <td>AVIAT AIRCRAFT INC</td>\n",
       "      <td>2007.0</td>\n",
       "      <td>2007.0</td>\n",
       "      <td>2007.0</td>\n",
       "    </tr>\n",
       "    <tr>\n",
       "      <th>4</th>\n",
       "      <td>Reciprocating</td>\n",
       "      <td>BARKER JACK L</td>\n",
       "      <td>NaN</td>\n",
       "      <td>NaN</td>\n",
       "      <td>NaN</td>\n",
       "    </tr>\n",
       "  </tbody>\n",
       "</table>\n",
       "</div>"
      ],
      "text/plain": [
       "          engine           manufacturer    amin    mean    amax\n",
       "0        4 Cycle                 CESSNA  1975.0  1975.0  1975.0\n",
       "1        4 Cycle            JOHN G HESS     NaN     NaN     NaN\n",
       "2  Reciprocating  AMERICAN AIRCRAFT INC     NaN     NaN     NaN\n",
       "3  Reciprocating     AVIAT AIRCRAFT INC  2007.0  2007.0  2007.0\n",
       "4  Reciprocating          BARKER JACK L     NaN     NaN     NaN"
      ]
     },
     "execution_count": 916,
     "metadata": {},
     "output_type": "execute_result"
    }
   ],
   "source": [
    "planes.groupby(['engine','manufacturer']).year.\\\n",
    "agg([np.min,np.mean, np.max]).\\\n",
    "reset_index().\\\n",
    "head()\n"
   ]
  },
  {
   "cell_type": "code",
   "execution_count": 1012,
   "metadata": {},
   "outputs": [
    {
     "name": "stdout",
     "output_type": "stream",
     "text": [
      "False\n"
     ]
    },
    {
     "data": {
      "text/html": [
       "<div>\n",
       "<style scoped>\n",
       "    .dataframe tbody tr th:only-of-type {\n",
       "        vertical-align: middle;\n",
       "    }\n",
       "\n",
       "    .dataframe tbody tr th {\n",
       "        vertical-align: top;\n",
       "    }\n",
       "\n",
       "    .dataframe thead th {\n",
       "        text-align: right;\n",
       "    }\n",
       "</style>\n",
       "<table border=\"1\" class=\"dataframe\">\n",
       "  <thead>\n",
       "    <tr style=\"text-align: right;\">\n",
       "      <th></th>\n",
       "      <th>tailnum</th>\n",
       "      <th>year</th>\n",
       "      <th>type</th>\n",
       "      <th>manufacturer</th>\n",
       "      <th>model</th>\n",
       "      <th>engines</th>\n",
       "      <th>seats</th>\n",
       "      <th>speed</th>\n",
       "      <th>engine</th>\n",
       "    </tr>\n",
       "  </thead>\n",
       "  <tbody>\n",
       "    <tr>\n",
       "      <th>424</th>\n",
       "      <td>N201AA</td>\n",
       "      <td>1959.0</td>\n",
       "      <td>Fixed wing single engine</td>\n",
       "      <td>CESSNA</td>\n",
       "      <td>150</td>\n",
       "      <td>1</td>\n",
       "      <td>2</td>\n",
       "      <td>90.0</td>\n",
       "      <td>Reciprocating</td>\n",
       "    </tr>\n",
       "    <tr>\n",
       "      <th>427</th>\n",
       "      <td>N202AA</td>\n",
       "      <td>1980.0</td>\n",
       "      <td>Fixed wing multi engine</td>\n",
       "      <td>CESSNA</td>\n",
       "      <td>421C</td>\n",
       "      <td>2</td>\n",
       "      <td>8</td>\n",
       "      <td>90.0</td>\n",
       "      <td>Reciprocating</td>\n",
       "    </tr>\n",
       "    <tr>\n",
       "      <th>821</th>\n",
       "      <td>N350AA</td>\n",
       "      <td>1980.0</td>\n",
       "      <td>Fixed wing multi engine</td>\n",
       "      <td>PIPER</td>\n",
       "      <td>PA-31-350</td>\n",
       "      <td>2</td>\n",
       "      <td>8</td>\n",
       "      <td>162.0</td>\n",
       "      <td>Reciprocating</td>\n",
       "    </tr>\n",
       "    <tr>\n",
       "      <th>893</th>\n",
       "      <td>N364AA</td>\n",
       "      <td>1973.0</td>\n",
       "      <td>Fixed wing multi engine</td>\n",
       "      <td>CESSNA</td>\n",
       "      <td>310Q</td>\n",
       "      <td>2</td>\n",
       "      <td>6</td>\n",
       "      <td>167.0</td>\n",
       "      <td>Reciprocating</td>\n",
       "    </tr>\n",
       "    <tr>\n",
       "      <th>1027</th>\n",
       "      <td>N378AA</td>\n",
       "      <td>1963.0</td>\n",
       "      <td>Fixed wing single engine</td>\n",
       "      <td>CESSNA</td>\n",
       "      <td>172E</td>\n",
       "      <td>1</td>\n",
       "      <td>4</td>\n",
       "      <td>105.0</td>\n",
       "      <td>Reciprocating</td>\n",
       "    </tr>\n",
       "    <tr>\n",
       "      <th>1037</th>\n",
       "      <td>N381AA</td>\n",
       "      <td>1956.0</td>\n",
       "      <td>Fixed wing multi engine</td>\n",
       "      <td>DOUGLAS</td>\n",
       "      <td>DC-7BF</td>\n",
       "      <td>4</td>\n",
       "      <td>102</td>\n",
       "      <td>232.0</td>\n",
       "      <td>Reciprocating</td>\n",
       "    </tr>\n",
       "    <tr>\n",
       "      <th>1190</th>\n",
       "      <td>N425AA</td>\n",
       "      <td>1968.0</td>\n",
       "      <td>Fixed wing single engine</td>\n",
       "      <td>PIPER</td>\n",
       "      <td>PA-28-180</td>\n",
       "      <td>1</td>\n",
       "      <td>4</td>\n",
       "      <td>107.0</td>\n",
       "      <td>Reciprocating</td>\n",
       "    </tr>\n",
       "    <tr>\n",
       "      <th>1430</th>\n",
       "      <td>N508AA</td>\n",
       "      <td>1975.0</td>\n",
       "      <td>Rotorcraft</td>\n",
       "      <td>BELL</td>\n",
       "      <td>206B</td>\n",
       "      <td>1</td>\n",
       "      <td>5</td>\n",
       "      <td>112.0</td>\n",
       "      <td>Turbo-shaft</td>\n",
       "    </tr>\n",
       "    <tr>\n",
       "      <th>1480</th>\n",
       "      <td>N519MQ</td>\n",
       "      <td>1983.0</td>\n",
       "      <td>Fixed wing single engine</td>\n",
       "      <td>CESSNA</td>\n",
       "      <td>A185F</td>\n",
       "      <td>1</td>\n",
       "      <td>6</td>\n",
       "      <td>127.0</td>\n",
       "      <td>Reciprocating</td>\n",
       "    </tr>\n",
       "    <tr>\n",
       "      <th>1515</th>\n",
       "      <td>N525AA</td>\n",
       "      <td>1980.0</td>\n",
       "      <td>Fixed wing multi engine</td>\n",
       "      <td>PIPER</td>\n",
       "      <td>PA-31-350</td>\n",
       "      <td>2</td>\n",
       "      <td>8</td>\n",
       "      <td>162.0</td>\n",
       "      <td>Reciprocating</td>\n",
       "    </tr>\n",
       "    <tr>\n",
       "      <th>1589</th>\n",
       "      <td>N545AA</td>\n",
       "      <td>1976.0</td>\n",
       "      <td>Fixed wing single engine</td>\n",
       "      <td>PIPER</td>\n",
       "      <td>PA-32R-300</td>\n",
       "      <td>1</td>\n",
       "      <td>7</td>\n",
       "      <td>126.0</td>\n",
       "      <td>Reciprocating</td>\n",
       "    </tr>\n",
       "    <tr>\n",
       "      <th>1694</th>\n",
       "      <td>N567AA</td>\n",
       "      <td>1959.0</td>\n",
       "      <td>Fixed wing single engine</td>\n",
       "      <td>DEHAVILLAND</td>\n",
       "      <td>OTTER DHC-3</td>\n",
       "      <td>1</td>\n",
       "      <td>16</td>\n",
       "      <td>95.0</td>\n",
       "      <td>Reciprocating</td>\n",
       "    </tr>\n",
       "    <tr>\n",
       "      <th>1813</th>\n",
       "      <td>N600TR</td>\n",
       "      <td>1979.0</td>\n",
       "      <td>Fixed wing multi engine</td>\n",
       "      <td>MCDONNELL DOUGLAS</td>\n",
       "      <td>DC-9-51</td>\n",
       "      <td>2</td>\n",
       "      <td>139</td>\n",
       "      <td>432.0</td>\n",
       "      <td>Turbo-jet</td>\n",
       "    </tr>\n",
       "    <tr>\n",
       "      <th>1867</th>\n",
       "      <td>N615AA</td>\n",
       "      <td>1967.0</td>\n",
       "      <td>Fixed wing multi engine</td>\n",
       "      <td>BEECH</td>\n",
       "      <td>65-A90</td>\n",
       "      <td>2</td>\n",
       "      <td>9</td>\n",
       "      <td>202.0</td>\n",
       "      <td>Turbo-prop</td>\n",
       "    </tr>\n",
       "    <tr>\n",
       "      <th>1883</th>\n",
       "      <td>N621AA</td>\n",
       "      <td>1975.0</td>\n",
       "      <td>Fixed wing single engine</td>\n",
       "      <td>CESSNA</td>\n",
       "      <td>172M</td>\n",
       "      <td>1</td>\n",
       "      <td>4</td>\n",
       "      <td>108.0</td>\n",
       "      <td>4 Cycle</td>\n",
       "    </tr>\n",
       "    <tr>\n",
       "      <th>2131</th>\n",
       "      <td>N675MC</td>\n",
       "      <td>1975.0</td>\n",
       "      <td>Fixed wing multi engine</td>\n",
       "      <td>MCDONNELL DOUGLAS</td>\n",
       "      <td>DC-9-51</td>\n",
       "      <td>2</td>\n",
       "      <td>139</td>\n",
       "      <td>432.0</td>\n",
       "      <td>Turbo-jet</td>\n",
       "    </tr>\n",
       "    <tr>\n",
       "      <th>2309</th>\n",
       "      <td>N737MQ</td>\n",
       "      <td>1977.0</td>\n",
       "      <td>Fixed wing single engine</td>\n",
       "      <td>CESSNA</td>\n",
       "      <td>172N</td>\n",
       "      <td>1</td>\n",
       "      <td>4</td>\n",
       "      <td>105.0</td>\n",
       "      <td>Reciprocating</td>\n",
       "    </tr>\n",
       "    <tr>\n",
       "      <th>2402</th>\n",
       "      <td>N762NC</td>\n",
       "      <td>1976.0</td>\n",
       "      <td>Fixed wing multi engine</td>\n",
       "      <td>MCDONNELL DOUGLAS</td>\n",
       "      <td>DC-9-51</td>\n",
       "      <td>2</td>\n",
       "      <td>139</td>\n",
       "      <td>432.0</td>\n",
       "      <td>Turbo-jet</td>\n",
       "    </tr>\n",
       "    <tr>\n",
       "      <th>2432</th>\n",
       "      <td>N767NC</td>\n",
       "      <td>1977.0</td>\n",
       "      <td>Fixed wing multi engine</td>\n",
       "      <td>MCDONNELL DOUGLAS</td>\n",
       "      <td>DC-9-51</td>\n",
       "      <td>2</td>\n",
       "      <td>139</td>\n",
       "      <td>432.0</td>\n",
       "      <td>Turbo-jet</td>\n",
       "    </tr>\n",
       "    <tr>\n",
       "      <th>2472</th>\n",
       "      <td>N774NC</td>\n",
       "      <td>1978.0</td>\n",
       "      <td>Fixed wing multi engine</td>\n",
       "      <td>MCDONNELL DOUGLAS</td>\n",
       "      <td>DC-9-51</td>\n",
       "      <td>2</td>\n",
       "      <td>139</td>\n",
       "      <td>432.0</td>\n",
       "      <td>Turbo-jet</td>\n",
       "    </tr>\n",
       "    <tr>\n",
       "      <th>2483</th>\n",
       "      <td>N777NC</td>\n",
       "      <td>1979.0</td>\n",
       "      <td>Fixed wing multi engine</td>\n",
       "      <td>MCDONNELL DOUGLAS</td>\n",
       "      <td>DC-9-51</td>\n",
       "      <td>2</td>\n",
       "      <td>139</td>\n",
       "      <td>432.0</td>\n",
       "      <td>Turbo-jet</td>\n",
       "    </tr>\n",
       "    <tr>\n",
       "      <th>2492</th>\n",
       "      <td>N779NC</td>\n",
       "      <td>1979.0</td>\n",
       "      <td>Fixed wing multi engine</td>\n",
       "      <td>MCDONNELL DOUGLAS</td>\n",
       "      <td>DC-9-51</td>\n",
       "      <td>2</td>\n",
       "      <td>139</td>\n",
       "      <td>432.0</td>\n",
       "      <td>Turbo-jet</td>\n",
       "    </tr>\n",
       "    <tr>\n",
       "      <th>2503</th>\n",
       "      <td>N782NC</td>\n",
       "      <td>1980.0</td>\n",
       "      <td>Fixed wing multi engine</td>\n",
       "      <td>MCDONNELL DOUGLAS</td>\n",
       "      <td>DC-9-51</td>\n",
       "      <td>2</td>\n",
       "      <td>139</td>\n",
       "      <td>432.0</td>\n",
       "      <td>Turbo-jet</td>\n",
       "    </tr>\n",
       "  </tbody>\n",
       "</table>\n",
       "</div>"
      ],
      "text/plain": [
       "     tailnum    year                      type       manufacturer  \\\n",
       "424   N201AA  1959.0  Fixed wing single engine             CESSNA   \n",
       "427   N202AA  1980.0   Fixed wing multi engine             CESSNA   \n",
       "821   N350AA  1980.0   Fixed wing multi engine              PIPER   \n",
       "893   N364AA  1973.0   Fixed wing multi engine             CESSNA   \n",
       "1027  N378AA  1963.0  Fixed wing single engine             CESSNA   \n",
       "1037  N381AA  1956.0   Fixed wing multi engine            DOUGLAS   \n",
       "1190  N425AA  1968.0  Fixed wing single engine              PIPER   \n",
       "1430  N508AA  1975.0                Rotorcraft               BELL   \n",
       "1480  N519MQ  1983.0  Fixed wing single engine             CESSNA   \n",
       "1515  N525AA  1980.0   Fixed wing multi engine              PIPER   \n",
       "1589  N545AA  1976.0  Fixed wing single engine              PIPER   \n",
       "1694  N567AA  1959.0  Fixed wing single engine        DEHAVILLAND   \n",
       "1813  N600TR  1979.0   Fixed wing multi engine  MCDONNELL DOUGLAS   \n",
       "1867  N615AA  1967.0   Fixed wing multi engine              BEECH   \n",
       "1883  N621AA  1975.0  Fixed wing single engine             CESSNA   \n",
       "2131  N675MC  1975.0   Fixed wing multi engine  MCDONNELL DOUGLAS   \n",
       "2309  N737MQ  1977.0  Fixed wing single engine             CESSNA   \n",
       "2402  N762NC  1976.0   Fixed wing multi engine  MCDONNELL DOUGLAS   \n",
       "2432  N767NC  1977.0   Fixed wing multi engine  MCDONNELL DOUGLAS   \n",
       "2472  N774NC  1978.0   Fixed wing multi engine  MCDONNELL DOUGLAS   \n",
       "2483  N777NC  1979.0   Fixed wing multi engine  MCDONNELL DOUGLAS   \n",
       "2492  N779NC  1979.0   Fixed wing multi engine  MCDONNELL DOUGLAS   \n",
       "2503  N782NC  1980.0   Fixed wing multi engine  MCDONNELL DOUGLAS   \n",
       "\n",
       "            model  engines  seats  speed         engine  \n",
       "424           150        1      2   90.0  Reciprocating  \n",
       "427          421C        2      8   90.0  Reciprocating  \n",
       "821     PA-31-350        2      8  162.0  Reciprocating  \n",
       "893          310Q        2      6  167.0  Reciprocating  \n",
       "1027         172E        1      4  105.0  Reciprocating  \n",
       "1037       DC-7BF        4    102  232.0  Reciprocating  \n",
       "1190    PA-28-180        1      4  107.0  Reciprocating  \n",
       "1430         206B        1      5  112.0    Turbo-shaft  \n",
       "1480        A185F        1      6  127.0  Reciprocating  \n",
       "1515    PA-31-350        2      8  162.0  Reciprocating  \n",
       "1589   PA-32R-300        1      7  126.0  Reciprocating  \n",
       "1694  OTTER DHC-3        1     16   95.0  Reciprocating  \n",
       "1813      DC-9-51        2    139  432.0      Turbo-jet  \n",
       "1867       65-A90        2      9  202.0     Turbo-prop  \n",
       "1883         172M        1      4  108.0        4 Cycle  \n",
       "2131      DC-9-51        2    139  432.0      Turbo-jet  \n",
       "2309         172N        1      4  105.0  Reciprocating  \n",
       "2402      DC-9-51        2    139  432.0      Turbo-jet  \n",
       "2432      DC-9-51        2    139  432.0      Turbo-jet  \n",
       "2472      DC-9-51        2    139  432.0      Turbo-jet  \n",
       "2483      DC-9-51        2    139  432.0      Turbo-jet  \n",
       "2492      DC-9-51        2    139  432.0      Turbo-jet  \n",
       "2503      DC-9-51        2    139  432.0      Turbo-jet  "
      ]
     },
     "execution_count": 1012,
     "metadata": {},
     "output_type": "execute_result"
    }
   ],
   "source": [
    "pd.read_sql_query(\"\"\"\n",
    "SELECT * FROM planes WHERE speed IS NOT NULL\n",
    "\"\"\", conn)\n",
    "\n",
    "print(np.nan == np.nan)\n",
    "\n",
    "planes.query(\"speed != speed\")\n",
    "planes.loc[pd.notna(planes[\"speed\"]),:]"
   ]
  },
  {
   "cell_type": "code",
   "execution_count": 940,
   "metadata": {},
   "outputs": [
    {
     "data": {
      "text/html": [
       "<div>\n",
       "<style scoped>\n",
       "    .dataframe tbody tr th:only-of-type {\n",
       "        vertical-align: middle;\n",
       "    }\n",
       "\n",
       "    .dataframe tbody tr th {\n",
       "        vertical-align: top;\n",
       "    }\n",
       "\n",
       "    .dataframe thead th {\n",
       "        text-align: right;\n",
       "    }\n",
       "</style>\n",
       "<table border=\"1\" class=\"dataframe\">\n",
       "  <thead>\n",
       "    <tr style=\"text-align: right;\">\n",
       "      <th></th>\n",
       "      <th>index</th>\n",
       "      <th>tailnum</th>\n",
       "    </tr>\n",
       "  </thead>\n",
       "  <tbody>\n",
       "    <tr>\n",
       "      <th>0</th>\n",
       "      <td>875</td>\n",
       "      <td>N361VA</td>\n",
       "    </tr>\n",
       "    <tr>\n",
       "      <th>1</th>\n",
       "      <td>2745</td>\n",
       "      <td>N849VA</td>\n",
       "    </tr>\n",
       "    <tr>\n",
       "      <th>2</th>\n",
       "      <td>2754</td>\n",
       "      <td>N851VA</td>\n",
       "    </tr>\n",
       "    <tr>\n",
       "      <th>3</th>\n",
       "      <td>2757</td>\n",
       "      <td>N852VA</td>\n",
       "    </tr>\n",
       "    <tr>\n",
       "      <th>4</th>\n",
       "      <td>2761</td>\n",
       "      <td>N853VA</td>\n",
       "    </tr>\n",
       "    <tr>\n",
       "      <th>5</th>\n",
       "      <td>2766</td>\n",
       "      <td>N854VA</td>\n",
       "    </tr>\n",
       "    <tr>\n",
       "      <th>6</th>\n",
       "      <td>2769</td>\n",
       "      <td>N855VA</td>\n",
       "    </tr>\n",
       "  </tbody>\n",
       "</table>\n",
       "</div>"
      ],
      "text/plain": [
       "   index tailnum\n",
       "0    875  N361VA\n",
       "1   2745  N849VA\n",
       "2   2754  N851VA\n",
       "3   2757  N852VA\n",
       "4   2761  N853VA\n",
       "5   2766  N854VA\n",
       "6   2769  N855VA"
      ]
     },
     "execution_count": 940,
     "metadata": {},
     "output_type": "execute_result"
    }
   ],
   "source": [
    "pd.read_sql_query(\"\"\"\n",
    "SELECT tailnum FROM planes WHERE seats BETWEEN 150 AND 190 AND year >= 2012\n",
    "\"\"\", conn)\n",
    "\n",
    "planes.query(\"seats >= 150 & seats <= 190 & year >= 2012\")[\"tailnum\"].reset_index()"
   ]
  },
  {
   "cell_type": "code",
   "execution_count": null,
   "metadata": {},
   "outputs": [],
   "source": []
  },
  {
   "cell_type": "code",
   "execution_count": 1015,
   "metadata": {},
   "outputs": [
    {
     "data": {
      "text/html": [
       "<div>\n",
       "<style scoped>\n",
       "    .dataframe tbody tr th:only-of-type {\n",
       "        vertical-align: middle;\n",
       "    }\n",
       "\n",
       "    .dataframe tbody tr th {\n",
       "        vertical-align: top;\n",
       "    }\n",
       "\n",
       "    .dataframe thead th {\n",
       "        text-align: right;\n",
       "    }\n",
       "</style>\n",
       "<table border=\"1\" class=\"dataframe\">\n",
       "  <thead>\n",
       "    <tr style=\"text-align: right;\">\n",
       "      <th></th>\n",
       "      <th>tailnum</th>\n",
       "      <th>year</th>\n",
       "      <th>type</th>\n",
       "      <th>manufacturer</th>\n",
       "      <th>model</th>\n",
       "      <th>engines</th>\n",
       "      <th>seats</th>\n",
       "      <th>speed</th>\n",
       "      <th>engine</th>\n",
       "    </tr>\n",
       "  </thead>\n",
       "  <tbody>\n",
       "    <tr>\n",
       "      <th>0</th>\n",
       "      <td>N206UA</td>\n",
       "      <td>1999.0</td>\n",
       "      <td>Fixed wing multi engine</td>\n",
       "      <td>BOEING</td>\n",
       "      <td>777-222</td>\n",
       "      <td>2</td>\n",
       "      <td>400</td>\n",
       "      <td>NaN</td>\n",
       "      <td>Turbo-fan</td>\n",
       "    </tr>\n",
       "    <tr>\n",
       "      <th>1</th>\n",
       "      <td>N228UA</td>\n",
       "      <td>2002.0</td>\n",
       "      <td>Fixed wing multi engine</td>\n",
       "      <td>BOEING</td>\n",
       "      <td>777-222</td>\n",
       "      <td>2</td>\n",
       "      <td>400</td>\n",
       "      <td>NaN</td>\n",
       "      <td>Turbo-fan</td>\n",
       "    </tr>\n",
       "    <tr>\n",
       "      <th>2</th>\n",
       "      <td>N272AT</td>\n",
       "      <td>NaN</td>\n",
       "      <td>Fixed wing multi engine</td>\n",
       "      <td>BOEING</td>\n",
       "      <td>777-200</td>\n",
       "      <td>2</td>\n",
       "      <td>400</td>\n",
       "      <td>NaN</td>\n",
       "      <td>Turbo-jet</td>\n",
       "    </tr>\n",
       "    <tr>\n",
       "      <th>3</th>\n",
       "      <td>N57016</td>\n",
       "      <td>2000.0</td>\n",
       "      <td>Fixed wing multi engine</td>\n",
       "      <td>BOEING</td>\n",
       "      <td>777-224</td>\n",
       "      <td>2</td>\n",
       "      <td>400</td>\n",
       "      <td>NaN</td>\n",
       "      <td>Turbo-fan</td>\n",
       "    </tr>\n",
       "    <tr>\n",
       "      <th>4</th>\n",
       "      <td>N670US</td>\n",
       "      <td>1990.0</td>\n",
       "      <td>Fixed wing multi engine</td>\n",
       "      <td>BOEING</td>\n",
       "      <td>747-451</td>\n",
       "      <td>4</td>\n",
       "      <td>450</td>\n",
       "      <td>NaN</td>\n",
       "      <td>Turbo-jet</td>\n",
       "    </tr>\n",
       "    <tr>\n",
       "      <th>5</th>\n",
       "      <td>N77012</td>\n",
       "      <td>1999.0</td>\n",
       "      <td>Fixed wing multi engine</td>\n",
       "      <td>BOEING</td>\n",
       "      <td>777-224</td>\n",
       "      <td>2</td>\n",
       "      <td>400</td>\n",
       "      <td>NaN</td>\n",
       "      <td>Turbo-fan</td>\n",
       "    </tr>\n",
       "    <tr>\n",
       "      <th>6</th>\n",
       "      <td>N777UA</td>\n",
       "      <td>1995.0</td>\n",
       "      <td>Fixed wing multi engine</td>\n",
       "      <td>BOEING</td>\n",
       "      <td>777-222</td>\n",
       "      <td>2</td>\n",
       "      <td>400</td>\n",
       "      <td>NaN</td>\n",
       "      <td>Turbo-fan</td>\n",
       "    </tr>\n",
       "    <tr>\n",
       "      <th>7</th>\n",
       "      <td>N78003</td>\n",
       "      <td>1998.0</td>\n",
       "      <td>Fixed wing multi engine</td>\n",
       "      <td>BOEING</td>\n",
       "      <td>777-224</td>\n",
       "      <td>2</td>\n",
       "      <td>400</td>\n",
       "      <td>NaN</td>\n",
       "      <td>Turbo-fan</td>\n",
       "    </tr>\n",
       "    <tr>\n",
       "      <th>8</th>\n",
       "      <td>N78013</td>\n",
       "      <td>1999.0</td>\n",
       "      <td>Fixed wing multi engine</td>\n",
       "      <td>BOEING</td>\n",
       "      <td>777-224</td>\n",
       "      <td>2</td>\n",
       "      <td>400</td>\n",
       "      <td>NaN</td>\n",
       "      <td>Turbo-fan</td>\n",
       "    </tr>\n",
       "    <tr>\n",
       "      <th>9</th>\n",
       "      <td>N787UA</td>\n",
       "      <td>1997.0</td>\n",
       "      <td>Fixed wing multi engine</td>\n",
       "      <td>BOEING</td>\n",
       "      <td>777-222</td>\n",
       "      <td>2</td>\n",
       "      <td>400</td>\n",
       "      <td>NaN</td>\n",
       "      <td>Turbo-fan</td>\n",
       "    </tr>\n",
       "    <tr>\n",
       "      <th>10</th>\n",
       "      <td>N862DA</td>\n",
       "      <td>1999.0</td>\n",
       "      <td>Fixed wing multi engine</td>\n",
       "      <td>BOEING</td>\n",
       "      <td>777-232</td>\n",
       "      <td>2</td>\n",
       "      <td>400</td>\n",
       "      <td>NaN</td>\n",
       "      <td>Turbo-jet</td>\n",
       "    </tr>\n",
       "    <tr>\n",
       "      <th>11</th>\n",
       "      <td>N863DA</td>\n",
       "      <td>1999.0</td>\n",
       "      <td>Fixed wing multi engine</td>\n",
       "      <td>BOEING</td>\n",
       "      <td>777-232</td>\n",
       "      <td>2</td>\n",
       "      <td>400</td>\n",
       "      <td>NaN</td>\n",
       "      <td>Turbo-jet</td>\n",
       "    </tr>\n",
       "    <tr>\n",
       "      <th>12</th>\n",
       "      <td>N865DA</td>\n",
       "      <td>1999.0</td>\n",
       "      <td>Fixed wing multi engine</td>\n",
       "      <td>BOEING</td>\n",
       "      <td>777-232</td>\n",
       "      <td>2</td>\n",
       "      <td>400</td>\n",
       "      <td>NaN</td>\n",
       "      <td>Turbo-jet</td>\n",
       "    </tr>\n",
       "  </tbody>\n",
       "</table>\n",
       "</div>"
      ],
      "text/plain": [
       "   tailnum    year                     type manufacturer    model  engines  \\\n",
       "0   N206UA  1999.0  Fixed wing multi engine       BOEING  777-222        2   \n",
       "1   N228UA  2002.0  Fixed wing multi engine       BOEING  777-222        2   \n",
       "2   N272AT     NaN  Fixed wing multi engine       BOEING  777-200        2   \n",
       "3   N57016  2000.0  Fixed wing multi engine       BOEING  777-224        2   \n",
       "4   N670US  1990.0  Fixed wing multi engine       BOEING  747-451        4   \n",
       "5   N77012  1999.0  Fixed wing multi engine       BOEING  777-224        2   \n",
       "6   N777UA  1995.0  Fixed wing multi engine       BOEING  777-222        2   \n",
       "7   N78003  1998.0  Fixed wing multi engine       BOEING  777-224        2   \n",
       "8   N78013  1999.0  Fixed wing multi engine       BOEING  777-224        2   \n",
       "9   N787UA  1997.0  Fixed wing multi engine       BOEING  777-222        2   \n",
       "10  N862DA  1999.0  Fixed wing multi engine       BOEING  777-232        2   \n",
       "11  N863DA  1999.0  Fixed wing multi engine       BOEING  777-232        2   \n",
       "12  N865DA  1999.0  Fixed wing multi engine       BOEING  777-232        2   \n",
       "\n",
       "    seats  speed     engine  \n",
       "0     400    NaN  Turbo-fan  \n",
       "1     400    NaN  Turbo-fan  \n",
       "2     400    NaN  Turbo-jet  \n",
       "3     400    NaN  Turbo-fan  \n",
       "4     450    NaN  Turbo-jet  \n",
       "5     400    NaN  Turbo-fan  \n",
       "6     400    NaN  Turbo-fan  \n",
       "7     400    NaN  Turbo-fan  \n",
       "8     400    NaN  Turbo-fan  \n",
       "9     400    NaN  Turbo-fan  \n",
       "10    400    NaN  Turbo-jet  \n",
       "11    400    NaN  Turbo-jet  \n",
       "12    400    NaN  Turbo-jet  "
      ]
     },
     "execution_count": 1015,
     "metadata": {},
     "output_type": "execute_result"
    }
   ],
   "source": [
    "pd.read_sql_query(\"\"\"\n",
    "SELECT * FROM planes \n",
    "WHERE manufacturer IN (\"BOEING\", \"AIRBUS\", \"EMBRAER\") AND seats>390\n",
    "\"\"\", conn)\n",
    "\n",
    "planes.query(\"manufacturer in ['BOEING', 'AIRBUS', 'EMBRAER'] and seats >390\")\n",
    "\n",
    "planes.loc[planes.manufacturer.isin(['BOEING', 'AIRBUS', 'EMBRAER']) & (planes.seats > 390)].reset_index(drop=True)"
   ]
  },
  {
   "cell_type": "code",
   "execution_count": 962,
   "metadata": {},
   "outputs": [
    {
     "data": {
      "text/html": [
       "<div>\n",
       "<style scoped>\n",
       "    .dataframe tbody tr th:only-of-type {\n",
       "        vertical-align: middle;\n",
       "    }\n",
       "\n",
       "    .dataframe tbody tr th {\n",
       "        vertical-align: top;\n",
       "    }\n",
       "\n",
       "    .dataframe thead th {\n",
       "        text-align: right;\n",
       "    }\n",
       "</style>\n",
       "<table border=\"1\" class=\"dataframe\">\n",
       "  <thead>\n",
       "    <tr style=\"text-align: right;\">\n",
       "      <th></th>\n",
       "      <th>year</th>\n",
       "      <th>seats</th>\n",
       "    </tr>\n",
       "  </thead>\n",
       "  <tbody>\n",
       "    <tr>\n",
       "      <th>0</th>\n",
       "      <td>2012.0</td>\n",
       "      <td>379</td>\n",
       "    </tr>\n",
       "    <tr>\n",
       "      <th>1</th>\n",
       "      <td>2012.0</td>\n",
       "      <td>377</td>\n",
       "    </tr>\n",
       "    <tr>\n",
       "      <th>2</th>\n",
       "      <td>2012.0</td>\n",
       "      <td>260</td>\n",
       "    </tr>\n",
       "    <tr>\n",
       "      <th>3</th>\n",
       "      <td>2012.0</td>\n",
       "      <td>222</td>\n",
       "    </tr>\n",
       "    <tr>\n",
       "      <th>4</th>\n",
       "      <td>2012.0</td>\n",
       "      <td>200</td>\n",
       "    </tr>\n",
       "    <tr>\n",
       "      <th>5</th>\n",
       "      <td>2012.0</td>\n",
       "      <td>191</td>\n",
       "    </tr>\n",
       "    <tr>\n",
       "      <th>6</th>\n",
       "      <td>2012.0</td>\n",
       "      <td>182</td>\n",
       "    </tr>\n",
       "    <tr>\n",
       "      <th>7</th>\n",
       "      <td>2012.0</td>\n",
       "      <td>149</td>\n",
       "    </tr>\n",
       "    <tr>\n",
       "      <th>8</th>\n",
       "      <td>2012.0</td>\n",
       "      <td>140</td>\n",
       "    </tr>\n",
       "    <tr>\n",
       "      <th>9</th>\n",
       "      <td>2012.0</td>\n",
       "      <td>20</td>\n",
       "    </tr>\n",
       "    <tr>\n",
       "      <th>10</th>\n",
       "      <td>2012.0</td>\n",
       "      <td>5</td>\n",
       "    </tr>\n",
       "    <tr>\n",
       "      <th>11</th>\n",
       "      <td>2013.0</td>\n",
       "      <td>379</td>\n",
       "    </tr>\n",
       "    <tr>\n",
       "      <th>12</th>\n",
       "      <td>2013.0</td>\n",
       "      <td>377</td>\n",
       "    </tr>\n",
       "    <tr>\n",
       "      <th>13</th>\n",
       "      <td>2013.0</td>\n",
       "      <td>222</td>\n",
       "    </tr>\n",
       "    <tr>\n",
       "      <th>14</th>\n",
       "      <td>2013.0</td>\n",
       "      <td>200</td>\n",
       "    </tr>\n",
       "    <tr>\n",
       "      <th>15</th>\n",
       "      <td>2013.0</td>\n",
       "      <td>199</td>\n",
       "    </tr>\n",
       "    <tr>\n",
       "      <th>16</th>\n",
       "      <td>2013.0</td>\n",
       "      <td>191</td>\n",
       "    </tr>\n",
       "    <tr>\n",
       "      <th>17</th>\n",
       "      <td>2013.0</td>\n",
       "      <td>182</td>\n",
       "    </tr>\n",
       "    <tr>\n",
       "      <th>18</th>\n",
       "      <td>2013.0</td>\n",
       "      <td>140</td>\n",
       "    </tr>\n",
       "    <tr>\n",
       "      <th>19</th>\n",
       "      <td>2013.0</td>\n",
       "      <td>95</td>\n",
       "    </tr>\n",
       "    <tr>\n",
       "      <th>20</th>\n",
       "      <td>2013.0</td>\n",
       "      <td>20</td>\n",
       "    </tr>\n",
       "  </tbody>\n",
       "</table>\n",
       "</div>"
      ],
      "text/plain": [
       "      year  seats\n",
       "0   2012.0    379\n",
       "1   2012.0    377\n",
       "2   2012.0    260\n",
       "3   2012.0    222\n",
       "4   2012.0    200\n",
       "5   2012.0    191\n",
       "6   2012.0    182\n",
       "7   2012.0    149\n",
       "8   2012.0    140\n",
       "9   2012.0     20\n",
       "10  2012.0      5\n",
       "11  2013.0    379\n",
       "12  2013.0    377\n",
       "13  2013.0    222\n",
       "14  2013.0    200\n",
       "15  2013.0    199\n",
       "16  2013.0    191\n",
       "17  2013.0    182\n",
       "18  2013.0    140\n",
       "19  2013.0     95\n",
       "20  2013.0     20"
      ]
     },
     "execution_count": 962,
     "metadata": {},
     "output_type": "execute_result"
    }
   ],
   "source": [
    "pd.read_sql_query(\"\"\"\n",
    "SELECT DISTINCT year, seats  FROM planes \n",
    "WHERE year >= 2012 ORDER BY year ASC, seats DESC\n",
    "\"\"\", conn)"
   ]
  },
  {
   "cell_type": "code",
   "execution_count": 1017,
   "metadata": {},
   "outputs": [
    {
     "data": {
      "text/html": [
       "<div>\n",
       "<style scoped>\n",
       "    .dataframe tbody tr th:only-of-type {\n",
       "        vertical-align: middle;\n",
       "    }\n",
       "\n",
       "    .dataframe tbody tr th {\n",
       "        vertical-align: top;\n",
       "    }\n",
       "\n",
       "    .dataframe thead th {\n",
       "        text-align: right;\n",
       "    }\n",
       "</style>\n",
       "<table border=\"1\" class=\"dataframe\">\n",
       "  <thead>\n",
       "    <tr style=\"text-align: right;\">\n",
       "      <th></th>\n",
       "      <th>year</th>\n",
       "      <th>seats</th>\n",
       "    </tr>\n",
       "  </thead>\n",
       "  <tbody>\n",
       "    <tr>\n",
       "      <th>0</th>\n",
       "      <td>2012.0</td>\n",
       "      <td>379</td>\n",
       "    </tr>\n",
       "    <tr>\n",
       "      <th>1</th>\n",
       "      <td>2012.0</td>\n",
       "      <td>377</td>\n",
       "    </tr>\n",
       "    <tr>\n",
       "      <th>2</th>\n",
       "      <td>2012.0</td>\n",
       "      <td>260</td>\n",
       "    </tr>\n",
       "    <tr>\n",
       "      <th>3</th>\n",
       "      <td>2012.0</td>\n",
       "      <td>222</td>\n",
       "    </tr>\n",
       "    <tr>\n",
       "      <th>4</th>\n",
       "      <td>2012.0</td>\n",
       "      <td>200</td>\n",
       "    </tr>\n",
       "    <tr>\n",
       "      <th>5</th>\n",
       "      <td>2012.0</td>\n",
       "      <td>191</td>\n",
       "    </tr>\n",
       "    <tr>\n",
       "      <th>6</th>\n",
       "      <td>2012.0</td>\n",
       "      <td>182</td>\n",
       "    </tr>\n",
       "    <tr>\n",
       "      <th>7</th>\n",
       "      <td>2012.0</td>\n",
       "      <td>149</td>\n",
       "    </tr>\n",
       "    <tr>\n",
       "      <th>8</th>\n",
       "      <td>2012.0</td>\n",
       "      <td>140</td>\n",
       "    </tr>\n",
       "    <tr>\n",
       "      <th>9</th>\n",
       "      <td>2012.0</td>\n",
       "      <td>20</td>\n",
       "    </tr>\n",
       "    <tr>\n",
       "      <th>10</th>\n",
       "      <td>2012.0</td>\n",
       "      <td>5</td>\n",
       "    </tr>\n",
       "    <tr>\n",
       "      <th>11</th>\n",
       "      <td>2013.0</td>\n",
       "      <td>379</td>\n",
       "    </tr>\n",
       "    <tr>\n",
       "      <th>12</th>\n",
       "      <td>2013.0</td>\n",
       "      <td>377</td>\n",
       "    </tr>\n",
       "    <tr>\n",
       "      <th>13</th>\n",
       "      <td>2013.0</td>\n",
       "      <td>222</td>\n",
       "    </tr>\n",
       "    <tr>\n",
       "      <th>14</th>\n",
       "      <td>2013.0</td>\n",
       "      <td>200</td>\n",
       "    </tr>\n",
       "    <tr>\n",
       "      <th>15</th>\n",
       "      <td>2013.0</td>\n",
       "      <td>199</td>\n",
       "    </tr>\n",
       "    <tr>\n",
       "      <th>16</th>\n",
       "      <td>2013.0</td>\n",
       "      <td>191</td>\n",
       "    </tr>\n",
       "    <tr>\n",
       "      <th>17</th>\n",
       "      <td>2013.0</td>\n",
       "      <td>182</td>\n",
       "    </tr>\n",
       "    <tr>\n",
       "      <th>18</th>\n",
       "      <td>2013.0</td>\n",
       "      <td>140</td>\n",
       "    </tr>\n",
       "    <tr>\n",
       "      <th>19</th>\n",
       "      <td>2013.0</td>\n",
       "      <td>95</td>\n",
       "    </tr>\n",
       "    <tr>\n",
       "      <th>20</th>\n",
       "      <td>2013.0</td>\n",
       "      <td>20</td>\n",
       "    </tr>\n",
       "  </tbody>\n",
       "</table>\n",
       "</div>"
      ],
      "text/plain": [
       "      year  seats\n",
       "0   2012.0    379\n",
       "1   2012.0    377\n",
       "2   2012.0    260\n",
       "3   2012.0    222\n",
       "4   2012.0    200\n",
       "5   2012.0    191\n",
       "6   2012.0    182\n",
       "7   2012.0    149\n",
       "8   2012.0    140\n",
       "9   2012.0     20\n",
       "10  2012.0      5\n",
       "11  2013.0    379\n",
       "12  2013.0    377\n",
       "13  2013.0    222\n",
       "14  2013.0    200\n",
       "15  2013.0    199\n",
       "16  2013.0    191\n",
       "17  2013.0    182\n",
       "18  2013.0    140\n",
       "19  2013.0     95\n",
       "20  2013.0     20"
      ]
     },
     "execution_count": 1017,
     "metadata": {},
     "output_type": "execute_result"
    }
   ],
   "source": [
    "# pd.read_sql_query(\"\"\"\n",
    "# SELECT DISTINCT year, seats  FROM planes \n",
    "# WHERE year >= 2012 ORDER BY year ASC, seats DESC\n",
    "# \"\"\", conn)\n",
    "\n",
    "planes.loc[:,[\"year\",\"seats\"]]\\\n",
    ".drop_duplicates()\\\n",
    ".query('year >= 2012')\\\n",
    ".reset_index(drop=True)\\\n",
    ".sort_values(by=[\"year\",\"seats\"],ascending=[True,False])\\\n",
    ".reset_index(drop=True)"
   ]
  },
  {
   "cell_type": "code",
   "execution_count": null,
   "metadata": {},
   "outputs": [],
   "source": []
  },
  {
   "cell_type": "code",
   "execution_count": 972,
   "metadata": {},
   "outputs": [
    {
     "data": {
      "text/html": [
       "<div>\n",
       "<style scoped>\n",
       "    .dataframe tbody tr th:only-of-type {\n",
       "        vertical-align: middle;\n",
       "    }\n",
       "\n",
       "    .dataframe tbody tr th {\n",
       "        vertical-align: top;\n",
       "    }\n",
       "\n",
       "    .dataframe thead th {\n",
       "        text-align: right;\n",
       "    }\n",
       "</style>\n",
       "<table border=\"1\" class=\"dataframe\">\n",
       "  <thead>\n",
       "    <tr style=\"text-align: right;\">\n",
       "      <th></th>\n",
       "      <th>index</th>\n",
       "      <th>year</th>\n",
       "      <th>seats</th>\n",
       "    </tr>\n",
       "  </thead>\n",
       "  <tbody>\n",
       "    <tr>\n",
       "      <th>0</th>\n",
       "      <td>14</td>\n",
       "      <td>2012.0</td>\n",
       "      <td>379</td>\n",
       "    </tr>\n",
       "    <tr>\n",
       "      <th>1</th>\n",
       "      <td>15</td>\n",
       "      <td>2013.0</td>\n",
       "      <td>379</td>\n",
       "    </tr>\n",
       "    <tr>\n",
       "      <th>2</th>\n",
       "      <td>8</td>\n",
       "      <td>2012.0</td>\n",
       "      <td>377</td>\n",
       "    </tr>\n",
       "    <tr>\n",
       "      <th>3</th>\n",
       "      <td>9</td>\n",
       "      <td>2013.0</td>\n",
       "      <td>377</td>\n",
       "    </tr>\n",
       "    <tr>\n",
       "      <th>4</th>\n",
       "      <td>1</td>\n",
       "      <td>2012.0</td>\n",
       "      <td>260</td>\n",
       "    </tr>\n",
       "    <tr>\n",
       "      <th>5</th>\n",
       "      <td>10</td>\n",
       "      <td>2012.0</td>\n",
       "      <td>222</td>\n",
       "    </tr>\n",
       "    <tr>\n",
       "      <th>6</th>\n",
       "      <td>11</td>\n",
       "      <td>2013.0</td>\n",
       "      <td>222</td>\n",
       "    </tr>\n",
       "    <tr>\n",
       "      <th>7</th>\n",
       "      <td>16</td>\n",
       "      <td>2012.0</td>\n",
       "      <td>200</td>\n",
       "    </tr>\n",
       "    <tr>\n",
       "      <th>8</th>\n",
       "      <td>17</td>\n",
       "      <td>2013.0</td>\n",
       "      <td>200</td>\n",
       "    </tr>\n",
       "    <tr>\n",
       "      <th>9</th>\n",
       "      <td>0</td>\n",
       "      <td>2013.0</td>\n",
       "      <td>199</td>\n",
       "    </tr>\n",
       "    <tr>\n",
       "      <th>10</th>\n",
       "      <td>4</td>\n",
       "      <td>2012.0</td>\n",
       "      <td>191</td>\n",
       "    </tr>\n",
       "    <tr>\n",
       "      <th>11</th>\n",
       "      <td>3</td>\n",
       "      <td>2013.0</td>\n",
       "      <td>191</td>\n",
       "    </tr>\n",
       "    <tr>\n",
       "      <th>12</th>\n",
       "      <td>19</td>\n",
       "      <td>2012.0</td>\n",
       "      <td>182</td>\n",
       "    </tr>\n",
       "    <tr>\n",
       "      <th>13</th>\n",
       "      <td>7</td>\n",
       "      <td>2013.0</td>\n",
       "      <td>182</td>\n",
       "    </tr>\n",
       "    <tr>\n",
       "      <th>14</th>\n",
       "      <td>12</td>\n",
       "      <td>2012.0</td>\n",
       "      <td>149</td>\n",
       "    </tr>\n",
       "    <tr>\n",
       "      <th>15</th>\n",
       "      <td>18</td>\n",
       "      <td>2012.0</td>\n",
       "      <td>140</td>\n",
       "    </tr>\n",
       "    <tr>\n",
       "      <th>16</th>\n",
       "      <td>20</td>\n",
       "      <td>2013.0</td>\n",
       "      <td>140</td>\n",
       "    </tr>\n",
       "    <tr>\n",
       "      <th>17</th>\n",
       "      <td>2</td>\n",
       "      <td>2013.0</td>\n",
       "      <td>95</td>\n",
       "    </tr>\n",
       "    <tr>\n",
       "      <th>18</th>\n",
       "      <td>5</td>\n",
       "      <td>2012.0</td>\n",
       "      <td>20</td>\n",
       "    </tr>\n",
       "    <tr>\n",
       "      <th>19</th>\n",
       "      <td>6</td>\n",
       "      <td>2013.0</td>\n",
       "      <td>20</td>\n",
       "    </tr>\n",
       "    <tr>\n",
       "      <th>20</th>\n",
       "      <td>13</td>\n",
       "      <td>2012.0</td>\n",
       "      <td>5</td>\n",
       "    </tr>\n",
       "  </tbody>\n",
       "</table>\n",
       "</div>"
      ],
      "text/plain": [
       "    index    year  seats\n",
       "0      14  2012.0    379\n",
       "1      15  2013.0    379\n",
       "2       8  2012.0    377\n",
       "3       9  2013.0    377\n",
       "4       1  2012.0    260\n",
       "5      10  2012.0    222\n",
       "6      11  2013.0    222\n",
       "7      16  2012.0    200\n",
       "8      17  2013.0    200\n",
       "9       0  2013.0    199\n",
       "10      4  2012.0    191\n",
       "11      3  2013.0    191\n",
       "12     19  2012.0    182\n",
       "13      7  2013.0    182\n",
       "14     12  2012.0    149\n",
       "15     18  2012.0    140\n",
       "16     20  2013.0    140\n",
       "17      2  2013.0     95\n",
       "18      5  2012.0     20\n",
       "19      6  2013.0     20\n",
       "20     13  2012.0      5"
      ]
     },
     "execution_count": 972,
     "metadata": {},
     "output_type": "execute_result"
    }
   ],
   "source": [
    "pd.read_sql_query(\"\"\"\n",
    "SELECT DISTINCT year, seats  FROM planes \n",
    "WHERE year >= 2012 ORDER BY seats DESC, year ASC\n",
    "\"\"\", conn)\n",
    "\n",
    "planes.loc[:,[\"year\",\"seats\"]]\\\n",
    ".drop_duplicates()\\\n",
    ".query('year >= 2012')\\\n",
    ".reset_index(drop=True)\\\n",
    ".sort_values(by=[\"seats\",\"year\"],ascending=[False,True])\\\n",
    ".reset_index()"
   ]
  },
  {
   "cell_type": "code",
   "execution_count": 978,
   "metadata": {},
   "outputs": [
    {
     "data": {
      "text/html": [
       "<div>\n",
       "<style scoped>\n",
       "    .dataframe tbody tr th:only-of-type {\n",
       "        vertical-align: middle;\n",
       "    }\n",
       "\n",
       "    .dataframe tbody tr th {\n",
       "        vertical-align: top;\n",
       "    }\n",
       "\n",
       "    .dataframe thead th {\n",
       "        text-align: right;\n",
       "    }\n",
       "</style>\n",
       "<table border=\"1\" class=\"dataframe\">\n",
       "  <thead>\n",
       "    <tr style=\"text-align: right;\">\n",
       "      <th></th>\n",
       "      <th>manufacturer</th>\n",
       "      <th>COUNT(*)</th>\n",
       "    </tr>\n",
       "  </thead>\n",
       "  <tbody>\n",
       "    <tr>\n",
       "      <th>0</th>\n",
       "      <td>AIRBUS</td>\n",
       "      <td>66</td>\n",
       "    </tr>\n",
       "    <tr>\n",
       "      <th>1</th>\n",
       "      <td>AIRBUS INDUSTRIE</td>\n",
       "      <td>4</td>\n",
       "    </tr>\n",
       "    <tr>\n",
       "      <th>2</th>\n",
       "      <td>BOEING</td>\n",
       "      <td>225</td>\n",
       "    </tr>\n",
       "  </tbody>\n",
       "</table>\n",
       "</div>"
      ],
      "text/plain": [
       "       manufacturer  COUNT(*)\n",
       "0            AIRBUS        66\n",
       "1  AIRBUS INDUSTRIE         4\n",
       "2            BOEING       225"
      ]
     },
     "execution_count": 978,
     "metadata": {},
     "output_type": "execute_result"
    }
   ],
   "source": [
    "pd.read_sql_query(\"\"\"\n",
    "SELECT manufacturer, COUNT(*) FROM planes \n",
    "WHERE seats > 200 GROUP BY manufacturer\n",
    "\"\"\", conn)"
   ]
  },
  {
   "cell_type": "code",
   "execution_count": 982,
   "metadata": {},
   "outputs": [
    {
     "data": {
      "text/html": [
       "<div>\n",
       "<style scoped>\n",
       "    .dataframe tbody tr th:only-of-type {\n",
       "        vertical-align: middle;\n",
       "    }\n",
       "\n",
       "    .dataframe tbody tr th {\n",
       "        vertical-align: top;\n",
       "    }\n",
       "\n",
       "    .dataframe thead th {\n",
       "        text-align: right;\n",
       "    }\n",
       "</style>\n",
       "<table border=\"1\" class=\"dataframe\">\n",
       "  <thead>\n",
       "    <tr style=\"text-align: right;\">\n",
       "      <th></th>\n",
       "      <th>count (*)</th>\n",
       "    </tr>\n",
       "    <tr>\n",
       "      <th>manufacturer</th>\n",
       "      <th></th>\n",
       "    </tr>\n",
       "  </thead>\n",
       "  <tbody>\n",
       "    <tr>\n",
       "      <th>AIRBUS</th>\n",
       "      <td>66</td>\n",
       "    </tr>\n",
       "    <tr>\n",
       "      <th>AIRBUS INDUSTRIE</th>\n",
       "      <td>4</td>\n",
       "    </tr>\n",
       "    <tr>\n",
       "      <th>BOEING</th>\n",
       "      <td>225</td>\n",
       "    </tr>\n",
       "  </tbody>\n",
       "</table>\n",
       "</div>"
      ],
      "text/plain": [
       "                  count (*)\n",
       "manufacturer               \n",
       "AIRBUS                   66\n",
       "AIRBUS INDUSTRIE          4\n",
       "BOEING                  225"
      ]
     },
     "execution_count": 982,
     "metadata": {},
     "output_type": "execute_result"
    }
   ],
   "source": [
    "# pd.read_sql_query(\"\"\"\n",
    "# SELECT manufacturer, COUNT(*) FROM planes \n",
    "# WHERE seats > 200 GROUP BY manufacturer\n",
    "# \"\"\", conn)\n",
    "\n",
    "pd.DataFrame(planes.query(\"seats > 200\").groupby(['manufacturer']).size().rename(\"count (*)\").reindex())"
   ]
  },
  {
   "cell_type": "code",
   "execution_count": 983,
   "metadata": {},
   "outputs": [
    {
     "data": {
      "text/html": [
       "<div>\n",
       "<style scoped>\n",
       "    .dataframe tbody tr th:only-of-type {\n",
       "        vertical-align: middle;\n",
       "    }\n",
       "\n",
       "    .dataframe tbody tr th {\n",
       "        vertical-align: top;\n",
       "    }\n",
       "\n",
       "    .dataframe thead th {\n",
       "        text-align: right;\n",
       "    }\n",
       "</style>\n",
       "<table border=\"1\" class=\"dataframe\">\n",
       "  <thead>\n",
       "    <tr style=\"text-align: right;\">\n",
       "      <th></th>\n",
       "      <th>manufacturer</th>\n",
       "      <th>COUNT(*)</th>\n",
       "    </tr>\n",
       "  </thead>\n",
       "  <tbody>\n",
       "    <tr>\n",
       "      <th>0</th>\n",
       "      <td>AIRBUS</td>\n",
       "      <td>336</td>\n",
       "    </tr>\n",
       "    <tr>\n",
       "      <th>1</th>\n",
       "      <td>AIRBUS INDUSTRIE</td>\n",
       "      <td>400</td>\n",
       "    </tr>\n",
       "    <tr>\n",
       "      <th>2</th>\n",
       "      <td>BOEING</td>\n",
       "      <td>1630</td>\n",
       "    </tr>\n",
       "    <tr>\n",
       "      <th>3</th>\n",
       "      <td>BOMBARDIER INC</td>\n",
       "      <td>368</td>\n",
       "    </tr>\n",
       "    <tr>\n",
       "      <th>4</th>\n",
       "      <td>EMBRAER</td>\n",
       "      <td>299</td>\n",
       "    </tr>\n",
       "    <tr>\n",
       "      <th>5</th>\n",
       "      <td>MCDONNELL DOUGLAS</td>\n",
       "      <td>120</td>\n",
       "    </tr>\n",
       "    <tr>\n",
       "      <th>6</th>\n",
       "      <td>MCDONNELL DOUGLAS AIRCRAFT CO</td>\n",
       "      <td>103</td>\n",
       "    </tr>\n",
       "    <tr>\n",
       "      <th>7</th>\n",
       "      <td>MCDONNELL DOUGLAS CORPORATION</td>\n",
       "      <td>14</td>\n",
       "    </tr>\n",
       "  </tbody>\n",
       "</table>\n",
       "</div>"
      ],
      "text/plain": [
       "                    manufacturer  COUNT(*)\n",
       "0                         AIRBUS       336\n",
       "1               AIRBUS INDUSTRIE       400\n",
       "2                         BOEING      1630\n",
       "3                 BOMBARDIER INC       368\n",
       "4                        EMBRAER       299\n",
       "5              MCDONNELL DOUGLAS       120\n",
       "6  MCDONNELL DOUGLAS AIRCRAFT CO       103\n",
       "7  MCDONNELL DOUGLAS CORPORATION        14"
      ]
     },
     "execution_count": 983,
     "metadata": {},
     "output_type": "execute_result"
    }
   ],
   "source": [
    "pd.read_sql_query(\"\"\"\n",
    "SELECT manufacturer, COUNT(*) FROM planes \n",
    "GROUP BY manufacturer HAVING COUNT(*) > 10\n",
    "\"\"\", conn)"
   ]
  },
  {
   "cell_type": "code",
   "execution_count": 995,
   "metadata": {},
   "outputs": [
    {
     "data": {
      "text/html": [
       "<div>\n",
       "<style scoped>\n",
       "    .dataframe tbody tr th:only-of-type {\n",
       "        vertical-align: middle;\n",
       "    }\n",
       "\n",
       "    .dataframe tbody tr th {\n",
       "        vertical-align: top;\n",
       "    }\n",
       "\n",
       "    .dataframe thead th {\n",
       "        text-align: right;\n",
       "    }\n",
       "</style>\n",
       "<table border=\"1\" class=\"dataframe\">\n",
       "  <thead>\n",
       "    <tr style=\"text-align: right;\">\n",
       "      <th></th>\n",
       "      <th>count</th>\n",
       "    </tr>\n",
       "    <tr>\n",
       "      <th>manufacturer</th>\n",
       "      <th></th>\n",
       "    </tr>\n",
       "  </thead>\n",
       "  <tbody>\n",
       "    <tr>\n",
       "      <th>AIRBUS</th>\n",
       "      <td>336</td>\n",
       "    </tr>\n",
       "    <tr>\n",
       "      <th>AIRBUS INDUSTRIE</th>\n",
       "      <td>400</td>\n",
       "    </tr>\n",
       "    <tr>\n",
       "      <th>BOEING</th>\n",
       "      <td>1630</td>\n",
       "    </tr>\n",
       "    <tr>\n",
       "      <th>BOMBARDIER INC</th>\n",
       "      <td>368</td>\n",
       "    </tr>\n",
       "    <tr>\n",
       "      <th>EMBRAER</th>\n",
       "      <td>299</td>\n",
       "    </tr>\n",
       "    <tr>\n",
       "      <th>MCDONNELL DOUGLAS</th>\n",
       "      <td>120</td>\n",
       "    </tr>\n",
       "    <tr>\n",
       "      <th>MCDONNELL DOUGLAS AIRCRAFT CO</th>\n",
       "      <td>103</td>\n",
       "    </tr>\n",
       "    <tr>\n",
       "      <th>MCDONNELL DOUGLAS CORPORATION</th>\n",
       "      <td>14</td>\n",
       "    </tr>\n",
       "  </tbody>\n",
       "</table>\n",
       "</div>"
      ],
      "text/plain": [
       "                               count\n",
       "manufacturer                        \n",
       "AIRBUS                           336\n",
       "AIRBUS INDUSTRIE                 400\n",
       "BOEING                          1630\n",
       "BOMBARDIER INC                   368\n",
       "EMBRAER                          299\n",
       "MCDONNELL DOUGLAS                120\n",
       "MCDONNELL DOUGLAS AIRCRAFT CO    103\n",
       "MCDONNELL DOUGLAS CORPORATION     14"
      ]
     },
     "execution_count": 995,
     "metadata": {},
     "output_type": "execute_result"
    }
   ],
   "source": [
    "# pd.read_sql_query(\"\"\"\n",
    "# SELECT manufacturer, COUNT(*) FROM planes \n",
    "# GROUP BY manufacturer HAVING COUNT(*) > 10\n",
    "# \"\"\", conn)\n",
    "pd.DataFrame(\n",
    "planes\\\n",
    ".groupby(['manufacturer'])\\\n",
    ".size().rename(\"count\")\\\n",
    ".reindex()\\\n",
    ").query('count > 10')\n",
    "\n"
   ]
  },
  {
   "cell_type": "code",
   "execution_count": 996,
   "metadata": {},
   "outputs": [
    {
     "data": {
      "text/html": [
       "<div>\n",
       "<style scoped>\n",
       "    .dataframe tbody tr th:only-of-type {\n",
       "        vertical-align: middle;\n",
       "    }\n",
       "\n",
       "    .dataframe tbody tr th {\n",
       "        vertical-align: top;\n",
       "    }\n",
       "\n",
       "    .dataframe thead th {\n",
       "        text-align: right;\n",
       "    }\n",
       "</style>\n",
       "<table border=\"1\" class=\"dataframe\">\n",
       "  <thead>\n",
       "    <tr style=\"text-align: right;\">\n",
       "      <th></th>\n",
       "      <th>manufacturer</th>\n",
       "      <th>COUNT(*)</th>\n",
       "    </tr>\n",
       "  </thead>\n",
       "  <tbody>\n",
       "    <tr>\n",
       "      <th>0</th>\n",
       "      <td>AIRBUS</td>\n",
       "      <td>66</td>\n",
       "    </tr>\n",
       "    <tr>\n",
       "      <th>1</th>\n",
       "      <td>BOEING</td>\n",
       "      <td>225</td>\n",
       "    </tr>\n",
       "  </tbody>\n",
       "</table>\n",
       "</div>"
      ],
      "text/plain": [
       "  manufacturer  COUNT(*)\n",
       "0       AIRBUS        66\n",
       "1       BOEING       225"
      ]
     },
     "execution_count": 996,
     "metadata": {},
     "output_type": "execute_result"
    }
   ],
   "source": [
    "pd.read_sql_query(\"\"\"\n",
    "SELECT manufacturer, COUNT(*) FROM planes \n",
    "WHERE seats > 200 GROUP BY manufacturer HAVING COUNT(*) > 10\n",
    "\"\"\", conn)"
   ]
  },
  {
   "cell_type": "code",
   "execution_count": 1024,
   "metadata": {},
   "outputs": [
    {
     "data": {
      "text/html": [
       "<div>\n",
       "<style scoped>\n",
       "    .dataframe tbody tr th:only-of-type {\n",
       "        vertical-align: middle;\n",
       "    }\n",
       "\n",
       "    .dataframe tbody tr th {\n",
       "        vertical-align: top;\n",
       "    }\n",
       "\n",
       "    .dataframe thead th {\n",
       "        text-align: right;\n",
       "    }\n",
       "</style>\n",
       "<table border=\"1\" class=\"dataframe\">\n",
       "  <thead>\n",
       "    <tr style=\"text-align: right;\">\n",
       "      <th></th>\n",
       "      <th>manufacturer</th>\n",
       "      <th>count</th>\n",
       "    </tr>\n",
       "  </thead>\n",
       "  <tbody>\n",
       "    <tr>\n",
       "      <th>0</th>\n",
       "      <td>AIRBUS</td>\n",
       "      <td>66</td>\n",
       "    </tr>\n",
       "    <tr>\n",
       "      <th>1</th>\n",
       "      <td>BOEING</td>\n",
       "      <td>225</td>\n",
       "    </tr>\n",
       "  </tbody>\n",
       "</table>\n",
       "</div>"
      ],
      "text/plain": [
       "  manufacturer  count\n",
       "0       AIRBUS     66\n",
       "1       BOEING    225"
      ]
     },
     "execution_count": 1024,
     "metadata": {},
     "output_type": "execute_result"
    }
   ],
   "source": [
    "# pd.read_sql_query(\"\"\"\n",
    "# SELECT manufacturer, COUNT(*) FROM planes \n",
    "# WHERE seats > 200 GROUP BY manufacturer HAVING COUNT(*) > 10\n",
    "# \"\"\", conn)\n",
    "\n",
    "pd.DataFrame(planes.query('seats > 200').groupby('manufacturer').size().rename('count')).query('count > 10')\n",
    "\n",
    "planes\\\n",
    ".query('seats > 200')\\\n",
    ".groupby('manufacturer')\\\n",
    ".size().rename('count')\\\n",
    ".reset_index()\\\n",
    ".query('count > 10')\\\n",
    ".reset_index(drop=True)"
   ]
  },
  {
   "cell_type": "code",
   "execution_count": null,
   "metadata": {},
   "outputs": [],
   "source": []
  },
  {
   "cell_type": "code",
   "execution_count": 1001,
   "metadata": {},
   "outputs": [
    {
     "data": {
      "text/html": [
       "<div>\n",
       "<style scoped>\n",
       "    .dataframe tbody tr th:only-of-type {\n",
       "        vertical-align: middle;\n",
       "    }\n",
       "\n",
       "    .dataframe tbody tr th {\n",
       "        vertical-align: top;\n",
       "    }\n",
       "\n",
       "    .dataframe thead th {\n",
       "        text-align: right;\n",
       "    }\n",
       "</style>\n",
       "<table border=\"1\" class=\"dataframe\">\n",
       "  <thead>\n",
       "    <tr style=\"text-align: right;\">\n",
       "      <th></th>\n",
       "      <th>manufacturer</th>\n",
       "      <th>howmany</th>\n",
       "    </tr>\n",
       "  </thead>\n",
       "  <tbody>\n",
       "    <tr>\n",
       "      <th>0</th>\n",
       "      <td>BOEING</td>\n",
       "      <td>1630</td>\n",
       "    </tr>\n",
       "    <tr>\n",
       "      <th>1</th>\n",
       "      <td>AIRBUS INDUSTRIE</td>\n",
       "      <td>400</td>\n",
       "    </tr>\n",
       "    <tr>\n",
       "      <th>2</th>\n",
       "      <td>BOMBARDIER INC</td>\n",
       "      <td>368</td>\n",
       "    </tr>\n",
       "    <tr>\n",
       "      <th>3</th>\n",
       "      <td>AIRBUS</td>\n",
       "      <td>336</td>\n",
       "    </tr>\n",
       "    <tr>\n",
       "      <th>4</th>\n",
       "      <td>EMBRAER</td>\n",
       "      <td>299</td>\n",
       "    </tr>\n",
       "  </tbody>\n",
       "</table>\n",
       "</div>"
      ],
      "text/plain": [
       "       manufacturer  howmany\n",
       "0            BOEING     1630\n",
       "1  AIRBUS INDUSTRIE      400\n",
       "2    BOMBARDIER INC      368\n",
       "3            AIRBUS      336\n",
       "4           EMBRAER      299"
      ]
     },
     "execution_count": 1001,
     "metadata": {},
     "output_type": "execute_result"
    }
   ],
   "source": [
    "pd.read_sql_query(\"\"\"\n",
    "SELECT manufacturer, COUNT(*) AS howmany FROM planes \n",
    "GROUP BY manufacturer ORDER BY howmany DESC LIMIT 5\n",
    "\"\"\", conn)"
   ]
  },
  {
   "cell_type": "code",
   "execution_count": 1008,
   "metadata": {},
   "outputs": [
    {
     "data": {
      "text/html": [
       "<div>\n",
       "<style scoped>\n",
       "    .dataframe tbody tr th:only-of-type {\n",
       "        vertical-align: middle;\n",
       "    }\n",
       "\n",
       "    .dataframe tbody tr th {\n",
       "        vertical-align: top;\n",
       "    }\n",
       "\n",
       "    .dataframe thead th {\n",
       "        text-align: right;\n",
       "    }\n",
       "</style>\n",
       "<table border=\"1\" class=\"dataframe\">\n",
       "  <thead>\n",
       "    <tr style=\"text-align: right;\">\n",
       "      <th></th>\n",
       "      <th>howmany</th>\n",
       "    </tr>\n",
       "    <tr>\n",
       "      <th>manufacturer</th>\n",
       "      <th></th>\n",
       "    </tr>\n",
       "  </thead>\n",
       "  <tbody>\n",
       "    <tr>\n",
       "      <th>BOEING</th>\n",
       "      <td>1630</td>\n",
       "    </tr>\n",
       "    <tr>\n",
       "      <th>AIRBUS INDUSTRIE</th>\n",
       "      <td>400</td>\n",
       "    </tr>\n",
       "    <tr>\n",
       "      <th>BOMBARDIER INC</th>\n",
       "      <td>368</td>\n",
       "    </tr>\n",
       "    <tr>\n",
       "      <th>AIRBUS</th>\n",
       "      <td>336</td>\n",
       "    </tr>\n",
       "    <tr>\n",
       "      <th>EMBRAER</th>\n",
       "      <td>299</td>\n",
       "    </tr>\n",
       "  </tbody>\n",
       "</table>\n",
       "</div>"
      ],
      "text/plain": [
       "                  howmany\n",
       "manufacturer             \n",
       "BOEING               1630\n",
       "AIRBUS INDUSTRIE      400\n",
       "BOMBARDIER INC        368\n",
       "AIRBUS                336\n",
       "EMBRAER               299"
      ]
     },
     "execution_count": 1008,
     "metadata": {},
     "output_type": "execute_result"
    }
   ],
   "source": [
    "# pd.read_sql_query(\"\"\"\n",
    "# SELECT manufacturer, COUNT(*) AS howmany FROM planes \n",
    "# GROUP BY manufacturer ORDER BY howmany DESC LIMIT 5\n",
    "# \"\"\", conn)\n",
    "\n",
    "pd.DataFrame(planes.groupby(['manufacturer'])\\\n",
    "             .size().rename('howmany'))\\\n",
    "            .sort_values(['howmany'], ascending=False)\\\n",
    ".head(5)"
   ]
  },
  {
   "cell_type": "code",
   "execution_count": 1029,
   "metadata": {},
   "outputs": [
    {
     "data": {
      "text/html": [
       "<div>\n",
       "<style scoped>\n",
       "    .dataframe tbody tr th:only-of-type {\n",
       "        vertical-align: middle;\n",
       "    }\n",
       "\n",
       "    .dataframe tbody tr th {\n",
       "        vertical-align: top;\n",
       "    }\n",
       "\n",
       "    .dataframe thead th {\n",
       "        text-align: right;\n",
       "    }\n",
       "</style>\n",
       "<table border=\"1\" class=\"dataframe\">\n",
       "  <thead>\n",
       "    <tr style=\"text-align: right;\">\n",
       "      <th></th>\n",
       "      <th>manufacturer</th>\n",
       "      <th>howmany</th>\n",
       "    </tr>\n",
       "  </thead>\n",
       "  <tbody>\n",
       "    <tr>\n",
       "      <th>0</th>\n",
       "      <td>BOEING</td>\n",
       "      <td>1630</td>\n",
       "    </tr>\n",
       "    <tr>\n",
       "      <th>1</th>\n",
       "      <td>AIRBUS INDUSTRIE</td>\n",
       "      <td>400</td>\n",
       "    </tr>\n",
       "    <tr>\n",
       "      <th>2</th>\n",
       "      <td>BOMBARDIER INC</td>\n",
       "      <td>368</td>\n",
       "    </tr>\n",
       "    <tr>\n",
       "      <th>3</th>\n",
       "      <td>AIRBUS</td>\n",
       "      <td>336</td>\n",
       "    </tr>\n",
       "    <tr>\n",
       "      <th>4</th>\n",
       "      <td>EMBRAER</td>\n",
       "      <td>299</td>\n",
       "    </tr>\n",
       "  </tbody>\n",
       "</table>\n",
       "</div>"
      ],
      "text/plain": [
       "       manufacturer  howmany\n",
       "0            BOEING     1630\n",
       "1  AIRBUS INDUSTRIE      400\n",
       "2    BOMBARDIER INC      368\n",
       "3            AIRBUS      336\n",
       "4           EMBRAER      299"
      ]
     },
     "execution_count": 1029,
     "metadata": {},
     "output_type": "execute_result"
    }
   ],
   "source": [
    "planes.groupby(['manufacturer'])\\\n",
    "             .size().rename('howmany')\\\n",
    ".nlargest(5)\\\n",
    ".reset_index()"
   ]
  }
 ],
 "metadata": {
  "kernelspec": {
   "display_name": "Python 3",
   "language": "python",
   "name": "python3"
  },
  "language_info": {
   "codemirror_mode": {
    "name": "ipython",
    "version": 3
   },
   "file_extension": ".py",
   "mimetype": "text/x-python",
   "name": "python",
   "nbconvert_exporter": "python",
   "pygments_lexer": "ipython3",
   "version": "3.6.5"
  }
 },
 "nbformat": 4,
 "nbformat_minor": 2
}
