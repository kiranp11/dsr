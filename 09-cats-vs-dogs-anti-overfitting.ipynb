{
 "cells": [
  {
   "cell_type": "markdown",
   "metadata": {},
   "source": [
    "### Cats vs Dogs - CNN with ImageAugmentation and Dropout to avoid overfitting"
   ]
  },
  {
   "cell_type": "code",
   "execution_count": 1,
   "metadata": {},
   "outputs": [
    {
     "name": "stdout",
     "output_type": "stream",
     "text": [
      "cats_vs_dogs_small : 3\n",
      "cats_vs_dogs_small/train : 2\n",
      "cats_vs_dogs_small/validation : 2\n",
      "cats_vs_dogs_small/test : 2\n",
      "cats_vs_dogs_small/train/cats : 1000\n",
      "cats_vs_dogs_small/train/dogs : 1000\n",
      "cats_vs_dogs_small/validation/cats : 500\n",
      "cats_vs_dogs_small/validation/dogs : 500\n",
      "cats_vs_dogs_small/test/cats : 500\n",
      "cats_vs_dogs_small/test/dogs : 500\n",
      "Done.\n"
     ]
    }
   ],
   "source": [
    "import os, shutil\n",
    "\n",
    "original_dataset_dir = \"cats_vs_dogs/train\"\n",
    "\n",
    "dirs = []\n",
    "\n",
    "base_dir = \"cats_vs_dogs_small\"\n",
    "dirs.append(base_dir)\n",
    "\n",
    "train_dir = os.path.join(base_dir, \"train\")\n",
    "dirs.append(train_dir)\n",
    "validation_dir = os.path.join(base_dir, \"validation\")\n",
    "dirs.append(validation_dir)\n",
    "test_dir = os.path.join(base_dir, \"test\")\n",
    "dirs.append(test_dir)\n",
    "\n",
    "train_cats_dir = os.path.join(train_dir, \"cats\")\n",
    "dirs.append(train_cats_dir)\n",
    "train_dogs_dir = os.path.join(train_dir, \"dogs\")\n",
    "dirs.append(train_dogs_dir)\n",
    "\n",
    "validation_cats_dir = os.path.join(validation_dir, \"cats\")\n",
    "dirs.append(validation_cats_dir)\n",
    "validation_dogs_dir = os.path.join(validation_dir, \"dogs\")\n",
    "dirs.append(validation_dogs_dir)\n",
    "\n",
    "test_cats_dir = os.path.join(test_dir, \"cats\")\n",
    "dirs.append(test_cats_dir)\n",
    "test_dogs_dir = os.path.join(test_dir, \"dogs\")\n",
    "dirs.append(test_dogs_dir)\n",
    "\n",
    "for directory in dirs:\n",
    "    if not os.path.exists(directory):\n",
    "       os.mkdir(directory)\n",
    "    \n",
    "fnames = [\"cat.{}.jpg\".format(i) for i in range(1000)]\n",
    "for fname in fnames:\n",
    "    src = os.path.join(original_dataset_dir, fname)\n",
    "    dest = os.path.join(train_cats_dir, fname)\n",
    "    shutil.copy(src, dest)\n",
    "\n",
    "fnames = [\"cat.{}.jpg\".format(i) for i in range(1000, 1500)]\n",
    "for fname in fnames:\n",
    "    src = os.path.join(original_dataset_dir, fname)\n",
    "    dest = os.path.join(validation_cats_dir, fname)\n",
    "    shutil.copy(src, dest)\n",
    "\n",
    "fnames = [\"cat.{}.jpg\".format(i) for i in range(1500, 2000)]\n",
    "for fname in fnames:\n",
    "    src = os.path.join(original_dataset_dir, fname)\n",
    "    dest = os.path.join(test_cats_dir, fname)\n",
    "    shutil.copy(src, dest)\n",
    "   \n",
    "fnames = [\"dog.{}.jpg\".format(i) for i in range(1000)]\n",
    "for fname in fnames:\n",
    "    src = os.path.join(original_dataset_dir, fname)\n",
    "    dest = os.path.join(train_dogs_dir, fname)\n",
    "    shutil.copy(src, dest)\n",
    "\n",
    "fnames = [\"dog.{}.jpg\".format(i) for i in range(1000, 1500)]\n",
    "for fname in fnames:\n",
    "    src = os.path.join(original_dataset_dir, fname)\n",
    "    dest = os.path.join(validation_dogs_dir, fname)\n",
    "    shutil.copy(src, dest)\n",
    "\n",
    "fnames = [\"dog.{}.jpg\".format(i) for i in range(1500, 2000)]\n",
    "for fname in fnames:\n",
    "    src = os.path.join(original_dataset_dir, fname)\n",
    "    dest = os.path.join(test_dogs_dir, fname)\n",
    "    shutil.copy(src, dest)\n",
    "\n",
    "for directory in dirs:\n",
    "    print(directory, \":\", len(os.listdir(directory)))\n",
    "    \n",
    "print(\"Done.\")"
   ]
  },
  {
   "cell_type": "code",
   "execution_count": 7,
   "metadata": {},
   "outputs": [],
   "source": [
    "import os, shutil\n",
    "original_dataset_dir = \"cats_vs_dogs/train\"\n",
    "\n",
    "dirs = []\n",
    "\n",
    "base_dir = \"cats_vs_dogs_small\"\n",
    "dirs.append(base_dir)\n",
    "\n",
    "train_dir = os.path.join(base_dir, \"train\")\n",
    "dirs.append(train_dir)\n",
    "validation_dir = os.path.join(base_dir, \"validation\")\n",
    "dirs.append(validation_dir)\n",
    "test_dir = os.path.join(base_dir, \"test\")\n",
    "dirs.append(test_dir)\n",
    "\n",
    "train_cats_dir = os.path.join(train_dir, \"cats\")\n",
    "dirs.append(train_cats_dir)\n",
    "train_dogs_dir = os.path.join(train_dir, \"dogs\")\n",
    "dirs.append(train_dogs_dir)\n",
    "\n",
    "validation_cats_dir = os.path.join(validation_dir, \"cats\")\n",
    "dirs.append(validation_cats_dir)\n",
    "validation_dogs_dir = os.path.join(validation_dir, \"dogs\")\n",
    "dirs.append(validation_dogs_dir)\n",
    "\n",
    "test_cats_dir = os.path.join(test_dir, \"cats\")\n",
    "dirs.append(test_cats_dir)\n",
    "test_dogs_dir = os.path.join(test_dir, \"dogs\")\n",
    "dirs.append(test_dogs_dir)"
   ]
  },
  {
   "cell_type": "code",
   "execution_count": 1,
   "metadata": {},
   "outputs": [
    {
     "name": "stderr",
     "output_type": "stream",
     "text": [
      "Using TensorFlow backend.\n"
     ]
    },
    {
     "name": "stdout",
     "output_type": "stream",
     "text": [
      "_________________________________________________________________\n",
      "Layer (type)                 Output Shape              Param #   \n",
      "=================================================================\n",
      "conv2d_1 (Conv2D)            (None, 148, 148, 32)      896       \n",
      "_________________________________________________________________\n",
      "max_pooling2d_1 (MaxPooling2 (None, 74, 74, 32)        0         \n",
      "_________________________________________________________________\n",
      "conv2d_2 (Conv2D)            (None, 72, 72, 64)        18496     \n",
      "_________________________________________________________________\n",
      "max_pooling2d_2 (MaxPooling2 (None, 36, 36, 64)        0         \n",
      "_________________________________________________________________\n",
      "conv2d_3 (Conv2D)            (None, 34, 34, 128)       73856     \n",
      "_________________________________________________________________\n",
      "max_pooling2d_3 (MaxPooling2 (None, 17, 17, 128)       0         \n",
      "_________________________________________________________________\n",
      "conv2d_4 (Conv2D)            (None, 15, 15, 128)       147584    \n",
      "_________________________________________________________________\n",
      "max_pooling2d_4 (MaxPooling2 (None, 7, 7, 128)         0         \n",
      "_________________________________________________________________\n",
      "flatten_1 (Flatten)          (None, 6272)              0         \n",
      "_________________________________________________________________\n",
      "dropout_1 (Dropout)          (None, 6272)              0         \n",
      "_________________________________________________________________\n",
      "dense_1 (Dense)              (None, 512)               3211776   \n",
      "_________________________________________________________________\n",
      "dense_2 (Dense)              (None, 1)                 513       \n",
      "=================================================================\n",
      "Total params: 3,453,121\n",
      "Trainable params: 3,453,121\n",
      "Non-trainable params: 0\n",
      "_________________________________________________________________\n"
     ]
    }
   ],
   "source": [
    "from keras import models\n",
    "from keras import layers\n",
    "from keras import optimizers\n",
    "\n",
    "model = models.Sequential()\n",
    "model.add(layers.Conv2D(\n",
    "    32, (3, 3), \n",
    "    activation=\"relu\", \n",
    "    input_shape=(150, 150, 3)))\n",
    "model.add(layers.MaxPooling2D((2, 2)))\n",
    "model.add(layers.Conv2D(64, (3, 3), activation=\"relu\"))\n",
    "model.add(layers.MaxPooling2D((2, 2)))\n",
    "model.add(layers.Conv2D(128, (3, 3), activation=\"relu\"))\n",
    "model.add(layers.MaxPooling2D((2, 2)))\n",
    "model.add(layers.Conv2D(128, (3, 3), activation=\"relu\"))\n",
    "model.add(layers.MaxPooling2D((2, 2)))\n",
    "model.add(layers.Flatten())\n",
    "\n",
    "model.add(layers.Dropout(0.5))\n",
    "\n",
    "model.add(layers.Dense(512, activation=\"relu\"))\n",
    "model.add(layers.Dense(1, activation=\"sigmoid\"))\n",
    "\n",
    "model.summary()\n",
    "\n",
    "model.compile(\n",
    "    optimizer=optimizers.RMSprop(lr=1e-4),\n",
    "    loss=\"binary_crossentropy\",\n",
    "    metrics=[\"acc\"]\n",
    ")"
   ]
  },
  {
   "cell_type": "code",
   "execution_count": 9,
   "metadata": {},
   "outputs": [
    {
     "name": "stdout",
     "output_type": "stream",
     "text": [
      "Found 2000 images belonging to 2 classes.\n",
      "Found 1000 images belonging to 2 classes.\n"
     ]
    }
   ],
   "source": [
    "## data generator: something that grabs something from somewhere: does data yield from dataset and rescaling\n",
    "from keras.preprocessing.image import ImageDataGenerator\n",
    "\n",
    "train_datagen=ImageDataGenerator(\n",
    "    rescale=1./255,\n",
    "    rotation_range=40, #Data augmentation\n",
    "    width_shift_range=0.2,\n",
    "    height_shift_range=0.2,\n",
    "    shear_range=0.2,\n",
    "    zoom_range=0.2,\n",
    "    horizontal_flip=True\n",
    ") \n",
    "\n",
    "validation_datagen=ImageDataGenerator(rescale=1./255)\n",
    "\n",
    "train_generator=train_datagen.flow_from_directory(\n",
    "                train_dir, #directory of the training set, with a subfolder for each class (here cats and dogs)\n",
    "                target_size=(150,150),\n",
    "                batch_size=20,\n",
    "                class_mode=\"binary\")\n",
    "\n",
    "validation_generator=validation_datagen.flow_from_directory(\n",
    "                    validation_dir,\n",
    "                    target_size=(150,150),\n",
    "                    batch_size=20,\n",
    "                    class_mode=\"binary\")"
   ]
  },
  {
   "cell_type": "code",
   "execution_count": 10,
   "metadata": {},
   "outputs": [
    {
     "name": "stdout",
     "output_type": "stream",
     "text": [
      "Epoch 1/30\n",
      "100/100 [==============================] - 63s 633ms/step - loss: 0.6934 - acc: 0.5165 - val_loss: 0.6882 - val_acc: 0.5000\n",
      "Epoch 2/30\n",
      "100/100 [==============================] - 68s 683ms/step - loss: 0.6822 - acc: 0.5600 - val_loss: 0.6723 - val_acc: 0.5870\n",
      "Epoch 3/30\n",
      "100/100 [==============================] - 66s 659ms/step - loss: 0.6770 - acc: 0.5750 - val_loss: 0.6572 - val_acc: 0.6080\n",
      "Epoch 4/30\n",
      "100/100 [==============================] - 66s 662ms/step - loss: 0.6615 - acc: 0.5900 - val_loss: 0.6431 - val_acc: 0.6110\n",
      "Epoch 5/30\n",
      "100/100 [==============================] - 66s 657ms/step - loss: 0.6529 - acc: 0.6135 - val_loss: 0.6370 - val_acc: 0.6470\n",
      "Epoch 6/30\n",
      "100/100 [==============================] - 93s 931ms/step - loss: 0.6275 - acc: 0.6470 - val_loss: 0.6304 - val_acc: 0.6320\n",
      "Epoch 7/30\n",
      "100/100 [==============================] - 71s 709ms/step - loss: 0.6248 - acc: 0.6510 - val_loss: 0.5977 - val_acc: 0.6770\n",
      "Epoch 8/30\n",
      "100/100 [==============================] - 67s 668ms/step - loss: 0.6168 - acc: 0.6630 - val_loss: 0.6397 - val_acc: 0.6140\n",
      "Epoch 9/30\n",
      "100/100 [==============================] - 69s 686ms/step - loss: 0.6000 - acc: 0.6770 - val_loss: 0.5793 - val_acc: 0.6840\n",
      "Epoch 10/30\n",
      "100/100 [==============================] - 69s 693ms/step - loss: 0.5921 - acc: 0.6835 - val_loss: 0.6538 - val_acc: 0.6420\n",
      "Epoch 11/30\n",
      "100/100 [==============================] - 71s 713ms/step - loss: 0.5822 - acc: 0.6970 - val_loss: 0.5791 - val_acc: 0.6910\n",
      "Epoch 12/30\n",
      "100/100 [==============================] - 69s 694ms/step - loss: 0.5873 - acc: 0.6900 - val_loss: 0.5843 - val_acc: 0.6880\n",
      "Epoch 13/30\n",
      "100/100 [==============================] - 71s 711ms/step - loss: 0.5740 - acc: 0.6950 - val_loss: 0.5747 - val_acc: 0.6870\n",
      "Epoch 14/30\n",
      "100/100 [==============================] - 70s 703ms/step - loss: 0.5723 - acc: 0.6990 - val_loss: 0.5308 - val_acc: 0.7260\n",
      "Epoch 15/30\n",
      "100/100 [==============================] - 70s 697ms/step - loss: 0.5672 - acc: 0.7115 - val_loss: 0.5362 - val_acc: 0.7190\n",
      "Epoch 16/30\n",
      "100/100 [==============================] - 72s 715ms/step - loss: 0.5572 - acc: 0.7145 - val_loss: 0.5355 - val_acc: 0.7300\n",
      "Epoch 17/30\n",
      "100/100 [==============================] - 70s 699ms/step - loss: 0.5589 - acc: 0.7115 - val_loss: 0.5147 - val_acc: 0.7400\n",
      "Epoch 18/30\n",
      "100/100 [==============================] - 70s 697ms/step - loss: 0.5404 - acc: 0.7250 - val_loss: 0.5136 - val_acc: 0.7500\n",
      "Epoch 19/30\n",
      "100/100 [==============================] - 69s 693ms/step - loss: 0.5575 - acc: 0.7155 - val_loss: 0.5239 - val_acc: 0.7360\n",
      "Epoch 20/30\n",
      "100/100 [==============================] - 77s 775ms/step - loss: 0.5427 - acc: 0.7235 - val_loss: 0.6018 - val_acc: 0.6720\n",
      "Epoch 21/30\n",
      "100/100 [==============================] - 71s 711ms/step - loss: 0.5366 - acc: 0.7215 - val_loss: 0.5047 - val_acc: 0.7520\n",
      "Epoch 22/30\n",
      "100/100 [==============================] - 74s 738ms/step - loss: 0.5326 - acc: 0.7290 - val_loss: 0.5087 - val_acc: 0.7510\n",
      "Epoch 23/30\n",
      "100/100 [==============================] - 71s 707ms/step - loss: 0.5334 - acc: 0.7435 - val_loss: 0.5249 - val_acc: 0.7290\n",
      "Epoch 24/30\n",
      "100/100 [==============================] - 69s 692ms/step - loss: 0.5307 - acc: 0.7335 - val_loss: 0.4935 - val_acc: 0.7570\n",
      "Epoch 25/30\n",
      "100/100 [==============================] - 72s 715ms/step - loss: 0.5270 - acc: 0.7405 - val_loss: 0.5487 - val_acc: 0.7140\n",
      "Epoch 26/30\n",
      "100/100 [==============================] - 74s 737ms/step - loss: 0.5375 - acc: 0.7195 - val_loss: 0.4844 - val_acc: 0.7670\n",
      "Epoch 27/30\n",
      "100/100 [==============================] - 73s 733ms/step - loss: 0.5219 - acc: 0.7375 - val_loss: 0.6297 - val_acc: 0.6890\n",
      "Epoch 28/30\n",
      "100/100 [==============================] - 71s 714ms/step - loss: 0.5239 - acc: 0.7370 - val_loss: 0.5034 - val_acc: 0.7580\n",
      "Epoch 29/30\n",
      "100/100 [==============================] - 70s 699ms/step - loss: 0.5199 - acc: 0.7375 - val_loss: 0.5351 - val_acc: 0.7280\n",
      "Epoch 30/30\n",
      "100/100 [==============================] - 70s 697ms/step - loss: 0.5074 - acc: 0.7450 - val_loss: 0.5411 - val_acc: 0.7470\n"
     ]
    }
   ],
   "source": [
    "history = model.fit_generator(\n",
    "        train_generator,\n",
    "        steps_per_epoch=100,\n",
    "        epochs=30,\n",
    "        validation_data=validation_generator,\n",
    "        validation_steps=50\n",
    ")"
   ]
  },
  {
   "cell_type": "code",
   "execution_count": 11,
   "metadata": {},
   "outputs": [
    {
     "name": "stdout",
     "output_type": "stream",
     "text": [
      "{'val_loss': [0.6882337343692779, 0.6723419547080993, 0.6571926164627075, 0.6430758821964264, 0.6369951486587524, 0.6303880286216735, 0.5976642870903015, 0.6396688014268875, 0.5793137794733048, 0.6538302052021027, 0.579148845076561, 0.5843131428956986, 0.5746945536136627, 0.5308331316709518, 0.5361846148967743, 0.5354888951778412, 0.514652606844902, 0.5135642349720001, 0.5239203864336014, 0.6017630666494369, 0.5046993052959442, 0.5086531865596772, 0.5249095886945725, 0.4934757298231125, 0.5487116032838821, 0.4844318151473999, 0.6296585482358933, 0.5034447479248046, 0.5350673443078995, 0.5411455619335175], 'val_acc': [0.5000000017881393, 0.5870000034570694, 0.6080000007152557, 0.6110000032186508, 0.6470000010728836, 0.6319999986886978, 0.6769999992847443, 0.6139999997615814, 0.6839999955892563, 0.6419999986886978, 0.6910000002384186, 0.6880000025033951, 0.6870000034570694, 0.7259999978542327, 0.719000004529953, 0.7300000011920929, 0.74, 0.7499999988079071, 0.7360000026226043, 0.6719999992847443, 0.7519999980926514, 0.7510000026226044, 0.7289999973773956, 0.757000002861023, 0.7140000027418136, 0.7669999992847443, 0.6890000009536743, 0.7580000007152558, 0.72799999833107, 0.7469999992847443], 'loss': [0.6934458285570144, 0.6822213757038117, 0.6770132213830948, 0.6614687025547028, 0.6529178380966186, 0.6274864381551742, 0.624770684838295, 0.6167608171701431, 0.5999944436550141, 0.5921215096116066, 0.5821691828966141, 0.5872752428054809, 0.5740469005703926, 0.5722812530398369, 0.5672325149178505, 0.557235524058342, 0.5588754200935364, 0.540367748439312, 0.5574831306934357, 0.5426649230718613, 0.5365805548429489, 0.5326301804184914, 0.5333862021565438, 0.5306797915697098, 0.5270465078949929, 0.5375486946105957, 0.5219274747371674, 0.52386244982481, 0.5199273231625557, 0.5074439233541489], 'acc': [0.516500000655651, 0.5600000008940696, 0.5750000020861625, 0.5900000005960464, 0.6135000029206276, 0.647000000178814, 0.6509999987483025, 0.6629999986290932, 0.6769999971985817, 0.6835000002384186, 0.6969999992847442, 0.6900000005960465, 0.6950000017881394, 0.6989999997615814, 0.7115000009536743, 0.714500002861023, 0.7114999997615814, 0.7250000017881394, 0.7154999992251396, 0.7234999996423721, 0.7214999985694885, 0.7290000015497208, 0.7434999996423721, 0.7335000002384185, 0.7404999977350235, 0.7195000052452087, 0.7375000011920929, 0.7370000019669533, 0.7375000011920929, 0.7450000023841858]}\n"
     ]
    }
   ],
   "source": [
    "print(history.history)"
   ]
  },
  {
   "cell_type": "code",
   "execution_count": 15,
   "metadata": {},
   "outputs": [
    {
     "data": {
      "image/png": "[encoded data removed]",
      "text/plain": [
       "<Figure size 432x288 with 1 Axes>"
      ]
     },
     "metadata": {},
     "output_type": "display_data"
    },
    {
     "data": {
      "image/png": "[encoded data removed]",
      "text/plain": [
       "<Figure size 432x288 with 1 Axes>"
      ]
     },
     "metadata": {},
     "output_type": "display_data"
    }
   ],
   "source": [
    "import matplotlib.pyplot as plt\n",
    "\n",
    "def plot_history(history):\n",
    "    plt.plot(history[\"acc\"], label=\"acc\")\n",
    "    plt.plot(history[\"val_acc\"], label=\"val_acc\")\n",
    "    plt.legend()\n",
    "    plt.show()\n",
    "    plt.close()\n",
    "    \n",
    "    plt.plot(history[\"loss\"], label=\"loss\")\n",
    "    plt.plot(history[\"val_loss\"], label=\"val_loss\")\n",
    "    plt.legend()\n",
    "    plt.show()\n",
    "    plt.close()\n",
    "\n",
    "plot_history(history.history)"
   ]
  }
 ],
 "metadata": {
  "kernelspec": {
   "display_name": "Python 3",
   "language": "python",
   "name": "python3"
  },
  "language_info": {
   "codemirror_mode": {
    "name": "ipython",
    "version": 3
   },
   "file_extension": ".py",
   "mimetype": "text/x-python",
   "name": "python",
   "nbconvert_exporter": "python",
   "pygments_lexer": "ipython3",
   "version": "3.6.5"
  }
 },
 "nbformat": 4,
 "nbformat_minor": 2
}
